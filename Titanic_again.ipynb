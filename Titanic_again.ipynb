{
 "cells": [
  {
   "cell_type": "markdown",
   "metadata": {},
   "source": [
    "#                       Detailed and In-depth analysis of Titanic [0.85074]"
   ]
  },
  {
   "cell_type": "code",
   "execution_count": 1,
   "metadata": {
    "collapsed": true
   },
   "outputs": [],
   "source": [
    "# Ignore warnings\n",
    "import warnings\n",
    "warnings.filterwarnings('ignore')\n",
    "\n",
    "# Handle table-like data and matrices\n",
    "import numpy as np\n",
    "import pandas as pd\n",
    "import math \n",
    "# Modelling Algorithms\n",
    "from sklearn.tree import DecisionTreeClassifier\n",
    "from sklearn.linear_model import LogisticRegression\n",
    "from sklearn.neighbors import KNeighborsClassifier\n",
    "from sklearn.naive_bayes import GaussianNB\n",
    "from sklearn.svm import SVC, LinearSVC\n",
    "from sklearn.ensemble import RandomForestClassifier , GradientBoostingClassifier\n",
    "from sklearn.metrics import accuracy_score\n",
    "\n",
    "# Modelling Helpers\n",
    "from sklearn.preprocessing import Imputer , Normalizer , scale\n",
    "from sklearn.model_selection import train_test_split\n",
    "from sklearn.feature_selection import RFECV\n",
    "\n",
    "# Visualisation\n",
    "import matplotlib as mpl\n",
    "import matplotlib.pyplot as plt\n",
    "import matplotlib.pylab as pylab\n",
    "import seaborn as sns\n",
    "\n",
    "# Configure visualisations\n",
    "%matplotlib inline\n",
    "mpl.style.use( 'ggplot' )\n",
    "sns.set_style( 'white' )\n",
    "pylab.rcParams[ 'figure.figsize' ] = 8 , 6"
   ]
  },
  {
   "cell_type": "code",
   "execution_count": 2,
   "metadata": {
    "collapsed": true
   },
   "outputs": [],
   "source": [
    "train = pd.read_csv(r\"F:\\Kaggle\\titanic\\train.csv\")\n",
    "test = pd.read_csv(r\"F:\\Kaggle\\titanic\\test.csv\")"
   ]
  },
  {
   "cell_type": "code",
   "execution_count": 3,
   "metadata": {},
   "outputs": [
    {
     "data": {
      "text/html": [
       "<div>\n",
       "<style scoped>\n",
       "    .dataframe tbody tr th:only-of-type {\n",
       "        vertical-align: middle;\n",
       "    }\n",
       "\n",
       "    .dataframe tbody tr th {\n",
       "        vertical-align: top;\n",
       "    }\n",
       "\n",
       "    .dataframe thead th {\n",
       "        text-align: right;\n",
       "    }\n",
       "</style>\n",
       "<table border=\"1\" class=\"dataframe\">\n",
       "  <thead>\n",
       "    <tr style=\"text-align: right;\">\n",
       "      <th></th>\n",
       "      <th>PassengerId</th>\n",
       "      <th>Survived</th>\n",
       "      <th>Pclass</th>\n",
       "      <th>Name</th>\n",
       "      <th>Sex</th>\n",
       "      <th>Age</th>\n",
       "      <th>SibSp</th>\n",
       "      <th>Parch</th>\n",
       "      <th>Ticket</th>\n",
       "      <th>Fare</th>\n",
       "      <th>Cabin</th>\n",
       "      <th>Embarked</th>\n",
       "    </tr>\n",
       "  </thead>\n",
       "  <tbody>\n",
       "    <tr>\n",
       "      <th>0</th>\n",
       "      <td>1</td>\n",
       "      <td>0</td>\n",
       "      <td>3</td>\n",
       "      <td>Braund, Mr. Owen Harris</td>\n",
       "      <td>male</td>\n",
       "      <td>22.0</td>\n",
       "      <td>1</td>\n",
       "      <td>0</td>\n",
       "      <td>A/5 21171</td>\n",
       "      <td>7.2500</td>\n",
       "      <td>NaN</td>\n",
       "      <td>S</td>\n",
       "    </tr>\n",
       "    <tr>\n",
       "      <th>1</th>\n",
       "      <td>2</td>\n",
       "      <td>1</td>\n",
       "      <td>1</td>\n",
       "      <td>Cumings, Mrs. John Bradley (Florence Briggs Th...</td>\n",
       "      <td>female</td>\n",
       "      <td>38.0</td>\n",
       "      <td>1</td>\n",
       "      <td>0</td>\n",
       "      <td>PC 17599</td>\n",
       "      <td>71.2833</td>\n",
       "      <td>C85</td>\n",
       "      <td>C</td>\n",
       "    </tr>\n",
       "    <tr>\n",
       "      <th>2</th>\n",
       "      <td>3</td>\n",
       "      <td>1</td>\n",
       "      <td>3</td>\n",
       "      <td>Heikkinen, Miss. Laina</td>\n",
       "      <td>female</td>\n",
       "      <td>26.0</td>\n",
       "      <td>0</td>\n",
       "      <td>0</td>\n",
       "      <td>STON/O2. 3101282</td>\n",
       "      <td>7.9250</td>\n",
       "      <td>NaN</td>\n",
       "      <td>S</td>\n",
       "    </tr>\n",
       "    <tr>\n",
       "      <th>3</th>\n",
       "      <td>4</td>\n",
       "      <td>1</td>\n",
       "      <td>1</td>\n",
       "      <td>Futrelle, Mrs. Jacques Heath (Lily May Peel)</td>\n",
       "      <td>female</td>\n",
       "      <td>35.0</td>\n",
       "      <td>1</td>\n",
       "      <td>0</td>\n",
       "      <td>113803</td>\n",
       "      <td>53.1000</td>\n",
       "      <td>C123</td>\n",
       "      <td>S</td>\n",
       "    </tr>\n",
       "    <tr>\n",
       "      <th>4</th>\n",
       "      <td>5</td>\n",
       "      <td>0</td>\n",
       "      <td>3</td>\n",
       "      <td>Allen, Mr. William Henry</td>\n",
       "      <td>male</td>\n",
       "      <td>35.0</td>\n",
       "      <td>0</td>\n",
       "      <td>0</td>\n",
       "      <td>373450</td>\n",
       "      <td>8.0500</td>\n",
       "      <td>NaN</td>\n",
       "      <td>S</td>\n",
       "    </tr>\n",
       "  </tbody>\n",
       "</table>\n",
       "</div>"
      ],
      "text/plain": [
       "   PassengerId  Survived  Pclass  \\\n",
       "0            1         0       3   \n",
       "1            2         1       1   \n",
       "2            3         1       3   \n",
       "3            4         1       1   \n",
       "4            5         0       3   \n",
       "\n",
       "                                                Name     Sex   Age  SibSp  \\\n",
       "0                            Braund, Mr. Owen Harris    male  22.0      1   \n",
       "1  Cumings, Mrs. John Bradley (Florence Briggs Th...  female  38.0      1   \n",
       "2                             Heikkinen, Miss. Laina  female  26.0      0   \n",
       "3       Futrelle, Mrs. Jacques Heath (Lily May Peel)  female  35.0      1   \n",
       "4                           Allen, Mr. William Henry    male  35.0      0   \n",
       "\n",
       "   Parch            Ticket     Fare Cabin Embarked  \n",
       "0      0         A/5 21171   7.2500   NaN        S  \n",
       "1      0          PC 17599  71.2833   C85        C  \n",
       "2      0  STON/O2. 3101282   7.9250   NaN        S  \n",
       "3      0            113803  53.1000  C123        S  \n",
       "4      0            373450   8.0500   NaN        S  "
      ]
     },
     "execution_count": 3,
     "metadata": {},
     "output_type": "execute_result"
    }
   ],
   "source": [
    "train.head()"
   ]
  },
  {
   "cell_type": "code",
   "execution_count": 4,
   "metadata": {},
   "outputs": [
    {
     "data": {
      "text/html": [
       "<div>\n",
       "<style scoped>\n",
       "    .dataframe tbody tr th:only-of-type {\n",
       "        vertical-align: middle;\n",
       "    }\n",
       "\n",
       "    .dataframe tbody tr th {\n",
       "        vertical-align: top;\n",
       "    }\n",
       "\n",
       "    .dataframe thead th {\n",
       "        text-align: right;\n",
       "    }\n",
       "</style>\n",
       "<table border=\"1\" class=\"dataframe\">\n",
       "  <thead>\n",
       "    <tr style=\"text-align: right;\">\n",
       "      <th></th>\n",
       "      <th>PassengerId</th>\n",
       "      <th>Pclass</th>\n",
       "      <th>Name</th>\n",
       "      <th>Sex</th>\n",
       "      <th>Age</th>\n",
       "      <th>SibSp</th>\n",
       "      <th>Parch</th>\n",
       "      <th>Ticket</th>\n",
       "      <th>Fare</th>\n",
       "      <th>Cabin</th>\n",
       "      <th>Embarked</th>\n",
       "    </tr>\n",
       "  </thead>\n",
       "  <tbody>\n",
       "    <tr>\n",
       "      <th>0</th>\n",
       "      <td>892</td>\n",
       "      <td>3</td>\n",
       "      <td>Kelly, Mr. James</td>\n",
       "      <td>male</td>\n",
       "      <td>34.5</td>\n",
       "      <td>0</td>\n",
       "      <td>0</td>\n",
       "      <td>330911</td>\n",
       "      <td>7.8292</td>\n",
       "      <td>NaN</td>\n",
       "      <td>Q</td>\n",
       "    </tr>\n",
       "    <tr>\n",
       "      <th>1</th>\n",
       "      <td>893</td>\n",
       "      <td>3</td>\n",
       "      <td>Wilkes, Mrs. James (Ellen Needs)</td>\n",
       "      <td>female</td>\n",
       "      <td>47.0</td>\n",
       "      <td>1</td>\n",
       "      <td>0</td>\n",
       "      <td>363272</td>\n",
       "      <td>7.0000</td>\n",
       "      <td>NaN</td>\n",
       "      <td>S</td>\n",
       "    </tr>\n",
       "    <tr>\n",
       "      <th>2</th>\n",
       "      <td>894</td>\n",
       "      <td>2</td>\n",
       "      <td>Myles, Mr. Thomas Francis</td>\n",
       "      <td>male</td>\n",
       "      <td>62.0</td>\n",
       "      <td>0</td>\n",
       "      <td>0</td>\n",
       "      <td>240276</td>\n",
       "      <td>9.6875</td>\n",
       "      <td>NaN</td>\n",
       "      <td>Q</td>\n",
       "    </tr>\n",
       "    <tr>\n",
       "      <th>3</th>\n",
       "      <td>895</td>\n",
       "      <td>3</td>\n",
       "      <td>Wirz, Mr. Albert</td>\n",
       "      <td>male</td>\n",
       "      <td>27.0</td>\n",
       "      <td>0</td>\n",
       "      <td>0</td>\n",
       "      <td>315154</td>\n",
       "      <td>8.6625</td>\n",
       "      <td>NaN</td>\n",
       "      <td>S</td>\n",
       "    </tr>\n",
       "    <tr>\n",
       "      <th>4</th>\n",
       "      <td>896</td>\n",
       "      <td>3</td>\n",
       "      <td>Hirvonen, Mrs. Alexander (Helga E Lindqvist)</td>\n",
       "      <td>female</td>\n",
       "      <td>22.0</td>\n",
       "      <td>1</td>\n",
       "      <td>1</td>\n",
       "      <td>3101298</td>\n",
       "      <td>12.2875</td>\n",
       "      <td>NaN</td>\n",
       "      <td>S</td>\n",
       "    </tr>\n",
       "  </tbody>\n",
       "</table>\n",
       "</div>"
      ],
      "text/plain": [
       "   PassengerId  Pclass                                          Name     Sex  \\\n",
       "0          892       3                              Kelly, Mr. James    male   \n",
       "1          893       3              Wilkes, Mrs. James (Ellen Needs)  female   \n",
       "2          894       2                     Myles, Mr. Thomas Francis    male   \n",
       "3          895       3                              Wirz, Mr. Albert    male   \n",
       "4          896       3  Hirvonen, Mrs. Alexander (Helga E Lindqvist)  female   \n",
       "\n",
       "    Age  SibSp  Parch   Ticket     Fare Cabin Embarked  \n",
       "0  34.5      0      0   330911   7.8292   NaN        Q  \n",
       "1  47.0      1      0   363272   7.0000   NaN        S  \n",
       "2  62.0      0      0   240276   9.6875   NaN        Q  \n",
       "3  27.0      0      0   315154   8.6625   NaN        S  \n",
       "4  22.0      1      1  3101298  12.2875   NaN        S  "
      ]
     },
     "execution_count": 4,
     "metadata": {},
     "output_type": "execute_result"
    }
   ],
   "source": [
    "test.head()"
   ]
  },
  {
   "cell_type": "code",
   "execution_count": 5,
   "metadata": {},
   "outputs": [
    {
     "data": {
      "text/html": [
       "<div>\n",
       "<style scoped>\n",
       "    .dataframe tbody tr th:only-of-type {\n",
       "        vertical-align: middle;\n",
       "    }\n",
       "\n",
       "    .dataframe tbody tr th {\n",
       "        vertical-align: top;\n",
       "    }\n",
       "\n",
       "    .dataframe thead th {\n",
       "        text-align: right;\n",
       "    }\n",
       "</style>\n",
       "<table border=\"1\" class=\"dataframe\">\n",
       "  <thead>\n",
       "    <tr style=\"text-align: right;\">\n",
       "      <th></th>\n",
       "      <th>PassengerId</th>\n",
       "      <th>Survived</th>\n",
       "      <th>Pclass</th>\n",
       "      <th>Age</th>\n",
       "      <th>SibSp</th>\n",
       "      <th>Parch</th>\n",
       "      <th>Fare</th>\n",
       "    </tr>\n",
       "  </thead>\n",
       "  <tbody>\n",
       "    <tr>\n",
       "      <th>count</th>\n",
       "      <td>891.000000</td>\n",
       "      <td>891.000000</td>\n",
       "      <td>891.000000</td>\n",
       "      <td>714.000000</td>\n",
       "      <td>891.000000</td>\n",
       "      <td>891.000000</td>\n",
       "      <td>891.000000</td>\n",
       "    </tr>\n",
       "    <tr>\n",
       "      <th>mean</th>\n",
       "      <td>446.000000</td>\n",
       "      <td>0.383838</td>\n",
       "      <td>2.308642</td>\n",
       "      <td>29.699118</td>\n",
       "      <td>0.523008</td>\n",
       "      <td>0.381594</td>\n",
       "      <td>32.204208</td>\n",
       "    </tr>\n",
       "    <tr>\n",
       "      <th>std</th>\n",
       "      <td>257.353842</td>\n",
       "      <td>0.486592</td>\n",
       "      <td>0.836071</td>\n",
       "      <td>14.526497</td>\n",
       "      <td>1.102743</td>\n",
       "      <td>0.806057</td>\n",
       "      <td>49.693429</td>\n",
       "    </tr>\n",
       "    <tr>\n",
       "      <th>min</th>\n",
       "      <td>1.000000</td>\n",
       "      <td>0.000000</td>\n",
       "      <td>1.000000</td>\n",
       "      <td>0.420000</td>\n",
       "      <td>0.000000</td>\n",
       "      <td>0.000000</td>\n",
       "      <td>0.000000</td>\n",
       "    </tr>\n",
       "    <tr>\n",
       "      <th>25%</th>\n",
       "      <td>223.500000</td>\n",
       "      <td>0.000000</td>\n",
       "      <td>2.000000</td>\n",
       "      <td>20.125000</td>\n",
       "      <td>0.000000</td>\n",
       "      <td>0.000000</td>\n",
       "      <td>7.910400</td>\n",
       "    </tr>\n",
       "    <tr>\n",
       "      <th>50%</th>\n",
       "      <td>446.000000</td>\n",
       "      <td>0.000000</td>\n",
       "      <td>3.000000</td>\n",
       "      <td>28.000000</td>\n",
       "      <td>0.000000</td>\n",
       "      <td>0.000000</td>\n",
       "      <td>14.454200</td>\n",
       "    </tr>\n",
       "    <tr>\n",
       "      <th>75%</th>\n",
       "      <td>668.500000</td>\n",
       "      <td>1.000000</td>\n",
       "      <td>3.000000</td>\n",
       "      <td>38.000000</td>\n",
       "      <td>1.000000</td>\n",
       "      <td>0.000000</td>\n",
       "      <td>31.000000</td>\n",
       "    </tr>\n",
       "    <tr>\n",
       "      <th>max</th>\n",
       "      <td>891.000000</td>\n",
       "      <td>1.000000</td>\n",
       "      <td>3.000000</td>\n",
       "      <td>80.000000</td>\n",
       "      <td>8.000000</td>\n",
       "      <td>6.000000</td>\n",
       "      <td>512.329200</td>\n",
       "    </tr>\n",
       "  </tbody>\n",
       "</table>\n",
       "</div>"
      ],
      "text/plain": [
       "       PassengerId    Survived      Pclass         Age       SibSp  \\\n",
       "count   891.000000  891.000000  891.000000  714.000000  891.000000   \n",
       "mean    446.000000    0.383838    2.308642   29.699118    0.523008   \n",
       "std     257.353842    0.486592    0.836071   14.526497    1.102743   \n",
       "min       1.000000    0.000000    1.000000    0.420000    0.000000   \n",
       "25%     223.500000    0.000000    2.000000   20.125000    0.000000   \n",
       "50%     446.000000    0.000000    3.000000   28.000000    0.000000   \n",
       "75%     668.500000    1.000000    3.000000   38.000000    1.000000   \n",
       "max     891.000000    1.000000    3.000000   80.000000    8.000000   \n",
       "\n",
       "            Parch        Fare  \n",
       "count  891.000000  891.000000  \n",
       "mean     0.381594   32.204208  \n",
       "std      0.806057   49.693429  \n",
       "min      0.000000    0.000000  \n",
       "25%      0.000000    7.910400  \n",
       "50%      0.000000   14.454200  \n",
       "75%      0.000000   31.000000  \n",
       "max      6.000000  512.329200  "
      ]
     },
     "execution_count": 5,
     "metadata": {},
     "output_type": "execute_result"
    }
   ],
   "source": [
    "train.describe()"
   ]
  },
  {
   "cell_type": "code",
   "execution_count": 6,
   "metadata": {
    "collapsed": true
   },
   "outputs": [],
   "source": [
    "df = train.copy()"
   ]
  },
  {
   "cell_type": "code",
   "execution_count": 7,
   "metadata": {},
   "outputs": [
    {
     "data": {
      "text/html": [
       "<div>\n",
       "<style scoped>\n",
       "    .dataframe tbody tr th:only-of-type {\n",
       "        vertical-align: middle;\n",
       "    }\n",
       "\n",
       "    .dataframe tbody tr th {\n",
       "        vertical-align: top;\n",
       "    }\n",
       "\n",
       "    .dataframe thead th {\n",
       "        text-align: right;\n",
       "    }\n",
       "</style>\n",
       "<table border=\"1\" class=\"dataframe\">\n",
       "  <thead>\n",
       "    <tr style=\"text-align: right;\">\n",
       "      <th></th>\n",
       "      <th>PassengerId</th>\n",
       "      <th>Survived</th>\n",
       "      <th>Pclass</th>\n",
       "      <th>Name</th>\n",
       "      <th>Sex</th>\n",
       "      <th>Age</th>\n",
       "      <th>SibSp</th>\n",
       "      <th>Parch</th>\n",
       "      <th>Ticket</th>\n",
       "      <th>Fare</th>\n",
       "      <th>Cabin</th>\n",
       "      <th>Embarked</th>\n",
       "    </tr>\n",
       "  </thead>\n",
       "  <tbody>\n",
       "    <tr>\n",
       "      <th>0</th>\n",
       "      <td>1</td>\n",
       "      <td>0</td>\n",
       "      <td>3</td>\n",
       "      <td>Braund, Mr. Owen Harris</td>\n",
       "      <td>male</td>\n",
       "      <td>22.0</td>\n",
       "      <td>1</td>\n",
       "      <td>0</td>\n",
       "      <td>A/5 21171</td>\n",
       "      <td>7.2500</td>\n",
       "      <td>NaN</td>\n",
       "      <td>S</td>\n",
       "    </tr>\n",
       "    <tr>\n",
       "      <th>1</th>\n",
       "      <td>2</td>\n",
       "      <td>1</td>\n",
       "      <td>1</td>\n",
       "      <td>Cumings, Mrs. John Bradley (Florence Briggs Th...</td>\n",
       "      <td>female</td>\n",
       "      <td>38.0</td>\n",
       "      <td>1</td>\n",
       "      <td>0</td>\n",
       "      <td>PC 17599</td>\n",
       "      <td>71.2833</td>\n",
       "      <td>C85</td>\n",
       "      <td>C</td>\n",
       "    </tr>\n",
       "    <tr>\n",
       "      <th>2</th>\n",
       "      <td>3</td>\n",
       "      <td>1</td>\n",
       "      <td>3</td>\n",
       "      <td>Heikkinen, Miss. Laina</td>\n",
       "      <td>female</td>\n",
       "      <td>26.0</td>\n",
       "      <td>0</td>\n",
       "      <td>0</td>\n",
       "      <td>STON/O2. 3101282</td>\n",
       "      <td>7.9250</td>\n",
       "      <td>NaN</td>\n",
       "      <td>S</td>\n",
       "    </tr>\n",
       "    <tr>\n",
       "      <th>3</th>\n",
       "      <td>4</td>\n",
       "      <td>1</td>\n",
       "      <td>1</td>\n",
       "      <td>Futrelle, Mrs. Jacques Heath (Lily May Peel)</td>\n",
       "      <td>female</td>\n",
       "      <td>35.0</td>\n",
       "      <td>1</td>\n",
       "      <td>0</td>\n",
       "      <td>113803</td>\n",
       "      <td>53.1000</td>\n",
       "      <td>C123</td>\n",
       "      <td>S</td>\n",
       "    </tr>\n",
       "    <tr>\n",
       "      <th>4</th>\n",
       "      <td>5</td>\n",
       "      <td>0</td>\n",
       "      <td>3</td>\n",
       "      <td>Allen, Mr. William Henry</td>\n",
       "      <td>male</td>\n",
       "      <td>35.0</td>\n",
       "      <td>0</td>\n",
       "      <td>0</td>\n",
       "      <td>373450</td>\n",
       "      <td>8.0500</td>\n",
       "      <td>NaN</td>\n",
       "      <td>S</td>\n",
       "    </tr>\n",
       "  </tbody>\n",
       "</table>\n",
       "</div>"
      ],
      "text/plain": [
       "   PassengerId  Survived  Pclass  \\\n",
       "0            1         0       3   \n",
       "1            2         1       1   \n",
       "2            3         1       3   \n",
       "3            4         1       1   \n",
       "4            5         0       3   \n",
       "\n",
       "                                                Name     Sex   Age  SibSp  \\\n",
       "0                            Braund, Mr. Owen Harris    male  22.0      1   \n",
       "1  Cumings, Mrs. John Bradley (Florence Briggs Th...  female  38.0      1   \n",
       "2                             Heikkinen, Miss. Laina  female  26.0      0   \n",
       "3       Futrelle, Mrs. Jacques Heath (Lily May Peel)  female  35.0      1   \n",
       "4                           Allen, Mr. William Henry    male  35.0      0   \n",
       "\n",
       "   Parch            Ticket     Fare Cabin Embarked  \n",
       "0      0         A/5 21171   7.2500   NaN        S  \n",
       "1      0          PC 17599  71.2833   C85        C  \n",
       "2      0  STON/O2. 3101282   7.9250   NaN        S  \n",
       "3      0            113803  53.1000  C123        S  \n",
       "4      0            373450   8.0500   NaN        S  "
      ]
     },
     "execution_count": 7,
     "metadata": {},
     "output_type": "execute_result"
    }
   ],
   "source": [
    "df.head()"
   ]
  },
  {
   "cell_type": "code",
   "execution_count": 8,
   "metadata": {
    "collapsed": true
   },
   "outputs": [],
   "source": [
    "# from train.describe() it is evident that only 38.38 % of the population on the ship survived , rest died"
   ]
  },
  {
   "cell_type": "code",
   "execution_count": 9,
   "metadata": {},
   "outputs": [
    {
     "data": {
      "text/plain": [
       "PassengerId    109\n",
       "Survived       109\n",
       "Pclass         109\n",
       "Name           109\n",
       "Sex            109\n",
       "Age             93\n",
       "SibSp          109\n",
       "Parch          109\n",
       "Ticket         109\n",
       "Fare           109\n",
       "Cabin           45\n",
       "Embarked       109\n",
       "dtype: int64"
      ]
     },
     "execution_count": 9,
     "metadata": {},
     "output_type": "execute_result"
    }
   ],
   "source": [
    "df.loc[(df.Survived == 1) & (df.Sex == \"male\") , :].count()"
   ]
  },
  {
   "cell_type": "code",
   "execution_count": 10,
   "metadata": {
    "collapsed": true
   },
   "outputs": [],
   "source": [
    "# there were 109 males across the ship who survived that accident"
   ]
  },
  {
   "cell_type": "code",
   "execution_count": 11,
   "metadata": {},
   "outputs": [
    {
     "data": {
      "text/plain": [
       "PassengerId    233\n",
       "Survived       233\n",
       "Pclass         233\n",
       "Name           233\n",
       "Sex            233\n",
       "Age            197\n",
       "SibSp          233\n",
       "Parch          233\n",
       "Ticket         233\n",
       "Fare           233\n",
       "Cabin           91\n",
       "Embarked       231\n",
       "dtype: int64"
      ]
     },
     "execution_count": 11,
     "metadata": {},
     "output_type": "execute_result"
    }
   ],
   "source": [
    "df.loc[(df.Survived == 1) & (df.Sex == \"female\") , :].count()"
   ]
  },
  {
   "cell_type": "code",
   "execution_count": 12,
   "metadata": {
    "collapsed": true
   },
   "outputs": [],
   "source": [
    "# there were 233 females across the ship who survived that accident\n",
    "# look the following graph"
   ]
  },
  {
   "cell_type": "code",
   "execution_count": 13,
   "metadata": {},
   "outputs": [
    {
     "data": {
      "image/png": "[encoded data removed]",
      "text/plain": [
       "<matplotlib.figure.Figure at 0x1b92dcdc898>"
      ]
     },
     "metadata": {},
     "output_type": "display_data"
    }
   ],
   "source": [
    "sns.factorplot(x=\"Sex\",col=\"Survived\", data=df , kind=\"count\",size=4, aspect=.7);"
   ]
  },
  {
   "cell_type": "code",
   "execution_count": 14,
   "metadata": {
    "collapsed": true
   },
   "outputs": [],
   "source": [
    "# this gives us the idea that males died more and females survived more"
   ]
  },
  {
   "cell_type": "code",
   "execution_count": 15,
   "metadata": {
    "collapsed": true
   },
   "outputs": [],
   "source": [
    "# similarly"
   ]
  },
  {
   "cell_type": "code",
   "execution_count": 16,
   "metadata": {},
   "outputs": [
    {
     "data": {
      "image/png": "[encoded data removed]",
      "text/plain": [
       "<matplotlib.figure.Figure at 0x1b92dcdccf8>"
      ]
     },
     "metadata": {},
     "output_type": "display_data"
    }
   ],
   "source": [
    "sns.factorplot(x=\"Sex\", hue = \"Pclass\" , col=\"Survived\", data=df , kind=\"count\",size=6, aspect=.7);"
   ]
  },
  {
   "cell_type": "markdown",
   "metadata": {
    "collapsed": true
   },
   "source": [
    "#### overall the males and females of Pclass 3 died more than others\n",
    "#### the males of Pclass 3 showed a remarkable increase in death and shoots the graph up , same goes to the females in\n",
    "#### same goes to the females in survived = 0\n",
    "#### in survived = 0 , showing increasing trend in death as class shifts down"
   ]
  },
  {
   "cell_type": "markdown",
   "metadata": {
    "collapsed": true
   },
   "source": [
    "#### In survived = 1 females showed a near fall down trend as expected but pclass=2 females survived less than the Pclass=3 females"
   ]
  },
  {
   "cell_type": "markdown",
   "metadata": {
    "collapsed": true
   },
   "source": [
    "#### But the males on contrary showed a dip in between i.e. \n",
    "#### in males who survived , Plass -->  3 > 1 > 2\n",
    "\n",
    "\n",
    "#### i.e Survived Pclass=3 males survived more than the survived Pclass=1 males and survived Pclass=2 males\n",
    "#### the above is evident from the following inspection\n",
    "#### although survived male Plass = 3 is slightly greater than survived male Plass = 1"
   ]
  },
  {
   "cell_type": "code",
   "execution_count": 17,
   "metadata": {},
   "outputs": [
    {
     "data": {
      "text/plain": [
       "PassengerId    45\n",
       "Survived       45\n",
       "Pclass         45\n",
       "Name           45\n",
       "Sex            45\n",
       "Age            40\n",
       "SibSp          45\n",
       "Parch          45\n",
       "Ticket         45\n",
       "Fare           45\n",
       "Cabin          39\n",
       "Embarked       45\n",
       "dtype: int64"
      ]
     },
     "execution_count": 17,
     "metadata": {},
     "output_type": "execute_result"
    }
   ],
   "source": [
    "df.loc[(df.Survived == 1) & (df.Sex == \"male\") & (df.Pclass == 1)].count()"
   ]
  },
  {
   "cell_type": "code",
   "execution_count": 18,
   "metadata": {},
   "outputs": [
    {
     "data": {
      "text/plain": [
       "PassengerId    17\n",
       "Survived       17\n",
       "Pclass         17\n",
       "Name           17\n",
       "Sex            17\n",
       "Age            15\n",
       "SibSp          17\n",
       "Parch          17\n",
       "Ticket         17\n",
       "Fare           17\n",
       "Cabin           4\n",
       "Embarked       17\n",
       "dtype: int64"
      ]
     },
     "execution_count": 18,
     "metadata": {},
     "output_type": "execute_result"
    }
   ],
   "source": [
    "df.loc[(df.Survived == 1) & (df.Sex == \"male\") & (df.Pclass == 2) , :].count()"
   ]
  },
  {
   "cell_type": "code",
   "execution_count": 19,
   "metadata": {},
   "outputs": [
    {
     "data": {
      "text/plain": [
       "PassengerId    47\n",
       "Survived       47\n",
       "Pclass         47\n",
       "Name           47\n",
       "Sex            47\n",
       "Age            38\n",
       "SibSp          47\n",
       "Parch          47\n",
       "Ticket         47\n",
       "Fare           47\n",
       "Cabin           2\n",
       "Embarked       47\n",
       "dtype: int64"
      ]
     },
     "execution_count": 19,
     "metadata": {},
     "output_type": "execute_result"
    }
   ],
   "source": [
    "df.loc[(df.Survived == 1) & (df.Sex == \"male\") & (df.Pclass == 3) , :].count()"
   ]
  },
  {
   "cell_type": "code",
   "execution_count": 20,
   "metadata": {},
   "outputs": [
    {
     "data": {
      "text/html": [
       "<style  type=\"text/css\" >\n",
       "    #T_7cdd4adc_1575_11e8_8b91_809648ae3d8crow0_col0 {\n",
       "            background-color:  #ffff00;\n",
       "        }    #T_7cdd4adc_1575_11e8_8b91_809648ae3d8crow0_col1 {\n",
       "            background-color:  #ffce00;\n",
       "        }    #T_7cdd4adc_1575_11e8_8b91_809648ae3d8crow0_col2 {\n",
       "            background-color:  #fff400;\n",
       "        }    #T_7cdd4adc_1575_11e8_8b91_809648ae3d8crow1_col0 {\n",
       "            background-color:  #fff600;\n",
       "        }    #T_7cdd4adc_1575_11e8_8b91_809648ae3d8crow1_col1 {\n",
       "            background-color:  #ffff00;\n",
       "        }    #T_7cdd4adc_1575_11e8_8b91_809648ae3d8crow1_col2 {\n",
       "            background-color:  #ffff00;\n",
       "        }    #T_7cdd4adc_1575_11e8_8b91_809648ae3d8crow2_col0 {\n",
       "            background-color:  #ff6000;\n",
       "        }    #T_7cdd4adc_1575_11e8_8b91_809648ae3d8crow2_col1 {\n",
       "            background-color:  #ffdf00;\n",
       "        }    #T_7cdd4adc_1575_11e8_8b91_809648ae3d8crow2_col2 {\n",
       "            background-color:  #ff9000;\n",
       "        }    #T_7cdd4adc_1575_11e8_8b91_809648ae3d8crow3_col0 {\n",
       "            background-color:  #ff0000;\n",
       "        }    #T_7cdd4adc_1575_11e8_8b91_809648ae3d8crow3_col1 {\n",
       "            background-color:  #ff0000;\n",
       "        }    #T_7cdd4adc_1575_11e8_8b91_809648ae3d8crow3_col2 {\n",
       "            background-color:  #ff0000;\n",
       "        }</style>  \n",
       "<table id=\"T_7cdd4adc_1575_11e8_8b91_809648ae3d8c\" > \n",
       "<thead>    <tr> \n",
       "        <th class=\"index_name level0\" >Survived</th> \n",
       "        <th class=\"col_heading level0 col0\" >0</th> \n",
       "        <th class=\"col_heading level0 col1\" >1</th> \n",
       "        <th class=\"col_heading level0 col2\" >All</th> \n",
       "    </tr>    <tr> \n",
       "        <th class=\"index_name level0\" >Pclass</th> \n",
       "        <th class=\"blank\" ></th> \n",
       "        <th class=\"blank\" ></th> \n",
       "        <th class=\"blank\" ></th> \n",
       "    </tr></thead> \n",
       "<tbody>    <tr> \n",
       "        <th id=\"T_7cdd4adc_1575_11e8_8b91_809648ae3d8clevel0_row0\" class=\"row_heading level0 row0\" >1</th> \n",
       "        <td id=\"T_7cdd4adc_1575_11e8_8b91_809648ae3d8crow0_col0\" class=\"data row0 col0\" >80</td> \n",
       "        <td id=\"T_7cdd4adc_1575_11e8_8b91_809648ae3d8crow0_col1\" class=\"data row0 col1\" >136</td> \n",
       "        <td id=\"T_7cdd4adc_1575_11e8_8b91_809648ae3d8crow0_col2\" class=\"data row0 col2\" >216</td> \n",
       "    </tr>    <tr> \n",
       "        <th id=\"T_7cdd4adc_1575_11e8_8b91_809648ae3d8clevel0_row1\" class=\"row_heading level0 row1\" >2</th> \n",
       "        <td id=\"T_7cdd4adc_1575_11e8_8b91_809648ae3d8crow1_col0\" class=\"data row1 col0\" >97</td> \n",
       "        <td id=\"T_7cdd4adc_1575_11e8_8b91_809648ae3d8crow1_col1\" class=\"data row1 col1\" >87</td> \n",
       "        <td id=\"T_7cdd4adc_1575_11e8_8b91_809648ae3d8crow1_col2\" class=\"data row1 col2\" >184</td> \n",
       "    </tr>    <tr> \n",
       "        <th id=\"T_7cdd4adc_1575_11e8_8b91_809648ae3d8clevel0_row2\" class=\"row_heading level0 row2\" >3</th> \n",
       "        <td id=\"T_7cdd4adc_1575_11e8_8b91_809648ae3d8crow2_col0\" class=\"data row2 col0\" >372</td> \n",
       "        <td id=\"T_7cdd4adc_1575_11e8_8b91_809648ae3d8crow2_col1\" class=\"data row2 col1\" >119</td> \n",
       "        <td id=\"T_7cdd4adc_1575_11e8_8b91_809648ae3d8crow2_col2\" class=\"data row2 col2\" >491</td> \n",
       "    </tr>    <tr> \n",
       "        <th id=\"T_7cdd4adc_1575_11e8_8b91_809648ae3d8clevel0_row3\" class=\"row_heading level0 row3\" >All</th> \n",
       "        <td id=\"T_7cdd4adc_1575_11e8_8b91_809648ae3d8crow3_col0\" class=\"data row3 col0\" >549</td> \n",
       "        <td id=\"T_7cdd4adc_1575_11e8_8b91_809648ae3d8crow3_col1\" class=\"data row3 col1\" >342</td> \n",
       "        <td id=\"T_7cdd4adc_1575_11e8_8b91_809648ae3d8crow3_col2\" class=\"data row3 col2\" >891</td> \n",
       "    </tr></tbody> \n",
       "</table> "
      ],
      "text/plain": [
       "<pandas.io.formats.style.Styler at 0x1b92dfedef0>"
      ]
     },
     "execution_count": 20,
     "metadata": {},
     "output_type": "execute_result"
    }
   ],
   "source": [
    "pd.crosstab(df.Pclass, df.Survived, margins=True).style.background_gradient(cmap='autumn_r')"
   ]
  },
  {
   "cell_type": "code",
   "execution_count": 21,
   "metadata": {
    "collapsed": true
   },
   "outputs": [],
   "source": [
    "# All in all including both the sexes 2nd class survived less than the other two clases"
   ]
  },
  {
   "cell_type": "code",
   "execution_count": 22,
   "metadata": {},
   "outputs": [
    {
     "data": {
      "text/plain": [
       "0.62962962962962965"
      ]
     },
     "execution_count": 22,
     "metadata": {},
     "output_type": "execute_result"
    }
   ],
   "source": [
    "df.Survived[df.Pclass == 1].sum()/df[df.Pclass == 1].Survived.count()"
   ]
  },
  {
   "cell_type": "code",
   "execution_count": 23,
   "metadata": {},
   "outputs": [
    {
     "data": {
      "text/plain": [
       "0.47282608695652173"
      ]
     },
     "execution_count": 23,
     "metadata": {},
     "output_type": "execute_result"
    }
   ],
   "source": [
    "df.Survived[df.Pclass == 2].sum()/df[df.Pclass == 2].Survived.count()"
   ]
  },
  {
   "cell_type": "code",
   "execution_count": 24,
   "metadata": {},
   "outputs": [
    {
     "data": {
      "text/plain": [
       "0.24236252545824846"
      ]
     },
     "execution_count": 24,
     "metadata": {},
     "output_type": "execute_result"
    }
   ],
   "source": [
    "df.Survived[df.Pclass == 3].sum()/df[df.Pclass == 3].Survived.count()"
   ]
  },
  {
   "cell_type": "code",
   "execution_count": 25,
   "metadata": {
    "collapsed": true
   },
   "outputs": [],
   "source": [
    "# % survived in Pclass = 1  --> 62.96 %  , similarly calculated for others"
   ]
  },
  {
   "cell_type": "code",
   "execution_count": 26,
   "metadata": {},
   "outputs": [
    {
     "data": {
      "text/plain": [
       "<seaborn.axisgrid.FacetGrid at 0x1b92e16f4e0>"
      ]
     },
     "execution_count": 26,
     "metadata": {},
     "output_type": "execute_result"
    },
    {
     "data": {
      "image/png": "[encoded data removed]",
      "text/plain": [
       "<matplotlib.figure.Figure at 0x1b92e16f390>"
      ]
     },
     "metadata": {},
     "output_type": "display_data"
    }
   ],
   "source": [
    "sns.factorplot(x='Pclass',y='Survived', kind=\"point\" ,data=df)"
   ]
  },
  {
   "cell_type": "code",
   "execution_count": 27,
   "metadata": {},
   "outputs": [
    {
     "data": {
      "text/plain": [
       "<seaborn.axisgrid.FacetGrid at 0x1b92e1084e0>"
      ]
     },
     "execution_count": 27,
     "metadata": {},
     "output_type": "execute_result"
    },
    {
     "data": {
      "image/png": "[encoded data removed]",
      "text/plain": [
       "<matplotlib.figure.Figure at 0x1b92e108208>"
      ]
     },
     "metadata": {},
     "output_type": "display_data"
    }
   ],
   "source": [
    "sns.factorplot('Pclass','Survived',kind=\"bar\",hue='Sex',data=df)"
   ]
  },
  {
   "cell_type": "code",
   "execution_count": 28,
   "metadata": {
    "collapsed": true
   },
   "outputs": [],
   "source": [
    "# A cross-tabulation to further inspect"
   ]
  },
  {
   "cell_type": "code",
   "execution_count": 29,
   "metadata": {},
   "outputs": [
    {
     "data": {
      "text/html": [
       "<style  type=\"text/css\" >\n",
       "    #T_7ea249cc_1575_11e8_a29c_809648ae3d8crow0_col0 {\n",
       "            background-color:  #ffff00;\n",
       "        }    #T_7ea249cc_1575_11e8_a29c_809648ae3d8crow0_col1 {\n",
       "            background-color:  #ffff00;\n",
       "        }    #T_7ea249cc_1575_11e8_a29c_809648ae3d8crow0_col2 {\n",
       "            background-color:  #fff100;\n",
       "        }    #T_7ea249cc_1575_11e8_a29c_809648ae3d8crow0_col3 {\n",
       "            background-color:  #ffff00;\n",
       "        }    #T_7ea249cc_1575_11e8_a29c_809648ae3d8crow1_col0 {\n",
       "            background-color:  #ff9600;\n",
       "        }    #T_7ea249cc_1575_11e8_a29c_809648ae3d8crow1_col1 {\n",
       "            background-color:  #ffa300;\n",
       "        }    #T_7ea249cc_1575_11e8_a29c_809648ae3d8crow1_col2 {\n",
       "            background-color:  #fff100;\n",
       "        }    #T_7ea249cc_1575_11e8_a29c_809648ae3d8crow1_col3 {\n",
       "            background-color:  #ffcf00;\n",
       "        }    #T_7ea249cc_1575_11e8_a29c_809648ae3d8crow2_col0 {\n",
       "            background-color:  #ffa700;\n",
       "        }    #T_7ea249cc_1575_11e8_a29c_809648ae3d8crow2_col1 {\n",
       "            background-color:  #ff8500;\n",
       "        }    #T_7ea249cc_1575_11e8_a29c_809648ae3d8crow2_col2 {\n",
       "            background-color:  #ff6e00;\n",
       "        }    #T_7ea249cc_1575_11e8_a29c_809648ae3d8crow2_col3 {\n",
       "            background-color:  #ff8500;\n",
       "        }    #T_7ea249cc_1575_11e8_a29c_809648ae3d8crow3_col0 {\n",
       "            background-color:  #ffcd00;\n",
       "        }    #T_7ea249cc_1575_11e8_a29c_809648ae3d8crow3_col1 {\n",
       "            background-color:  #fff000;\n",
       "        }    #T_7ea249cc_1575_11e8_a29c_809648ae3d8crow3_col2 {\n",
       "            background-color:  #ffff00;\n",
       "        }    #T_7ea249cc_1575_11e8_a29c_809648ae3d8crow3_col3 {\n",
       "            background-color:  #fff700;\n",
       "        }    #T_7ea249cc_1575_11e8_a29c_809648ae3d8crow4_col0 {\n",
       "            background-color:  #ff0000;\n",
       "        }    #T_7ea249cc_1575_11e8_a29c_809648ae3d8crow4_col1 {\n",
       "            background-color:  #ff0000;\n",
       "        }    #T_7ea249cc_1575_11e8_a29c_809648ae3d8crow4_col2 {\n",
       "            background-color:  #ff0000;\n",
       "        }    #T_7ea249cc_1575_11e8_a29c_809648ae3d8crow4_col3 {\n",
       "            background-color:  #ff0000;\n",
       "        }</style>  \n",
       "<table id=\"T_7ea249cc_1575_11e8_a29c_809648ae3d8c\" > \n",
       "<thead>    <tr> \n",
       "        <th class=\"blank\" ></th> \n",
       "        <th class=\"index_name level0\" >Pclass</th> \n",
       "        <th class=\"col_heading level0 col0\" >1</th> \n",
       "        <th class=\"col_heading level0 col1\" >2</th> \n",
       "        <th class=\"col_heading level0 col2\" >3</th> \n",
       "        <th class=\"col_heading level0 col3\" >All</th> \n",
       "    </tr>    <tr> \n",
       "        <th class=\"index_name level0\" >Sex</th> \n",
       "        <th class=\"index_name level1\" >Survived</th> \n",
       "        <th class=\"blank\" ></th> \n",
       "        <th class=\"blank\" ></th> \n",
       "        <th class=\"blank\" ></th> \n",
       "        <th class=\"blank\" ></th> \n",
       "    </tr></thead> \n",
       "<tbody>    <tr> \n",
       "        <th id=\"T_7ea249cc_1575_11e8_a29c_809648ae3d8clevel0_row0\" class=\"row_heading level0 row0\" rowspan=2>female</th> \n",
       "        <th id=\"T_7ea249cc_1575_11e8_a29c_809648ae3d8clevel1_row0\" class=\"row_heading level1 row0\" >0</th> \n",
       "        <td id=\"T_7ea249cc_1575_11e8_a29c_809648ae3d8crow0_col0\" class=\"data row0 col0\" >3</td> \n",
       "        <td id=\"T_7ea249cc_1575_11e8_a29c_809648ae3d8crow0_col1\" class=\"data row0 col1\" >6</td> \n",
       "        <td id=\"T_7ea249cc_1575_11e8_a29c_809648ae3d8crow0_col2\" class=\"data row0 col2\" >72</td> \n",
       "        <td id=\"T_7ea249cc_1575_11e8_a29c_809648ae3d8crow0_col3\" class=\"data row0 col3\" >81</td> \n",
       "    </tr>    <tr> \n",
       "        <th id=\"T_7ea249cc_1575_11e8_a29c_809648ae3d8clevel1_row1\" class=\"row_heading level1 row1\" >1</th> \n",
       "        <td id=\"T_7ea249cc_1575_11e8_a29c_809648ae3d8crow1_col0\" class=\"data row1 col0\" >91</td> \n",
       "        <td id=\"T_7ea249cc_1575_11e8_a29c_809648ae3d8crow1_col1\" class=\"data row1 col1\" >70</td> \n",
       "        <td id=\"T_7ea249cc_1575_11e8_a29c_809648ae3d8crow1_col2\" class=\"data row1 col2\" >72</td> \n",
       "        <td id=\"T_7ea249cc_1575_11e8_a29c_809648ae3d8crow1_col3\" class=\"data row1 col3\" >233</td> \n",
       "    </tr>    <tr> \n",
       "        <th id=\"T_7ea249cc_1575_11e8_a29c_809648ae3d8clevel0_row2\" class=\"row_heading level0 row2\" rowspan=2>male</th> \n",
       "        <th id=\"T_7ea249cc_1575_11e8_a29c_809648ae3d8clevel1_row2\" class=\"row_heading level1 row2\" >0</th> \n",
       "        <td id=\"T_7ea249cc_1575_11e8_a29c_809648ae3d8crow2_col0\" class=\"data row2 col0\" >77</td> \n",
       "        <td id=\"T_7ea249cc_1575_11e8_a29c_809648ae3d8crow2_col1\" class=\"data row2 col1\" >91</td> \n",
       "        <td id=\"T_7ea249cc_1575_11e8_a29c_809648ae3d8crow2_col2\" class=\"data row2 col2\" >300</td> \n",
       "        <td id=\"T_7ea249cc_1575_11e8_a29c_809648ae3d8crow2_col3\" class=\"data row2 col3\" >468</td> \n",
       "    </tr>    <tr> \n",
       "        <th id=\"T_7ea249cc_1575_11e8_a29c_809648ae3d8clevel1_row3\" class=\"row_heading level1 row3\" >1</th> \n",
       "        <td id=\"T_7ea249cc_1575_11e8_a29c_809648ae3d8crow3_col0\" class=\"data row3 col0\" >45</td> \n",
       "        <td id=\"T_7ea249cc_1575_11e8_a29c_809648ae3d8crow3_col1\" class=\"data row3 col1\" >17</td> \n",
       "        <td id=\"T_7ea249cc_1575_11e8_a29c_809648ae3d8crow3_col2\" class=\"data row3 col2\" >47</td> \n",
       "        <td id=\"T_7ea249cc_1575_11e8_a29c_809648ae3d8crow3_col3\" class=\"data row3 col3\" >109</td> \n",
       "    </tr>    <tr> \n",
       "        <th id=\"T_7ea249cc_1575_11e8_a29c_809648ae3d8clevel0_row4\" class=\"row_heading level0 row4\" >All</th> \n",
       "        <th id=\"T_7ea249cc_1575_11e8_a29c_809648ae3d8clevel1_row4\" class=\"row_heading level1 row4\" ></th> \n",
       "        <td id=\"T_7ea249cc_1575_11e8_a29c_809648ae3d8crow4_col0\" class=\"data row4 col0\" >216</td> \n",
       "        <td id=\"T_7ea249cc_1575_11e8_a29c_809648ae3d8crow4_col1\" class=\"data row4 col1\" >184</td> \n",
       "        <td id=\"T_7ea249cc_1575_11e8_a29c_809648ae3d8crow4_col2\" class=\"data row4 col2\" >491</td> \n",
       "        <td id=\"T_7ea249cc_1575_11e8_a29c_809648ae3d8crow4_col3\" class=\"data row4 col3\" >891</td> \n",
       "    </tr></tbody> \n",
       "</table> "
      ],
      "text/plain": [
       "<pandas.io.formats.style.Styler at 0x1b92e13e390>"
      ]
     },
     "execution_count": 29,
     "metadata": {},
     "output_type": "execute_result"
    }
   ],
   "source": [
    "pd.crosstab([df.Sex, df.Survived], df.Pclass, margins=True).style.background_gradient(cmap='autumn_r')"
   ]
  },
  {
   "cell_type": "code",
   "execution_count": 30,
   "metadata": {
    "collapsed": true
   },
   "outputs": [],
   "source": [
    "# Almost all women in Pclass 1 and 2 survived and nearly all men in Pclass 2 and 3 died"
   ]
  },
  {
   "cell_type": "code",
   "execution_count": 31,
   "metadata": {
    "collapsed": true
   },
   "outputs": [],
   "source": [
    "# lets see how survivals varies with Embarked"
   ]
  },
  {
   "cell_type": "code",
   "execution_count": 32,
   "metadata": {},
   "outputs": [
    {
     "data": {
      "image/png": "[encoded data removed]",
      "text/plain": [
       "<matplotlib.figure.Figure at 0x1b92e143828>"
      ]
     },
     "metadata": {},
     "output_type": "display_data"
    }
   ],
   "source": [
    "sns.factorplot(x=\"Survived\",col=\"Embarked\",data=df ,hue=\"Pclass\", kind=\"count\",size=5, aspect=.7);"
   ]
  },
  {
   "cell_type": "code",
   "execution_count": 33,
   "metadata": {
    "collapsed": true
   },
   "outputs": [],
   "source": [
    "# this shows that those who were embarked S survived more than those who were survived C and then Q\n",
    "# Most of the people who died were embarked S"
   ]
  },
  {
   "cell_type": "code",
   "execution_count": 34,
   "metadata": {
    "collapsed": true
   },
   "outputs": [],
   "source": [
    "# Also , people survived with embarked Q were mostly from Plass 3 females"
   ]
  },
  {
   "cell_type": "code",
   "execution_count": 35,
   "metadata": {
    "collapsed": true
   },
   "outputs": [],
   "source": [
    "# A more closer look with cross-tab"
   ]
  },
  {
   "cell_type": "code",
   "execution_count": 36,
   "metadata": {},
   "outputs": [
    {
     "data": {
      "text/html": [
       "<style  type=\"text/css\" >\n",
       "    #T_801ba174_1575_11e8_888c_809648ae3d8crow0_col0 {\n",
       "            background-color:  #ffff00;\n",
       "        }    #T_801ba174_1575_11e8_888c_809648ae3d8crow0_col1 {\n",
       "            background-color:  #ffff00;\n",
       "        }    #T_801ba174_1575_11e8_888c_809648ae3d8crow0_col2 {\n",
       "            background-color:  #ffff00;\n",
       "        }    #T_801ba174_1575_11e8_888c_809648ae3d8crow0_col3 {\n",
       "            background-color:  #ffff00;\n",
       "        }    #T_801ba174_1575_11e8_888c_809648ae3d8crow0_col4 {\n",
       "            background-color:  #ffff00;\n",
       "        }    #T_801ba174_1575_11e8_888c_809648ae3d8crow0_col5 {\n",
       "            background-color:  #ffff00;\n",
       "        }    #T_801ba174_1575_11e8_888c_809648ae3d8crow0_col6 {\n",
       "            background-color:  #ffff00;\n",
       "        }    #T_801ba174_1575_11e8_888c_809648ae3d8crow0_col7 {\n",
       "            background-color:  #ffff00;\n",
       "        }    #T_801ba174_1575_11e8_888c_809648ae3d8crow0_col8 {\n",
       "            background-color:  #ff9900;\n",
       "        }    #T_801ba174_1575_11e8_888c_809648ae3d8crow0_col9 {\n",
       "            background-color:  #ffae00;\n",
       "        }    #T_801ba174_1575_11e8_888c_809648ae3d8crow0_col10 {\n",
       "            background-color:  #ff0000;\n",
       "        }    #T_801ba174_1575_11e8_888c_809648ae3d8crow0_col11 {\n",
       "            background-color:  #ff8c00;\n",
       "        }    #T_801ba174_1575_11e8_888c_809648ae3d8crow0_col12 {\n",
       "            background-color:  #ff3f00;\n",
       "        }    #T_801ba174_1575_11e8_888c_809648ae3d8crow0_col13 {\n",
       "            background-color:  #ff0000;\n",
       "        }    #T_801ba174_1575_11e8_888c_809648ae3d8crow0_col14 {\n",
       "            background-color:  #ff2e00;\n",
       "        }    #T_801ba174_1575_11e8_888c_809648ae3d8crow0_col15 {\n",
       "            background-color:  #ff4d00;\n",
       "        }    #T_801ba174_1575_11e8_888c_809648ae3d8crow0_col16 {\n",
       "            background-color:  #ff1500;\n",
       "        }    #T_801ba174_1575_11e8_888c_809648ae3d8crow0_col17 {\n",
       "            background-color:  #ff2500;\n",
       "        }    #T_801ba174_1575_11e8_888c_809648ae3d8crow0_col18 {\n",
       "            background-color:  #ff9e00;\n",
       "        }    #T_801ba174_1575_11e8_888c_809648ae3d8crow1_col0 {\n",
       "            background-color:  #ff0600;\n",
       "        }    #T_801ba174_1575_11e8_888c_809648ae3d8crow1_col1 {\n",
       "            background-color:  #ff0000;\n",
       "        }    #T_801ba174_1575_11e8_888c_809648ae3d8crow1_col2 {\n",
       "            background-color:  #ff0b00;\n",
       "        }    #T_801ba174_1575_11e8_888c_809648ae3d8crow1_col3 {\n",
       "            background-color:  #ff0000;\n",
       "        }    #T_801ba174_1575_11e8_888c_809648ae3d8crow1_col4 {\n",
       "            background-color:  #ff0000;\n",
       "        }    #T_801ba174_1575_11e8_888c_809648ae3d8crow1_col5 {\n",
       "            background-color:  #ff1900;\n",
       "        }    #T_801ba174_1575_11e8_888c_809648ae3d8crow1_col6 {\n",
       "            background-color:  #ff8800;\n",
       "        }    #T_801ba174_1575_11e8_888c_809648ae3d8crow1_col7 {\n",
       "            background-color:  #ff5f00;\n",
       "        }    #T_801ba174_1575_11e8_888c_809648ae3d8crow1_col8 {\n",
       "            background-color:  #ffff00;\n",
       "        }    #T_801ba174_1575_11e8_888c_809648ae3d8crow1_col9 {\n",
       "            background-color:  #ffff00;\n",
       "        }    #T_801ba174_1575_11e8_888c_809648ae3d8crow1_col10 {\n",
       "            background-color:  #ffff00;\n",
       "        }    #T_801ba174_1575_11e8_888c_809648ae3d8crow1_col11 {\n",
       "            background-color:  #ffff00;\n",
       "        }    #T_801ba174_1575_11e8_888c_809648ae3d8crow1_col12 {\n",
       "            background-color:  #ffff00;\n",
       "        }    #T_801ba174_1575_11e8_888c_809648ae3d8crow1_col13 {\n",
       "            background-color:  #ffff00;\n",
       "        }    #T_801ba174_1575_11e8_888c_809648ae3d8crow1_col14 {\n",
       "            background-color:  #ffff00;\n",
       "        }    #T_801ba174_1575_11e8_888c_809648ae3d8crow1_col15 {\n",
       "            background-color:  #ffff00;\n",
       "        }    #T_801ba174_1575_11e8_888c_809648ae3d8crow1_col16 {\n",
       "            background-color:  #ffff00;\n",
       "        }    #T_801ba174_1575_11e8_888c_809648ae3d8crow1_col17 {\n",
       "            background-color:  #ffff00;\n",
       "        }    #T_801ba174_1575_11e8_888c_809648ae3d8crow1_col18 {\n",
       "            background-color:  #ffff00;\n",
       "        }    #T_801ba174_1575_11e8_888c_809648ae3d8crow2_col0 {\n",
       "            background-color:  #ff0000;\n",
       "        }    #T_801ba174_1575_11e8_888c_809648ae3d8crow2_col1 {\n",
       "            background-color:  #ff0000;\n",
       "        }    #T_801ba174_1575_11e8_888c_809648ae3d8crow2_col2 {\n",
       "            background-color:  #ff0000;\n",
       "        }    #T_801ba174_1575_11e8_888c_809648ae3d8crow2_col3 {\n",
       "            background-color:  #ff0000;\n",
       "        }    #T_801ba174_1575_11e8_888c_809648ae3d8crow2_col4 {\n",
       "            background-color:  #ff0000;\n",
       "        }    #T_801ba174_1575_11e8_888c_809648ae3d8crow2_col5 {\n",
       "            background-color:  #ff0000;\n",
       "        }    #T_801ba174_1575_11e8_888c_809648ae3d8crow2_col6 {\n",
       "            background-color:  #ff0000;\n",
       "        }    #T_801ba174_1575_11e8_888c_809648ae3d8crow2_col7 {\n",
       "            background-color:  #ff0000;\n",
       "        }    #T_801ba174_1575_11e8_888c_809648ae3d8crow2_col8 {\n",
       "            background-color:  #ff0000;\n",
       "        }    #T_801ba174_1575_11e8_888c_809648ae3d8crow2_col9 {\n",
       "            background-color:  #ff0000;\n",
       "        }    #T_801ba174_1575_11e8_888c_809648ae3d8crow2_col10 {\n",
       "            background-color:  #ff0000;\n",
       "        }    #T_801ba174_1575_11e8_888c_809648ae3d8crow2_col11 {\n",
       "            background-color:  #ff0000;\n",
       "        }    #T_801ba174_1575_11e8_888c_809648ae3d8crow2_col12 {\n",
       "            background-color:  #ff0000;\n",
       "        }    #T_801ba174_1575_11e8_888c_809648ae3d8crow2_col13 {\n",
       "            background-color:  #ff0000;\n",
       "        }    #T_801ba174_1575_11e8_888c_809648ae3d8crow2_col14 {\n",
       "            background-color:  #ff0000;\n",
       "        }    #T_801ba174_1575_11e8_888c_809648ae3d8crow2_col15 {\n",
       "            background-color:  #ff0000;\n",
       "        }    #T_801ba174_1575_11e8_888c_809648ae3d8crow2_col16 {\n",
       "            background-color:  #ff0000;\n",
       "        }    #T_801ba174_1575_11e8_888c_809648ae3d8crow2_col17 {\n",
       "            background-color:  #ff0000;\n",
       "        }    #T_801ba174_1575_11e8_888c_809648ae3d8crow2_col18 {\n",
       "            background-color:  #ff0000;\n",
       "        }</style>  \n",
       "<table id=\"T_801ba174_1575_11e8_888c_809648ae3d8c\" > \n",
       "<thead>    <tr> \n",
       "        <th class=\"index_name level0\" >Sex</th> \n",
       "        <th class=\"col_heading level0 col0\" colspan=9>female</th> \n",
       "        <th class=\"col_heading level0 col9\" colspan=9>male</th> \n",
       "        <th class=\"col_heading level0 col18\" >All</th> \n",
       "    </tr>    <tr> \n",
       "        <th class=\"index_name level1\" >Pclass</th> \n",
       "        <th class=\"col_heading level1 col0\" colspan=3>1</th> \n",
       "        <th class=\"col_heading level1 col3\" colspan=3>2</th> \n",
       "        <th class=\"col_heading level1 col6\" colspan=3>3</th> \n",
       "        <th class=\"col_heading level1 col9\" colspan=3>1</th> \n",
       "        <th class=\"col_heading level1 col12\" colspan=3>2</th> \n",
       "        <th class=\"col_heading level1 col15\" colspan=3>3</th> \n",
       "        <th class=\"col_heading level1 col18\" ></th> \n",
       "    </tr>    <tr> \n",
       "        <th class=\"index_name level2\" >Embarked</th> \n",
       "        <th class=\"col_heading level2 col0\" >C</th> \n",
       "        <th class=\"col_heading level2 col1\" >Q</th> \n",
       "        <th class=\"col_heading level2 col2\" >S</th> \n",
       "        <th class=\"col_heading level2 col3\" >C</th> \n",
       "        <th class=\"col_heading level2 col4\" >Q</th> \n",
       "        <th class=\"col_heading level2 col5\" >S</th> \n",
       "        <th class=\"col_heading level2 col6\" >C</th> \n",
       "        <th class=\"col_heading level2 col7\" >Q</th> \n",
       "        <th class=\"col_heading level2 col8\" >S</th> \n",
       "        <th class=\"col_heading level2 col9\" >C</th> \n",
       "        <th class=\"col_heading level2 col10\" >Q</th> \n",
       "        <th class=\"col_heading level2 col11\" >S</th> \n",
       "        <th class=\"col_heading level2 col12\" >C</th> \n",
       "        <th class=\"col_heading level2 col13\" >Q</th> \n",
       "        <th class=\"col_heading level2 col14\" >S</th> \n",
       "        <th class=\"col_heading level2 col15\" >C</th> \n",
       "        <th class=\"col_heading level2 col16\" >Q</th> \n",
       "        <th class=\"col_heading level2 col17\" >S</th> \n",
       "        <th class=\"col_heading level2 col18\" ></th> \n",
       "    </tr>    <tr> \n",
       "        <th class=\"index_name level0\" >Survived</th> \n",
       "        <th class=\"blank\" ></th> \n",
       "        <th class=\"blank\" ></th> \n",
       "        <th class=\"blank\" ></th> \n",
       "        <th class=\"blank\" ></th> \n",
       "        <th class=\"blank\" ></th> \n",
       "        <th class=\"blank\" ></th> \n",
       "        <th class=\"blank\" ></th> \n",
       "        <th class=\"blank\" ></th> \n",
       "        <th class=\"blank\" ></th> \n",
       "        <th class=\"blank\" ></th> \n",
       "        <th class=\"blank\" ></th> \n",
       "        <th class=\"blank\" ></th> \n",
       "        <th class=\"blank\" ></th> \n",
       "        <th class=\"blank\" ></th> \n",
       "        <th class=\"blank\" ></th> \n",
       "        <th class=\"blank\" ></th> \n",
       "        <th class=\"blank\" ></th> \n",
       "        <th class=\"blank\" ></th> \n",
       "        <th class=\"blank\" ></th> \n",
       "    </tr></thead> \n",
       "<tbody>    <tr> \n",
       "        <th id=\"T_801ba174_1575_11e8_888c_809648ae3d8clevel0_row0\" class=\"row_heading level0 row0\" >0</th> \n",
       "        <td id=\"T_801ba174_1575_11e8_888c_809648ae3d8crow0_col0\" class=\"data row0 col0\" >1</td> \n",
       "        <td id=\"T_801ba174_1575_11e8_888c_809648ae3d8crow0_col1\" class=\"data row0 col1\" >0</td> \n",
       "        <td id=\"T_801ba174_1575_11e8_888c_809648ae3d8crow0_col2\" class=\"data row0 col2\" >2</td> \n",
       "        <td id=\"T_801ba174_1575_11e8_888c_809648ae3d8crow0_col3\" class=\"data row0 col3\" >0</td> \n",
       "        <td id=\"T_801ba174_1575_11e8_888c_809648ae3d8crow0_col4\" class=\"data row0 col4\" >0</td> \n",
       "        <td id=\"T_801ba174_1575_11e8_888c_809648ae3d8crow0_col5\" class=\"data row0 col5\" >6</td> \n",
       "        <td id=\"T_801ba174_1575_11e8_888c_809648ae3d8crow0_col6\" class=\"data row0 col6\" >8</td> \n",
       "        <td id=\"T_801ba174_1575_11e8_888c_809648ae3d8crow0_col7\" class=\"data row0 col7\" >9</td> \n",
       "        <td id=\"T_801ba174_1575_11e8_888c_809648ae3d8crow0_col8\" class=\"data row0 col8\" >55</td> \n",
       "        <td id=\"T_801ba174_1575_11e8_888c_809648ae3d8crow0_col9\" class=\"data row0 col9\" >25</td> \n",
       "        <td id=\"T_801ba174_1575_11e8_888c_809648ae3d8crow0_col10\" class=\"data row0 col10\" >1</td> \n",
       "        <td id=\"T_801ba174_1575_11e8_888c_809648ae3d8crow0_col11\" class=\"data row0 col11\" >51</td> \n",
       "        <td id=\"T_801ba174_1575_11e8_888c_809648ae3d8crow0_col12\" class=\"data row0 col12\" >8</td> \n",
       "        <td id=\"T_801ba174_1575_11e8_888c_809648ae3d8crow0_col13\" class=\"data row0 col13\" >1</td> \n",
       "        <td id=\"T_801ba174_1575_11e8_888c_809648ae3d8crow0_col14\" class=\"data row0 col14\" >82</td> \n",
       "        <td id=\"T_801ba174_1575_11e8_888c_809648ae3d8crow0_col15\" class=\"data row0 col15\" >33</td> \n",
       "        <td id=\"T_801ba174_1575_11e8_888c_809648ae3d8crow0_col16\" class=\"data row0 col16\" >36</td> \n",
       "        <td id=\"T_801ba174_1575_11e8_888c_809648ae3d8crow0_col17\" class=\"data row0 col17\" >231</td> \n",
       "        <td id=\"T_801ba174_1575_11e8_888c_809648ae3d8crow0_col18\" class=\"data row0 col18\" >549</td> \n",
       "    </tr>    <tr> \n",
       "        <th id=\"T_801ba174_1575_11e8_888c_809648ae3d8clevel0_row1\" class=\"row_heading level0 row1\" >1</th> \n",
       "        <td id=\"T_801ba174_1575_11e8_888c_809648ae3d8crow1_col0\" class=\"data row1 col0\" >42</td> \n",
       "        <td id=\"T_801ba174_1575_11e8_888c_809648ae3d8crow1_col1\" class=\"data row1 col1\" >1</td> \n",
       "        <td id=\"T_801ba174_1575_11e8_888c_809648ae3d8crow1_col2\" class=\"data row1 col2\" >46</td> \n",
       "        <td id=\"T_801ba174_1575_11e8_888c_809648ae3d8crow1_col3\" class=\"data row1 col3\" >7</td> \n",
       "        <td id=\"T_801ba174_1575_11e8_888c_809648ae3d8crow1_col4\" class=\"data row1 col4\" >2</td> \n",
       "        <td id=\"T_801ba174_1575_11e8_888c_809648ae3d8crow1_col5\" class=\"data row1 col5\" >61</td> \n",
       "        <td id=\"T_801ba174_1575_11e8_888c_809648ae3d8crow1_col6\" class=\"data row1 col6\" >15</td> \n",
       "        <td id=\"T_801ba174_1575_11e8_888c_809648ae3d8crow1_col7\" class=\"data row1 col7\" >24</td> \n",
       "        <td id=\"T_801ba174_1575_11e8_888c_809648ae3d8crow1_col8\" class=\"data row1 col8\" >33</td> \n",
       "        <td id=\"T_801ba174_1575_11e8_888c_809648ae3d8crow1_col9\" class=\"data row1 col9\" >17</td> \n",
       "        <td id=\"T_801ba174_1575_11e8_888c_809648ae3d8crow1_col10\" class=\"data row1 col10\" >0</td> \n",
       "        <td id=\"T_801ba174_1575_11e8_888c_809648ae3d8crow1_col11\" class=\"data row1 col11\" >28</td> \n",
       "        <td id=\"T_801ba174_1575_11e8_888c_809648ae3d8crow1_col12\" class=\"data row1 col12\" >2</td> \n",
       "        <td id=\"T_801ba174_1575_11e8_888c_809648ae3d8crow1_col13\" class=\"data row1 col13\" >0</td> \n",
       "        <td id=\"T_801ba174_1575_11e8_888c_809648ae3d8crow1_col14\" class=\"data row1 col14\" >15</td> \n",
       "        <td id=\"T_801ba174_1575_11e8_888c_809648ae3d8crow1_col15\" class=\"data row1 col15\" >10</td> \n",
       "        <td id=\"T_801ba174_1575_11e8_888c_809648ae3d8crow1_col16\" class=\"data row1 col16\" >3</td> \n",
       "        <td id=\"T_801ba174_1575_11e8_888c_809648ae3d8crow1_col17\" class=\"data row1 col17\" >34</td> \n",
       "        <td id=\"T_801ba174_1575_11e8_888c_809648ae3d8crow1_col18\" class=\"data row1 col18\" >340</td> \n",
       "    </tr>    <tr> \n",
       "        <th id=\"T_801ba174_1575_11e8_888c_809648ae3d8clevel0_row2\" class=\"row_heading level0 row2\" >All</th> \n",
       "        <td id=\"T_801ba174_1575_11e8_888c_809648ae3d8crow2_col0\" class=\"data row2 col0\" >43</td> \n",
       "        <td id=\"T_801ba174_1575_11e8_888c_809648ae3d8crow2_col1\" class=\"data row2 col1\" >1</td> \n",
       "        <td id=\"T_801ba174_1575_11e8_888c_809648ae3d8crow2_col2\" class=\"data row2 col2\" >48</td> \n",
       "        <td id=\"T_801ba174_1575_11e8_888c_809648ae3d8crow2_col3\" class=\"data row2 col3\" >7</td> \n",
       "        <td id=\"T_801ba174_1575_11e8_888c_809648ae3d8crow2_col4\" class=\"data row2 col4\" >2</td> \n",
       "        <td id=\"T_801ba174_1575_11e8_888c_809648ae3d8crow2_col5\" class=\"data row2 col5\" >67</td> \n",
       "        <td id=\"T_801ba174_1575_11e8_888c_809648ae3d8crow2_col6\" class=\"data row2 col6\" >23</td> \n",
       "        <td id=\"T_801ba174_1575_11e8_888c_809648ae3d8crow2_col7\" class=\"data row2 col7\" >33</td> \n",
       "        <td id=\"T_801ba174_1575_11e8_888c_809648ae3d8crow2_col8\" class=\"data row2 col8\" >88</td> \n",
       "        <td id=\"T_801ba174_1575_11e8_888c_809648ae3d8crow2_col9\" class=\"data row2 col9\" >42</td> \n",
       "        <td id=\"T_801ba174_1575_11e8_888c_809648ae3d8crow2_col10\" class=\"data row2 col10\" >1</td> \n",
       "        <td id=\"T_801ba174_1575_11e8_888c_809648ae3d8crow2_col11\" class=\"data row2 col11\" >79</td> \n",
       "        <td id=\"T_801ba174_1575_11e8_888c_809648ae3d8crow2_col12\" class=\"data row2 col12\" >10</td> \n",
       "        <td id=\"T_801ba174_1575_11e8_888c_809648ae3d8crow2_col13\" class=\"data row2 col13\" >1</td> \n",
       "        <td id=\"T_801ba174_1575_11e8_888c_809648ae3d8crow2_col14\" class=\"data row2 col14\" >97</td> \n",
       "        <td id=\"T_801ba174_1575_11e8_888c_809648ae3d8crow2_col15\" class=\"data row2 col15\" >43</td> \n",
       "        <td id=\"T_801ba174_1575_11e8_888c_809648ae3d8crow2_col16\" class=\"data row2 col16\" >39</td> \n",
       "        <td id=\"T_801ba174_1575_11e8_888c_809648ae3d8crow2_col17\" class=\"data row2 col17\" >265</td> \n",
       "        <td id=\"T_801ba174_1575_11e8_888c_809648ae3d8crow2_col18\" class=\"data row2 col18\" >889</td> \n",
       "    </tr></tbody> \n",
       "</table> "
      ],
      "text/plain": [
       "<pandas.io.formats.style.Styler at 0x1b92ddc7710>"
      ]
     },
     "execution_count": 36,
     "metadata": {},
     "output_type": "execute_result"
    }
   ],
   "source": [
    "pd.crosstab([df.Survived], [df.Sex, df.Pclass, df.Embarked], margins=True).style.background_gradient(cmap='autumn_r')"
   ]
  },
  {
   "cell_type": "code",
   "execution_count": 37,
   "metadata": {
    "collapsed": true
   },
   "outputs": [],
   "source": [
    "# can also be viewed like this"
   ]
  },
  {
   "cell_type": "code",
   "execution_count": 38,
   "metadata": {},
   "outputs": [
    {
     "data": {
      "image/png": "[encoded data removed]",
      "text/plain": [
       "<matplotlib.figure.Figure at 0x1b92e3fabe0>"
      ]
     },
     "metadata": {},
     "output_type": "display_data"
    }
   ],
   "source": [
    "plt.subplots(figsize = (10,5))\n",
    "plt.title('Embarked vs Survived wih Sex')\n",
    "sns.violinplot(x = \"Survived\", y = \"Embarked\", hue = \"Sex\",data = df)\n",
    "plt.show()"
   ]
  },
  {
   "cell_type": "code",
   "execution_count": 39,
   "metadata": {},
   "outputs": [
    {
     "data": {
      "text/plain": [
       "<seaborn.axisgrid.FacetGrid at 0x1b92dde25f8>"
      ]
     },
     "execution_count": 39,
     "metadata": {},
     "output_type": "execute_result"
    },
    {
     "data": {
      "image/png": "[encoded data removed]",
      "text/plain": [
       "<matplotlib.figure.Figure at 0x1b92e3dd0b8>"
      ]
     },
     "metadata": {},
     "output_type": "display_data"
    }
   ],
   "source": [
    "# similarly with Pclass\n",
    "\n",
    "sns.factorplot(x = \"Survived\", y = \"Pclass\",col = \"Embarked\" , hue = \"Sex\" , kind = \"violin\",data = df)\n"
   ]
  },
  {
   "cell_type": "code",
   "execution_count": 40,
   "metadata": {},
   "outputs": [
    {
     "data": {
      "image/png": "[encoded data removed]",
      "text/plain": [
       "<matplotlib.figure.Figure at 0x1b92e4a2d68>"
      ]
     },
     "metadata": {},
     "output_type": "display_data"
    }
   ],
   "source": [
    "sns.factorplot(x=\"Sex\", y=\"Survived\",col=\"Embarked\",data=df ,hue=\"Pclass\",kind=\"bar\",size=5, aspect=.7);"
   ]
  },
  {
   "cell_type": "code",
   "execution_count": 41,
   "metadata": {
    "collapsed": true
   },
   "outputs": [],
   "source": [
    "# Inferences from above graph\n",
    "\n",
    "# the survived axis shows the % .\n",
    "# which means embarked Q males in Pclass 1 and 2 were all died\n",
    "\n",
    "# while embarked females in Pclass 1 and 2 all lived....\n",
    "# also nearly Pclass 1 and 2 females of all embarked types lived"
   ]
  },
  {
   "cell_type": "code",
   "execution_count": 42,
   "metadata": {
    "collapsed": true
   },
   "outputs": [],
   "source": [
    "context1 = {\"female\":0 , \"male\":1}\n",
    "context2 = {\"S\":0 , \"C\":1 , \"Q\":2}\n",
    "df['Sex_bool']=df.Sex.map(context1)\n",
    "df[\"Embarked_bool\"] = df.Embarked.map(context2)"
   ]
  },
  {
   "cell_type": "code",
   "execution_count": 43,
   "metadata": {},
   "outputs": [
    {
     "data": {
      "text/html": [
       "<div>\n",
       "<style scoped>\n",
       "    .dataframe tbody tr th:only-of-type {\n",
       "        vertical-align: middle;\n",
       "    }\n",
       "\n",
       "    .dataframe tbody tr th {\n",
       "        vertical-align: top;\n",
       "    }\n",
       "\n",
       "    .dataframe thead th {\n",
       "        text-align: right;\n",
       "    }\n",
       "</style>\n",
       "<table border=\"1\" class=\"dataframe\">\n",
       "  <thead>\n",
       "    <tr style=\"text-align: right;\">\n",
       "      <th></th>\n",
       "      <th>PassengerId</th>\n",
       "      <th>Survived</th>\n",
       "      <th>Pclass</th>\n",
       "      <th>Name</th>\n",
       "      <th>Sex</th>\n",
       "      <th>Age</th>\n",
       "      <th>SibSp</th>\n",
       "      <th>Parch</th>\n",
       "      <th>Ticket</th>\n",
       "      <th>Fare</th>\n",
       "      <th>Cabin</th>\n",
       "      <th>Embarked</th>\n",
       "      <th>Sex_bool</th>\n",
       "      <th>Embarked_bool</th>\n",
       "    </tr>\n",
       "  </thead>\n",
       "  <tbody>\n",
       "    <tr>\n",
       "      <th>0</th>\n",
       "      <td>1</td>\n",
       "      <td>0</td>\n",
       "      <td>3</td>\n",
       "      <td>Braund, Mr. Owen Harris</td>\n",
       "      <td>male</td>\n",
       "      <td>22.0</td>\n",
       "      <td>1</td>\n",
       "      <td>0</td>\n",
       "      <td>A/5 21171</td>\n",
       "      <td>7.2500</td>\n",
       "      <td>NaN</td>\n",
       "      <td>S</td>\n",
       "      <td>1</td>\n",
       "      <td>0.0</td>\n",
       "    </tr>\n",
       "    <tr>\n",
       "      <th>1</th>\n",
       "      <td>2</td>\n",
       "      <td>1</td>\n",
       "      <td>1</td>\n",
       "      <td>Cumings, Mrs. John Bradley (Florence Briggs Th...</td>\n",
       "      <td>female</td>\n",
       "      <td>38.0</td>\n",
       "      <td>1</td>\n",
       "      <td>0</td>\n",
       "      <td>PC 17599</td>\n",
       "      <td>71.2833</td>\n",
       "      <td>C85</td>\n",
       "      <td>C</td>\n",
       "      <td>0</td>\n",
       "      <td>1.0</td>\n",
       "    </tr>\n",
       "    <tr>\n",
       "      <th>2</th>\n",
       "      <td>3</td>\n",
       "      <td>1</td>\n",
       "      <td>3</td>\n",
       "      <td>Heikkinen, Miss. Laina</td>\n",
       "      <td>female</td>\n",
       "      <td>26.0</td>\n",
       "      <td>0</td>\n",
       "      <td>0</td>\n",
       "      <td>STON/O2. 3101282</td>\n",
       "      <td>7.9250</td>\n",
       "      <td>NaN</td>\n",
       "      <td>S</td>\n",
       "      <td>0</td>\n",
       "      <td>0.0</td>\n",
       "    </tr>\n",
       "    <tr>\n",
       "      <th>3</th>\n",
       "      <td>4</td>\n",
       "      <td>1</td>\n",
       "      <td>1</td>\n",
       "      <td>Futrelle, Mrs. Jacques Heath (Lily May Peel)</td>\n",
       "      <td>female</td>\n",
       "      <td>35.0</td>\n",
       "      <td>1</td>\n",
       "      <td>0</td>\n",
       "      <td>113803</td>\n",
       "      <td>53.1000</td>\n",
       "      <td>C123</td>\n",
       "      <td>S</td>\n",
       "      <td>0</td>\n",
       "      <td>0.0</td>\n",
       "    </tr>\n",
       "    <tr>\n",
       "      <th>4</th>\n",
       "      <td>5</td>\n",
       "      <td>0</td>\n",
       "      <td>3</td>\n",
       "      <td>Allen, Mr. William Henry</td>\n",
       "      <td>male</td>\n",
       "      <td>35.0</td>\n",
       "      <td>0</td>\n",
       "      <td>0</td>\n",
       "      <td>373450</td>\n",
       "      <td>8.0500</td>\n",
       "      <td>NaN</td>\n",
       "      <td>S</td>\n",
       "      <td>1</td>\n",
       "      <td>0.0</td>\n",
       "    </tr>\n",
       "  </tbody>\n",
       "</table>\n",
       "</div>"
      ],
      "text/plain": [
       "   PassengerId  Survived  Pclass  \\\n",
       "0            1         0       3   \n",
       "1            2         1       1   \n",
       "2            3         1       3   \n",
       "3            4         1       1   \n",
       "4            5         0       3   \n",
       "\n",
       "                                                Name     Sex   Age  SibSp  \\\n",
       "0                            Braund, Mr. Owen Harris    male  22.0      1   \n",
       "1  Cumings, Mrs. John Bradley (Florence Briggs Th...  female  38.0      1   \n",
       "2                             Heikkinen, Miss. Laina  female  26.0      0   \n",
       "3       Futrelle, Mrs. Jacques Heath (Lily May Peel)  female  35.0      1   \n",
       "4                           Allen, Mr. William Henry    male  35.0      0   \n",
       "\n",
       "   Parch            Ticket     Fare Cabin Embarked  Sex_bool  Embarked_bool  \n",
       "0      0         A/5 21171   7.2500   NaN        S         1            0.0  \n",
       "1      0          PC 17599  71.2833   C85        C         0            1.0  \n",
       "2      0  STON/O2. 3101282   7.9250   NaN        S         0            0.0  \n",
       "3      0            113803  53.1000  C123        S         0            0.0  \n",
       "4      0            373450   8.0500   NaN        S         1            0.0  "
      ]
     },
     "execution_count": 43,
     "metadata": {},
     "output_type": "execute_result"
    }
   ],
   "source": [
    "df.head()"
   ]
  },
  {
   "cell_type": "code",
   "execution_count": 44,
   "metadata": {},
   "outputs": [
    {
     "data": {
      "text/plain": [
       "<matplotlib.axes._subplots.AxesSubplot at 0x1b92e9e3828>"
      ]
     },
     "execution_count": 44,
     "metadata": {},
     "output_type": "execute_result"
    },
    {
     "data": {
      "image/png": "[encoded data removed]",
      "text/plain": [
       "<matplotlib.figure.Figure at 0x1b92e9d04a8>"
      ]
     },
     "metadata": {},
     "output_type": "display_data"
    }
   ],
   "source": [
    "correlation_map = df[['PassengerId', 'Survived', 'Pclass', 'Sex_bool', 'Age', 'SibSp',\n",
    "       'Parch', 'Fare' , 'Embarked_bool']].corr()\n",
    "obj = np.array(correlation_map)\n",
    "obj[np.tril_indices_from(obj)] = False\n",
    "fig,ax= plt.subplots()\n",
    "fig.set_size_inches(12,12)\n",
    "sns.heatmap(correlation_map, mask=obj,vmax=.7, square=True,annot=True)"
   ]
  },
  {
   "cell_type": "markdown",
   "metadata": {
    "collapsed": true
   },
   "source": [
    "### The above heatmap shows the overall picture very clearly \n",
    "\n",
    "###  PassengerId is a redundant column as its very much less related to all other attributes , we can remove it .\n",
    "\n",
    "###  Also , Survived is related indirectly with Pclass and also we earlier proved that as Pclass value increases Survival decreases\n",
    "\n",
    "###  Pclass and Age are also inversely related and can also be proven by the following cell  that as Pclass decreases , the mean of the Age increases ,  means the much of the older travellers are travelling in high class .\n",
    "              \n",
    "###  Pclass and fare are also highly inversely related as the fare of Pclass 1 would obviously be higher than corresponding Pclass 2 and 3 .\n",
    "###  Also , people with lower ages or children are travelling with their sibling and parents more than higher aged people (following an inverse relation) , which is quite a bit obvious .\n",
    "###  Parch and SibSp are also highly directly related\n",
    "###  Sex_bool and Survived people are highly inversely related , i.e. females are more likely to survive than men"
   ]
  },
  {
   "cell_type": "code",
   "execution_count": 45,
   "metadata": {},
   "outputs": [
    {
     "data": {
      "text/plain": [
       "Pclass\n",
       "1    38.233441\n",
       "2    29.877630\n",
       "3    25.140620\n",
       "Name: Age, dtype: float64"
      ]
     },
     "execution_count": 45,
     "metadata": {},
     "output_type": "execute_result"
    }
   ],
   "source": [
    "df.groupby(\"Pclass\").Age.mean()\n"
   ]
  },
  {
   "cell_type": "code",
   "execution_count": 46,
   "metadata": {},
   "outputs": [
    {
     "data": {
      "text/plain": [
       "PassengerId        0\n",
       "Survived           0\n",
       "Pclass             0\n",
       "Name               0\n",
       "Sex                0\n",
       "Age              177\n",
       "SibSp              0\n",
       "Parch              0\n",
       "Ticket             0\n",
       "Fare               0\n",
       "Cabin            687\n",
       "Embarked           2\n",
       "Sex_bool           0\n",
       "Embarked_bool      2\n",
       "dtype: int64"
      ]
     },
     "execution_count": 46,
     "metadata": {},
     "output_type": "execute_result"
    }
   ],
   "source": [
    "df.isnull().sum()"
   ]
  },
  {
   "cell_type": "code",
   "execution_count": 47,
   "metadata": {},
   "outputs": [
    {
     "data": {
      "text/html": [
       "<div>\n",
       "<style scoped>\n",
       "    .dataframe tbody tr th:only-of-type {\n",
       "        vertical-align: middle;\n",
       "    }\n",
       "\n",
       "    .dataframe tbody tr th {\n",
       "        vertical-align: top;\n",
       "    }\n",
       "\n",
       "    .dataframe thead th {\n",
       "        text-align: right;\n",
       "    }\n",
       "</style>\n",
       "<table border=\"1\" class=\"dataframe\">\n",
       "  <thead>\n",
       "    <tr style=\"text-align: right;\">\n",
       "      <th></th>\n",
       "      <th>PassengerId</th>\n",
       "      <th>Survived</th>\n",
       "      <th>Pclass</th>\n",
       "      <th>Name</th>\n",
       "      <th>Sex</th>\n",
       "      <th>Age</th>\n",
       "      <th>SibSp</th>\n",
       "      <th>Parch</th>\n",
       "      <th>Ticket</th>\n",
       "      <th>Fare</th>\n",
       "      <th>Cabin</th>\n",
       "      <th>Embarked</th>\n",
       "      <th>Sex_bool</th>\n",
       "      <th>Embarked_bool</th>\n",
       "    </tr>\n",
       "  </thead>\n",
       "  <tbody>\n",
       "    <tr>\n",
       "      <th>0</th>\n",
       "      <td>1</td>\n",
       "      <td>0</td>\n",
       "      <td>3</td>\n",
       "      <td>Braund, Mr. Owen Harris</td>\n",
       "      <td>male</td>\n",
       "      <td>22.0</td>\n",
       "      <td>1</td>\n",
       "      <td>0</td>\n",
       "      <td>A/5 21171</td>\n",
       "      <td>7.2500</td>\n",
       "      <td>NaN</td>\n",
       "      <td>S</td>\n",
       "      <td>1</td>\n",
       "      <td>0.0</td>\n",
       "    </tr>\n",
       "    <tr>\n",
       "      <th>1</th>\n",
       "      <td>2</td>\n",
       "      <td>1</td>\n",
       "      <td>1</td>\n",
       "      <td>Cumings, Mrs. John Bradley (Florence Briggs Th...</td>\n",
       "      <td>female</td>\n",
       "      <td>38.0</td>\n",
       "      <td>1</td>\n",
       "      <td>0</td>\n",
       "      <td>PC 17599</td>\n",
       "      <td>71.2833</td>\n",
       "      <td>C85</td>\n",
       "      <td>C</td>\n",
       "      <td>0</td>\n",
       "      <td>1.0</td>\n",
       "    </tr>\n",
       "    <tr>\n",
       "      <th>2</th>\n",
       "      <td>3</td>\n",
       "      <td>1</td>\n",
       "      <td>3</td>\n",
       "      <td>Heikkinen, Miss. Laina</td>\n",
       "      <td>female</td>\n",
       "      <td>26.0</td>\n",
       "      <td>0</td>\n",
       "      <td>0</td>\n",
       "      <td>STON/O2. 3101282</td>\n",
       "      <td>7.9250</td>\n",
       "      <td>NaN</td>\n",
       "      <td>S</td>\n",
       "      <td>0</td>\n",
       "      <td>0.0</td>\n",
       "    </tr>\n",
       "    <tr>\n",
       "      <th>3</th>\n",
       "      <td>4</td>\n",
       "      <td>1</td>\n",
       "      <td>1</td>\n",
       "      <td>Futrelle, Mrs. Jacques Heath (Lily May Peel)</td>\n",
       "      <td>female</td>\n",
       "      <td>35.0</td>\n",
       "      <td>1</td>\n",
       "      <td>0</td>\n",
       "      <td>113803</td>\n",
       "      <td>53.1000</td>\n",
       "      <td>C123</td>\n",
       "      <td>S</td>\n",
       "      <td>0</td>\n",
       "      <td>0.0</td>\n",
       "    </tr>\n",
       "    <tr>\n",
       "      <th>4</th>\n",
       "      <td>5</td>\n",
       "      <td>0</td>\n",
       "      <td>3</td>\n",
       "      <td>Allen, Mr. William Henry</td>\n",
       "      <td>male</td>\n",
       "      <td>35.0</td>\n",
       "      <td>0</td>\n",
       "      <td>0</td>\n",
       "      <td>373450</td>\n",
       "      <td>8.0500</td>\n",
       "      <td>NaN</td>\n",
       "      <td>S</td>\n",
       "      <td>1</td>\n",
       "      <td>0.0</td>\n",
       "    </tr>\n",
       "  </tbody>\n",
       "</table>\n",
       "</div>"
      ],
      "text/plain": [
       "   PassengerId  Survived  Pclass  \\\n",
       "0            1         0       3   \n",
       "1            2         1       1   \n",
       "2            3         1       3   \n",
       "3            4         1       1   \n",
       "4            5         0       3   \n",
       "\n",
       "                                                Name     Sex   Age  SibSp  \\\n",
       "0                            Braund, Mr. Owen Harris    male  22.0      1   \n",
       "1  Cumings, Mrs. John Bradley (Florence Briggs Th...  female  38.0      1   \n",
       "2                             Heikkinen, Miss. Laina  female  26.0      0   \n",
       "3       Futrelle, Mrs. Jacques Heath (Lily May Peel)  female  35.0      1   \n",
       "4                           Allen, Mr. William Henry    male  35.0      0   \n",
       "\n",
       "   Parch            Ticket     Fare Cabin Embarked  Sex_bool  Embarked_bool  \n",
       "0      0         A/5 21171   7.2500   NaN        S         1            0.0  \n",
       "1      0          PC 17599  71.2833   C85        C         0            1.0  \n",
       "2      0  STON/O2. 3101282   7.9250   NaN        S         0            0.0  \n",
       "3      0            113803  53.1000  C123        S         0            0.0  \n",
       "4      0            373450   8.0500   NaN        S         1            0.0  "
      ]
     },
     "execution_count": 47,
     "metadata": {},
     "output_type": "execute_result"
    }
   ],
   "source": [
    "df.head()"
   ]
  },
  {
   "cell_type": "code",
   "execution_count": 48,
   "metadata": {
    "collapsed": true
   },
   "outputs": [],
   "source": [
    "for x in [train, test,df]:\n",
    "    x['Age_bin']=np.nan\n",
    "    for i in range(8,0,-1):\n",
    "        x.loc[ x['Age'] <= i*10, 'Age_bin'] = i"
   ]
  },
  {
   "cell_type": "code",
   "execution_count": 49,
   "metadata": {},
   "outputs": [
    {
     "data": {
      "text/html": [
       "<div>\n",
       "<style scoped>\n",
       "    .dataframe tbody tr th:only-of-type {\n",
       "        vertical-align: middle;\n",
       "    }\n",
       "\n",
       "    .dataframe tbody tr th {\n",
       "        vertical-align: top;\n",
       "    }\n",
       "\n",
       "    .dataframe thead th {\n",
       "        text-align: right;\n",
       "    }\n",
       "</style>\n",
       "<table border=\"1\" class=\"dataframe\">\n",
       "  <thead>\n",
       "    <tr style=\"text-align: right;\">\n",
       "      <th></th>\n",
       "      <th>Age</th>\n",
       "      <th>Age_bin</th>\n",
       "    </tr>\n",
       "  </thead>\n",
       "  <tbody>\n",
       "    <tr>\n",
       "      <th>0</th>\n",
       "      <td>22.0</td>\n",
       "      <td>3.0</td>\n",
       "    </tr>\n",
       "    <tr>\n",
       "      <th>1</th>\n",
       "      <td>38.0</td>\n",
       "      <td>4.0</td>\n",
       "    </tr>\n",
       "    <tr>\n",
       "      <th>2</th>\n",
       "      <td>26.0</td>\n",
       "      <td>3.0</td>\n",
       "    </tr>\n",
       "    <tr>\n",
       "      <th>3</th>\n",
       "      <td>35.0</td>\n",
       "      <td>4.0</td>\n",
       "    </tr>\n",
       "    <tr>\n",
       "      <th>4</th>\n",
       "      <td>35.0</td>\n",
       "      <td>4.0</td>\n",
       "    </tr>\n",
       "    <tr>\n",
       "      <th>5</th>\n",
       "      <td>NaN</td>\n",
       "      <td>NaN</td>\n",
       "    </tr>\n",
       "    <tr>\n",
       "      <th>6</th>\n",
       "      <td>54.0</td>\n",
       "      <td>6.0</td>\n",
       "    </tr>\n",
       "    <tr>\n",
       "      <th>7</th>\n",
       "      <td>2.0</td>\n",
       "      <td>1.0</td>\n",
       "    </tr>\n",
       "    <tr>\n",
       "      <th>8</th>\n",
       "      <td>27.0</td>\n",
       "      <td>3.0</td>\n",
       "    </tr>\n",
       "    <tr>\n",
       "      <th>9</th>\n",
       "      <td>14.0</td>\n",
       "      <td>2.0</td>\n",
       "    </tr>\n",
       "  </tbody>\n",
       "</table>\n",
       "</div>"
      ],
      "text/plain": [
       "    Age  Age_bin\n",
       "0  22.0      3.0\n",
       "1  38.0      4.0\n",
       "2  26.0      3.0\n",
       "3  35.0      4.0\n",
       "4  35.0      4.0\n",
       "5   NaN      NaN\n",
       "6  54.0      6.0\n",
       "7   2.0      1.0\n",
       "8  27.0      3.0\n",
       "9  14.0      2.0"
      ]
     },
     "execution_count": 49,
     "metadata": {},
     "output_type": "execute_result"
    }
   ],
   "source": [
    "df[[\"Age\" , \"Age_bin\"]].head(10)"
   ]
  },
  {
   "cell_type": "code",
   "execution_count": 50,
   "metadata": {},
   "outputs": [
    {
     "data": {
      "text/plain": [
       "<seaborn.axisgrid.FacetGrid at 0x1b92e805b70>"
      ]
     },
     "execution_count": 50,
     "metadata": {},
     "output_type": "execute_result"
    },
    {
     "data": {
      "image/png": "[encoded data removed]",
      "text/plain": [
       "<matplotlib.figure.Figure at 0x1b92e805ef0>"
      ]
     },
     "metadata": {},
     "output_type": "display_data"
    }
   ],
   "source": [
    "sns.factorplot('Age_bin','Survived', col='Pclass' , row = 'Sex',kind=\"bar\", data=df)"
   ]
  },
  {
   "cell_type": "code",
   "execution_count": 51,
   "metadata": {},
   "outputs": [
    {
     "data": {
      "text/plain": [
       "<seaborn.axisgrid.FacetGrid at 0x1b92e8052b0>"
      ]
     },
     "execution_count": 51,
     "metadata": {},
     "output_type": "execute_result"
    },
    {
     "data": {
      "image/png": "[encoded data removed]",
      "text/plain": [
       "<matplotlib.figure.Figure at 0x1b92e6acbe0>"
      ]
     },
     "metadata": {},
     "output_type": "display_data"
    }
   ],
   "source": [
    "sns.factorplot('Age_bin','Survived', col='Pclass' , row = 'Sex', kind=\"violin\", data=df)"
   ]
  },
  {
   "cell_type": "code",
   "execution_count": 52,
   "metadata": {},
   "outputs": [
    {
     "data": {
      "text/html": [
       "<style  type=\"text/css\" >\n",
       "    #T_8a50b4d8_1575_11e8_8e7c_809648ae3d8crow0_col0 {\n",
       "            background-color:  #ffaa00;\n",
       "        }    #T_8a50b4d8_1575_11e8_8e7c_809648ae3d8crow0_col1 {\n",
       "            background-color:  #ffff00;\n",
       "        }    #T_8a50b4d8_1575_11e8_8e7c_809648ae3d8crow0_col2 {\n",
       "            background-color:  #ffea00;\n",
       "        }    #T_8a50b4d8_1575_11e8_8e7c_809648ae3d8crow0_col3 {\n",
       "            background-color:  #ffff00;\n",
       "        }    #T_8a50b4d8_1575_11e8_8e7c_809648ae3d8crow0_col4 {\n",
       "            background-color:  #ffff00;\n",
       "        }    #T_8a50b4d8_1575_11e8_8e7c_809648ae3d8crow0_col5 {\n",
       "            background-color:  #ffee00;\n",
       "        }    #T_8a50b4d8_1575_11e8_8e7c_809648ae3d8crow0_col6 {\n",
       "            background-color:  #ffff00;\n",
       "        }    #T_8a50b4d8_1575_11e8_8e7c_809648ae3d8crow0_col7 {\n",
       "            background-color:  #fff300;\n",
       "        }    #T_8a50b4d8_1575_11e8_8e7c_809648ae3d8crow0_col8 {\n",
       "            background-color:  #fffb00;\n",
       "        }    #T_8a50b4d8_1575_11e8_8e7c_809648ae3d8crow0_col9 {\n",
       "            background-color:  #ffff00;\n",
       "        }    #T_8a50b4d8_1575_11e8_8e7c_809648ae3d8crow0_col10 {\n",
       "            background-color:  #ffff00;\n",
       "        }    #T_8a50b4d8_1575_11e8_8e7c_809648ae3d8crow0_col11 {\n",
       "            background-color:  #fff700;\n",
       "        }    #T_8a50b4d8_1575_11e8_8e7c_809648ae3d8crow0_col12 {\n",
       "            background-color:  #ffff00;\n",
       "        }    #T_8a50b4d8_1575_11e8_8e7c_809648ae3d8crow0_col13 {\n",
       "            background-color:  #ffff00;\n",
       "        }    #T_8a50b4d8_1575_11e8_8e7c_809648ae3d8crow0_col14 {\n",
       "            background-color:  #ffbb00;\n",
       "        }    #T_8a50b4d8_1575_11e8_8e7c_809648ae3d8crow0_col15 {\n",
       "            background-color:  #ffff00;\n",
       "        }    #T_8a50b4d8_1575_11e8_8e7c_809648ae3d8crow0_col16 {\n",
       "            background-color:  #ffea00;\n",
       "        }    #T_8a50b4d8_1575_11e8_8e7c_809648ae3d8crow0_col17 {\n",
       "            background-color:  #ffff00;\n",
       "        }    #T_8a50b4d8_1575_11e8_8e7c_809648ae3d8crow0_col18 {\n",
       "            background-color:  #ffff00;\n",
       "        }    #T_8a50b4d8_1575_11e8_8e7c_809648ae3d8crow0_col19 {\n",
       "            background-color:  #ffff00;\n",
       "        }    #T_8a50b4d8_1575_11e8_8e7c_809648ae3d8crow0_col20 {\n",
       "            background-color:  #ffff00;\n",
       "        }    #T_8a50b4d8_1575_11e8_8e7c_809648ae3d8crow0_col21 {\n",
       "            background-color:  #ffff00;\n",
       "        }    #T_8a50b4d8_1575_11e8_8e7c_809648ae3d8crow0_col22 {\n",
       "            background-color:  #ffff00;\n",
       "        }    #T_8a50b4d8_1575_11e8_8e7c_809648ae3d8crow0_col23 {\n",
       "            background-color:  #ffff00;\n",
       "        }    #T_8a50b4d8_1575_11e8_8e7c_809648ae3d8crow1_col0 {\n",
       "            background-color:  #ffff00;\n",
       "        }    #T_8a50b4d8_1575_11e8_8e7c_809648ae3d8crow1_col1 {\n",
       "            background-color:  #ff8700;\n",
       "        }    #T_8a50b4d8_1575_11e8_8e7c_809648ae3d8crow1_col2 {\n",
       "            background-color:  #ffea00;\n",
       "        }    #T_8a50b4d8_1575_11e8_8e7c_809648ae3d8crow1_col3 {\n",
       "            background-color:  #ff4700;\n",
       "        }    #T_8a50b4d8_1575_11e8_8e7c_809648ae3d8crow1_col4 {\n",
       "            background-color:  #ff8e00;\n",
       "        }    #T_8a50b4d8_1575_11e8_8e7c_809648ae3d8crow1_col5 {\n",
       "            background-color:  #ffea00;\n",
       "        }    #T_8a50b4d8_1575_11e8_8e7c_809648ae3d8crow1_col6 {\n",
       "            background-color:  #ff8300;\n",
       "        }    #T_8a50b4d8_1575_11e8_8e7c_809648ae3d8crow1_col7 {\n",
       "            background-color:  #ff9700;\n",
       "        }    #T_8a50b4d8_1575_11e8_8e7c_809648ae3d8crow1_col8 {\n",
       "            background-color:  #fffb00;\n",
       "        }    #T_8a50b4d8_1575_11e8_8e7c_809648ae3d8crow1_col9 {\n",
       "            background-color:  #ff8200;\n",
       "        }    #T_8a50b4d8_1575_11e8_8e7c_809648ae3d8crow1_col10 {\n",
       "            background-color:  #ffa400;\n",
       "        }    #T_8a50b4d8_1575_11e8_8e7c_809648ae3d8crow1_col11 {\n",
       "            background-color:  #ffff00;\n",
       "        }    #T_8a50b4d8_1575_11e8_8e7c_809648ae3d8crow1_col12 {\n",
       "            background-color:  #ffb100;\n",
       "        }    #T_8a50b4d8_1575_11e8_8e7c_809648ae3d8crow1_col13 {\n",
       "            background-color:  #ff8e00;\n",
       "        }    #T_8a50b4d8_1575_11e8_8e7c_809648ae3d8crow1_col14 {\n",
       "            background-color:  #ffff00;\n",
       "        }    #T_8a50b4d8_1575_11e8_8e7c_809648ae3d8crow1_col15 {\n",
       "            background-color:  #ff8f00;\n",
       "        }    #T_8a50b4d8_1575_11e8_8e7c_809648ae3d8crow1_col16 {\n",
       "            background-color:  #ffd500;\n",
       "        }    #T_8a50b4d8_1575_11e8_8e7c_809648ae3d8crow1_col17 {\n",
       "            background-color:  #ffff00;\n",
       "        }    #T_8a50b4d8_1575_11e8_8e7c_809648ae3d8crow1_col18 {\n",
       "            background-color:  #ffd100;\n",
       "        }    #T_8a50b4d8_1575_11e8_8e7c_809648ae3d8crow1_col19 {\n",
       "            background-color:  #ffff00;\n",
       "        }    #T_8a50b4d8_1575_11e8_8e7c_809648ae3d8crow1_col20 {\n",
       "            background-color:  #ffaa00;\n",
       "        }    #T_8a50b4d8_1575_11e8_8e7c_809648ae3d8crow1_col21 {\n",
       "            background-color:  #ffff00;\n",
       "        }    #T_8a50b4d8_1575_11e8_8e7c_809648ae3d8crow1_col22 {\n",
       "            background-color:  #ffff00;\n",
       "        }    #T_8a50b4d8_1575_11e8_8e7c_809648ae3d8crow1_col23 {\n",
       "            background-color:  #ffcb00;\n",
       "        }    #T_8a50b4d8_1575_11e8_8e7c_809648ae3d8crow2_col0 {\n",
       "            background-color:  #ffff00;\n",
       "        }    #T_8a50b4d8_1575_11e8_8e7c_809648ae3d8crow2_col1 {\n",
       "            background-color:  #ffff00;\n",
       "        }    #T_8a50b4d8_1575_11e8_8e7c_809648ae3d8crow2_col2 {\n",
       "            background-color:  #ffd500;\n",
       "        }    #T_8a50b4d8_1575_11e8_8e7c_809648ae3d8crow2_col3 {\n",
       "            background-color:  #ffd500;\n",
       "        }    #T_8a50b4d8_1575_11e8_8e7c_809648ae3d8crow2_col4 {\n",
       "            background-color:  #ff7f00;\n",
       "        }    #T_8a50b4d8_1575_11e8_8e7c_809648ae3d8crow2_col5 {\n",
       "            background-color:  #ff7100;\n",
       "        }    #T_8a50b4d8_1575_11e8_8e7c_809648ae3d8crow2_col6 {\n",
       "            background-color:  #ffc400;\n",
       "        }    #T_8a50b4d8_1575_11e8_8e7c_809648ae3d8crow2_col7 {\n",
       "            background-color:  #ff7500;\n",
       "        }    #T_8a50b4d8_1575_11e8_8e7c_809648ae3d8crow2_col8 {\n",
       "            background-color:  #ff6600;\n",
       "        }    #T_8a50b4d8_1575_11e8_8e7c_809648ae3d8crow2_col9 {\n",
       "            background-color:  #ffc100;\n",
       "        }    #T_8a50b4d8_1575_11e8_8e7c_809648ae3d8crow2_col10 {\n",
       "            background-color:  #ff7900;\n",
       "        }    #T_8a50b4d8_1575_11e8_8e7c_809648ae3d8crow2_col11 {\n",
       "            background-color:  #ff5e00;\n",
       "        }    #T_8a50b4d8_1575_11e8_8e7c_809648ae3d8crow2_col12 {\n",
       "            background-color:  #ff9c00;\n",
       "        }    #T_8a50b4d8_1575_11e8_8e7c_809648ae3d8crow2_col13 {\n",
       "            background-color:  #ff9c00;\n",
       "        }    #T_8a50b4d8_1575_11e8_8e7c_809648ae3d8crow2_col14 {\n",
       "            background-color:  #ff5500;\n",
       "        }    #T_8a50b4d8_1575_11e8_8e7c_809648ae3d8crow2_col15 {\n",
       "            background-color:  #ff9900;\n",
       "        }    #T_8a50b4d8_1575_11e8_8e7c_809648ae3d8crow2_col16 {\n",
       "            background-color:  #ff3f00;\n",
       "        }    #T_8a50b4d8_1575_11e8_8e7c_809648ae3d8crow2_col17 {\n",
       "            background-color:  #ff0000;\n",
       "        }    #T_8a50b4d8_1575_11e8_8e7c_809648ae3d8crow2_col18 {\n",
       "            background-color:  #ff2e00;\n",
       "        }    #T_8a50b4d8_1575_11e8_8e7c_809648ae3d8crow2_col19 {\n",
       "            background-color:  #ff5500;\n",
       "        }    #T_8a50b4d8_1575_11e8_8e7c_809648ae3d8crow2_col20 {\n",
       "            background-color:  #ff5500;\n",
       "        }    #T_8a50b4d8_1575_11e8_8e7c_809648ae3d8crow2_col21 {\n",
       "            background-color:  #ff5500;\n",
       "        }    #T_8a50b4d8_1575_11e8_8e7c_809648ae3d8crow2_col22 {\n",
       "            background-color:  #ff0000;\n",
       "        }    #T_8a50b4d8_1575_11e8_8e7c_809648ae3d8crow2_col23 {\n",
       "            background-color:  #ff8b00;\n",
       "        }    #T_8a50b4d8_1575_11e8_8e7c_809648ae3d8crow3_col0 {\n",
       "            background-color:  #ff5500;\n",
       "        }    #T_8a50b4d8_1575_11e8_8e7c_809648ae3d8crow3_col1 {\n",
       "            background-color:  #ff7800;\n",
       "        }    #T_8a50b4d8_1575_11e8_8e7c_809648ae3d8crow3_col2 {\n",
       "            background-color:  #ffff00;\n",
       "        }    #T_8a50b4d8_1575_11e8_8e7c_809648ae3d8crow3_col3 {\n",
       "            background-color:  #ffe300;\n",
       "        }    #T_8a50b4d8_1575_11e8_8e7c_809648ae3d8crow3_col4 {\n",
       "            background-color:  #fff100;\n",
       "        }    #T_8a50b4d8_1575_11e8_8e7c_809648ae3d8crow3_col5 {\n",
       "            background-color:  #ffff00;\n",
       "        }    #T_8a50b4d8_1575_11e8_8e7c_809648ae3d8crow3_col6 {\n",
       "            background-color:  #ffcb00;\n",
       "        }    #T_8a50b4d8_1575_11e8_8e7c_809648ae3d8crow3_col7 {\n",
       "            background-color:  #ffff00;\n",
       "        }    #T_8a50b4d8_1575_11e8_8e7c_809648ae3d8crow3_col8 {\n",
       "            background-color:  #ffff00;\n",
       "        }    #T_8a50b4d8_1575_11e8_8e7c_809648ae3d8crow3_col9 {\n",
       "            background-color:  #ffbc00;\n",
       "        }    #T_8a50b4d8_1575_11e8_8e7c_809648ae3d8crow3_col10 {\n",
       "            background-color:  #fff300;\n",
       "        }    #T_8a50b4d8_1575_11e8_8e7c_809648ae3d8crow3_col11 {\n",
       "            background-color:  #fffb00;\n",
       "        }    #T_8a50b4d8_1575_11e8_8e7c_809648ae3d8crow3_col12 {\n",
       "            background-color:  #ffc700;\n",
       "        }    #T_8a50b4d8_1575_11e8_8e7c_809648ae3d8crow3_col13 {\n",
       "            background-color:  #ffff00;\n",
       "        }    #T_8a50b4d8_1575_11e8_8e7c_809648ae3d8crow3_col14 {\n",
       "            background-color:  #ffee00;\n",
       "        }    #T_8a50b4d8_1575_11e8_8e7c_809648ae3d8crow3_col15 {\n",
       "            background-color:  #ffd700;\n",
       "        }    #T_8a50b4d8_1575_11e8_8e7c_809648ae3d8crow3_col16 {\n",
       "            background-color:  #ffff00;\n",
       "        }    #T_8a50b4d8_1575_11e8_8e7c_809648ae3d8crow3_col17 {\n",
       "            background-color:  #ffff00;\n",
       "        }    #T_8a50b4d8_1575_11e8_8e7c_809648ae3d8crow3_col18 {\n",
       "            background-color:  #ffff00;\n",
       "        }    #T_8a50b4d8_1575_11e8_8e7c_809648ae3d8crow3_col19 {\n",
       "            background-color:  #ffaa00;\n",
       "        }    #T_8a50b4d8_1575_11e8_8e7c_809648ae3d8crow3_col20 {\n",
       "            background-color:  #ffff00;\n",
       "        }    #T_8a50b4d8_1575_11e8_8e7c_809648ae3d8crow3_col21 {\n",
       "            background-color:  #ffaa00;\n",
       "        }    #T_8a50b4d8_1575_11e8_8e7c_809648ae3d8crow3_col22 {\n",
       "            background-color:  #ffff00;\n",
       "        }    #T_8a50b4d8_1575_11e8_8e7c_809648ae3d8crow3_col23 {\n",
       "            background-color:  #fff400;\n",
       "        }    #T_8a50b4d8_1575_11e8_8e7c_809648ae3d8crow4_col0 {\n",
       "            background-color:  #ff0000;\n",
       "        }    #T_8a50b4d8_1575_11e8_8e7c_809648ae3d8crow4_col1 {\n",
       "            background-color:  #ff0000;\n",
       "        }    #T_8a50b4d8_1575_11e8_8e7c_809648ae3d8crow4_col2 {\n",
       "            background-color:  #ff0000;\n",
       "        }    #T_8a50b4d8_1575_11e8_8e7c_809648ae3d8crow4_col3 {\n",
       "            background-color:  #ff0000;\n",
       "        }    #T_8a50b4d8_1575_11e8_8e7c_809648ae3d8crow4_col4 {\n",
       "            background-color:  #ff0000;\n",
       "        }    #T_8a50b4d8_1575_11e8_8e7c_809648ae3d8crow4_col5 {\n",
       "            background-color:  #ff0000;\n",
       "        }    #T_8a50b4d8_1575_11e8_8e7c_809648ae3d8crow4_col6 {\n",
       "            background-color:  #ff0000;\n",
       "        }    #T_8a50b4d8_1575_11e8_8e7c_809648ae3d8crow4_col7 {\n",
       "            background-color:  #ff0000;\n",
       "        }    #T_8a50b4d8_1575_11e8_8e7c_809648ae3d8crow4_col8 {\n",
       "            background-color:  #ff0000;\n",
       "        }    #T_8a50b4d8_1575_11e8_8e7c_809648ae3d8crow4_col9 {\n",
       "            background-color:  #ff0000;\n",
       "        }    #T_8a50b4d8_1575_11e8_8e7c_809648ae3d8crow4_col10 {\n",
       "            background-color:  #ff0000;\n",
       "        }    #T_8a50b4d8_1575_11e8_8e7c_809648ae3d8crow4_col11 {\n",
       "            background-color:  #ff0000;\n",
       "        }    #T_8a50b4d8_1575_11e8_8e7c_809648ae3d8crow4_col12 {\n",
       "            background-color:  #ff0000;\n",
       "        }    #T_8a50b4d8_1575_11e8_8e7c_809648ae3d8crow4_col13 {\n",
       "            background-color:  #ff0000;\n",
       "        }    #T_8a50b4d8_1575_11e8_8e7c_809648ae3d8crow4_col14 {\n",
       "            background-color:  #ff0000;\n",
       "        }    #T_8a50b4d8_1575_11e8_8e7c_809648ae3d8crow4_col15 {\n",
       "            background-color:  #ff0000;\n",
       "        }    #T_8a50b4d8_1575_11e8_8e7c_809648ae3d8crow4_col16 {\n",
       "            background-color:  #ff0000;\n",
       "        }    #T_8a50b4d8_1575_11e8_8e7c_809648ae3d8crow4_col17 {\n",
       "            background-color:  #ff0000;\n",
       "        }    #T_8a50b4d8_1575_11e8_8e7c_809648ae3d8crow4_col18 {\n",
       "            background-color:  #ff0000;\n",
       "        }    #T_8a50b4d8_1575_11e8_8e7c_809648ae3d8crow4_col19 {\n",
       "            background-color:  #ff0000;\n",
       "        }    #T_8a50b4d8_1575_11e8_8e7c_809648ae3d8crow4_col20 {\n",
       "            background-color:  #ff0000;\n",
       "        }    #T_8a50b4d8_1575_11e8_8e7c_809648ae3d8crow4_col21 {\n",
       "            background-color:  #ff0000;\n",
       "        }    #T_8a50b4d8_1575_11e8_8e7c_809648ae3d8crow4_col22 {\n",
       "            background-color:  #ff0000;\n",
       "        }    #T_8a50b4d8_1575_11e8_8e7c_809648ae3d8crow4_col23 {\n",
       "            background-color:  #ff0000;\n",
       "        }</style>  \n",
       "<table id=\"T_8a50b4d8_1575_11e8_8e7c_809648ae3d8c\" > \n",
       "<thead>    <tr> \n",
       "        <th class=\"blank\" ></th> \n",
       "        <th class=\"index_name level0\" >Age_bin</th> \n",
       "        <th class=\"col_heading level0 col0\" colspan=3>1.0</th> \n",
       "        <th class=\"col_heading level0 col3\" colspan=3>2.0</th> \n",
       "        <th class=\"col_heading level0 col6\" colspan=3>3.0</th> \n",
       "        <th class=\"col_heading level0 col9\" colspan=3>4.0</th> \n",
       "        <th class=\"col_heading level0 col12\" colspan=3>5.0</th> \n",
       "        <th class=\"col_heading level0 col15\" colspan=3>6.0</th> \n",
       "        <th class=\"col_heading level0 col18\" colspan=3>7.0</th> \n",
       "        <th class=\"col_heading level0 col21\" colspan=2>8.0</th> \n",
       "        <th class=\"col_heading level0 col23\" >All</th> \n",
       "    </tr>    <tr> \n",
       "        <th class=\"blank\" ></th> \n",
       "        <th class=\"index_name level1\" >Pclass</th> \n",
       "        <th class=\"col_heading level1 col0\" >1</th> \n",
       "        <th class=\"col_heading level1 col1\" >2</th> \n",
       "        <th class=\"col_heading level1 col2\" >3</th> \n",
       "        <th class=\"col_heading level1 col3\" >1</th> \n",
       "        <th class=\"col_heading level1 col4\" >2</th> \n",
       "        <th class=\"col_heading level1 col5\" >3</th> \n",
       "        <th class=\"col_heading level1 col6\" >1</th> \n",
       "        <th class=\"col_heading level1 col7\" >2</th> \n",
       "        <th class=\"col_heading level1 col8\" >3</th> \n",
       "        <th class=\"col_heading level1 col9\" >1</th> \n",
       "        <th class=\"col_heading level1 col10\" >2</th> \n",
       "        <th class=\"col_heading level1 col11\" >3</th> \n",
       "        <th class=\"col_heading level1 col12\" >1</th> \n",
       "        <th class=\"col_heading level1 col13\" >2</th> \n",
       "        <th class=\"col_heading level1 col14\" >3</th> \n",
       "        <th class=\"col_heading level1 col15\" >1</th> \n",
       "        <th class=\"col_heading level1 col16\" >2</th> \n",
       "        <th class=\"col_heading level1 col17\" >3</th> \n",
       "        <th class=\"col_heading level1 col18\" >1</th> \n",
       "        <th class=\"col_heading level1 col19\" >2</th> \n",
       "        <th class=\"col_heading level1 col20\" >3</th> \n",
       "        <th class=\"col_heading level1 col21\" >1</th> \n",
       "        <th class=\"col_heading level1 col22\" >3</th> \n",
       "        <th class=\"col_heading level1 col23\" ></th> \n",
       "    </tr>    <tr> \n",
       "        <th class=\"index_name level0\" >Sex</th> \n",
       "        <th class=\"index_name level1\" >Survived</th> \n",
       "        <th class=\"blank\" ></th> \n",
       "        <th class=\"blank\" ></th> \n",
       "        <th class=\"blank\" ></th> \n",
       "        <th class=\"blank\" ></th> \n",
       "        <th class=\"blank\" ></th> \n",
       "        <th class=\"blank\" ></th> \n",
       "        <th class=\"blank\" ></th> \n",
       "        <th class=\"blank\" ></th> \n",
       "        <th class=\"blank\" ></th> \n",
       "        <th class=\"blank\" ></th> \n",
       "        <th class=\"blank\" ></th> \n",
       "        <th class=\"blank\" ></th> \n",
       "        <th class=\"blank\" ></th> \n",
       "        <th class=\"blank\" ></th> \n",
       "        <th class=\"blank\" ></th> \n",
       "        <th class=\"blank\" ></th> \n",
       "        <th class=\"blank\" ></th> \n",
       "        <th class=\"blank\" ></th> \n",
       "        <th class=\"blank\" ></th> \n",
       "        <th class=\"blank\" ></th> \n",
       "        <th class=\"blank\" ></th> \n",
       "        <th class=\"blank\" ></th> \n",
       "        <th class=\"blank\" ></th> \n",
       "        <th class=\"blank\" ></th> \n",
       "    </tr></thead> \n",
       "<tbody>    <tr> \n",
       "        <th id=\"T_8a50b4d8_1575_11e8_8e7c_809648ae3d8clevel0_row0\" class=\"row_heading level0 row0\" rowspan=2>female</th> \n",
       "        <th id=\"T_8a50b4d8_1575_11e8_8e7c_809648ae3d8clevel1_row0\" class=\"row_heading level1 row0\" >0</th> \n",
       "        <td id=\"T_8a50b4d8_1575_11e8_8e7c_809648ae3d8crow0_col0\" class=\"data row0 col0\" >1</td> \n",
       "        <td id=\"T_8a50b4d8_1575_11e8_8e7c_809648ae3d8crow0_col1\" class=\"data row0 col1\" >0</td> \n",
       "        <td id=\"T_8a50b4d8_1575_11e8_8e7c_809648ae3d8crow0_col2\" class=\"data row0 col2\" >11</td> \n",
       "        <td id=\"T_8a50b4d8_1575_11e8_8e7c_809648ae3d8crow0_col3\" class=\"data row0 col3\" >0</td> \n",
       "        <td id=\"T_8a50b4d8_1575_11e8_8e7c_809648ae3d8crow0_col4\" class=\"data row0 col4\" >0</td> \n",
       "        <td id=\"T_8a50b4d8_1575_11e8_8e7c_809648ae3d8crow0_col5\" class=\"data row0 col5\" >12</td> \n",
       "        <td id=\"T_8a50b4d8_1575_11e8_8e7c_809648ae3d8crow0_col6\" class=\"data row0 col6\" >1</td> \n",
       "        <td id=\"T_8a50b4d8_1575_11e8_8e7c_809648ae3d8crow0_col7\" class=\"data row0 col7\" >3</td> \n",
       "        <td id=\"T_8a50b4d8_1575_11e8_8e7c_809648ae3d8crow0_col8\" class=\"data row0 col8\" >16</td> \n",
       "        <td id=\"T_8a50b4d8_1575_11e8_8e7c_809648ae3d8crow0_col9\" class=\"data row0 col9\" >0</td> \n",
       "        <td id=\"T_8a50b4d8_1575_11e8_8e7c_809648ae3d8crow0_col10\" class=\"data row0 col10\" >1</td> \n",
       "        <td id=\"T_8a50b4d8_1575_11e8_8e7c_809648ae3d8crow0_col11\" class=\"data row0 col11\" >8</td> \n",
       "        <td id=\"T_8a50b4d8_1575_11e8_8e7c_809648ae3d8crow0_col12\" class=\"data row0 col12\" >1</td> \n",
       "        <td id=\"T_8a50b4d8_1575_11e8_8e7c_809648ae3d8crow0_col13\" class=\"data row0 col13\" >1</td> \n",
       "        <td id=\"T_8a50b4d8_1575_11e8_8e7c_809648ae3d8crow0_col14\" class=\"data row0 col14\" >8</td> \n",
       "        <td id=\"T_8a50b4d8_1575_11e8_8e7c_809648ae3d8crow0_col15\" class=\"data row0 col15\" >0</td> \n",
       "        <td id=\"T_8a50b4d8_1575_11e8_8e7c_809648ae3d8crow0_col16\" class=\"data row0 col16\" >1</td> \n",
       "        <td id=\"T_8a50b4d8_1575_11e8_8e7c_809648ae3d8crow0_col17\" class=\"data row0 col17\" >0</td> \n",
       "        <td id=\"T_8a50b4d8_1575_11e8_8e7c_809648ae3d8crow0_col18\" class=\"data row0 col18\" >0</td> \n",
       "        <td id=\"T_8a50b4d8_1575_11e8_8e7c_809648ae3d8crow0_col19\" class=\"data row0 col19\" >0</td> \n",
       "        <td id=\"T_8a50b4d8_1575_11e8_8e7c_809648ae3d8crow0_col20\" class=\"data row0 col20\" >0</td> \n",
       "        <td id=\"T_8a50b4d8_1575_11e8_8e7c_809648ae3d8crow0_col21\" class=\"data row0 col21\" >0</td> \n",
       "        <td id=\"T_8a50b4d8_1575_11e8_8e7c_809648ae3d8crow0_col22\" class=\"data row0 col22\" >0</td> \n",
       "        <td id=\"T_8a50b4d8_1575_11e8_8e7c_809648ae3d8crow0_col23\" class=\"data row0 col23\" >64</td> \n",
       "    </tr>    <tr> \n",
       "        <th id=\"T_8a50b4d8_1575_11e8_8e7c_809648ae3d8clevel1_row1\" class=\"row_heading level1 row1\" >1</th> \n",
       "        <td id=\"T_8a50b4d8_1575_11e8_8e7c_809648ae3d8crow1_col0\" class=\"data row1 col0\" >0</td> \n",
       "        <td id=\"T_8a50b4d8_1575_11e8_8e7c_809648ae3d8crow1_col1\" class=\"data row1 col1\" >8</td> \n",
       "        <td id=\"T_8a50b4d8_1575_11e8_8e7c_809648ae3d8crow1_col2\" class=\"data row1 col2\" >11</td> \n",
       "        <td id=\"T_8a50b4d8_1575_11e8_8e7c_809648ae3d8crow1_col3\" class=\"data row1 col3\" >13</td> \n",
       "        <td id=\"T_8a50b4d8_1575_11e8_8e7c_809648ae3d8crow1_col4\" class=\"data row1 col4\" >8</td> \n",
       "        <td id=\"T_8a50b4d8_1575_11e8_8e7c_809648ae3d8crow1_col5\" class=\"data row1 col5\" >13</td> \n",
       "        <td id=\"T_8a50b4d8_1575_11e8_8e7c_809648ae3d8crow1_col6\" class=\"data row1 col6\" >20</td> \n",
       "        <td id=\"T_8a50b4d8_1575_11e8_8e7c_809648ae3d8crow1_col7\" class=\"data row1 col7\" >25</td> \n",
       "        <td id=\"T_8a50b4d8_1575_11e8_8e7c_809648ae3d8crow1_col8\" class=\"data row1 col8\" >16</td> \n",
       "        <td id=\"T_8a50b4d8_1575_11e8_8e7c_809648ae3d8crow1_col9\" class=\"data row1 col9\" >24</td> \n",
       "        <td id=\"T_8a50b4d8_1575_11e8_8e7c_809648ae3d8crow1_col10\" class=\"data row1 col10\" >16</td> \n",
       "        <td id=\"T_8a50b4d8_1575_11e8_8e7c_809648ae3d8crow1_col11\" class=\"data row1 col11\" >6</td> \n",
       "        <td id=\"T_8a50b4d8_1575_11e8_8e7c_809648ae3d8crow1_col12\" class=\"data row1 col12\" >12</td> \n",
       "        <td id=\"T_8a50b4d8_1575_11e8_8e7c_809648ae3d8crow1_col13\" class=\"data row1 col13\" >9</td> \n",
       "        <td id=\"T_8a50b4d8_1575_11e8_8e7c_809648ae3d8crow1_col14\" class=\"data row1 col14\" >0</td> \n",
       "        <td id=\"T_8a50b4d8_1575_11e8_8e7c_809648ae3d8crow1_col15\" class=\"data row1 col15\" >11</td> \n",
       "        <td id=\"T_8a50b4d8_1575_11e8_8e7c_809648ae3d8crow1_col16\" class=\"data row1 col16\" >2</td> \n",
       "        <td id=\"T_8a50b4d8_1575_11e8_8e7c_809648ae3d8crow1_col17\" class=\"data row1 col17\" >0</td> \n",
       "        <td id=\"T_8a50b4d8_1575_11e8_8e7c_809648ae3d8crow1_col18\" class=\"data row1 col18\" >2</td> \n",
       "        <td id=\"T_8a50b4d8_1575_11e8_8e7c_809648ae3d8crow1_col19\" class=\"data row1 col19\" >0</td> \n",
       "        <td id=\"T_8a50b4d8_1575_11e8_8e7c_809648ae3d8crow1_col20\" class=\"data row1 col20\" >1</td> \n",
       "        <td id=\"T_8a50b4d8_1575_11e8_8e7c_809648ae3d8crow1_col21\" class=\"data row1 col21\" >0</td> \n",
       "        <td id=\"T_8a50b4d8_1575_11e8_8e7c_809648ae3d8crow1_col22\" class=\"data row1 col22\" >0</td> \n",
       "        <td id=\"T_8a50b4d8_1575_11e8_8e7c_809648ae3d8crow1_col23\" class=\"data row1 col23\" >197</td> \n",
       "    </tr>    <tr> \n",
       "        <th id=\"T_8a50b4d8_1575_11e8_8e7c_809648ae3d8clevel0_row2\" class=\"row_heading level0 row2\" rowspan=2>male</th> \n",
       "        <th id=\"T_8a50b4d8_1575_11e8_8e7c_809648ae3d8clevel1_row2\" class=\"row_heading level1 row2\" >0</th> \n",
       "        <td id=\"T_8a50b4d8_1575_11e8_8e7c_809648ae3d8crow2_col0\" class=\"data row2 col0\" >0</td> \n",
       "        <td id=\"T_8a50b4d8_1575_11e8_8e7c_809648ae3d8crow2_col1\" class=\"data row2 col1\" >0</td> \n",
       "        <td id=\"T_8a50b4d8_1575_11e8_8e7c_809648ae3d8crow2_col2\" class=\"data row2 col2\" >14</td> \n",
       "        <td id=\"T_8a50b4d8_1575_11e8_8e7c_809648ae3d8crow2_col3\" class=\"data row2 col3\" >3</td> \n",
       "        <td id=\"T_8a50b4d8_1575_11e8_8e7c_809648ae3d8crow2_col4\" class=\"data row2 col4\" >9</td> \n",
       "        <td id=\"T_8a50b4d8_1575_11e8_8e7c_809648ae3d8crow2_col5\" class=\"data row2 col5\" >47</td> \n",
       "        <td id=\"T_8a50b4d8_1575_11e8_8e7c_809648ae3d8crow2_col6\" class=\"data row2 col6\" >10</td> \n",
       "        <td id=\"T_8a50b4d8_1575_11e8_8e7c_809648ae3d8crow2_col7\" class=\"data row2 col7\" >33</td> \n",
       "        <td id=\"T_8a50b4d8_1575_11e8_8e7c_809648ae3d8crow2_col8\" class=\"data row2 col8\" >83</td> \n",
       "        <td id=\"T_8a50b4d8_1575_11e8_8e7c_809648ae3d8crow2_col9\" class=\"data row2 col9\" >12</td> \n",
       "        <td id=\"T_8a50b4d8_1575_11e8_8e7c_809648ae3d8crow2_col10\" class=\"data row2 col10\" >23</td> \n",
       "        <td id=\"T_8a50b4d8_1575_11e8_8e7c_809648ae3d8crow2_col11\" class=\"data row2 col11\" >42</td> \n",
       "        <td id=\"T_8a50b4d8_1575_11e8_8e7c_809648ae3d8crow2_col12\" class=\"data row2 col12\" >15</td> \n",
       "        <td id=\"T_8a50b4d8_1575_11e8_8e7c_809648ae3d8crow2_col13\" class=\"data row2 col13\" >8</td> \n",
       "        <td id=\"T_8a50b4d8_1575_11e8_8e7c_809648ae3d8crow2_col14\" class=\"data row2 col14\" >20</td> \n",
       "        <td id=\"T_8a50b4d8_1575_11e8_8e7c_809648ae3d8crow2_col15\" class=\"data row2 col15\" >10</td> \n",
       "        <td id=\"T_8a50b4d8_1575_11e8_8e7c_809648ae3d8crow2_col16\" class=\"data row2 col16\" >9</td> \n",
       "        <td id=\"T_8a50b4d8_1575_11e8_8e7c_809648ae3d8crow2_col17\" class=\"data row2 col17\" >5</td> \n",
       "        <td id=\"T_8a50b4d8_1575_11e8_8e7c_809648ae3d8crow2_col18\" class=\"data row2 col18\" >9</td> \n",
       "        <td id=\"T_8a50b4d8_1575_11e8_8e7c_809648ae3d8crow2_col19\" class=\"data row2 col19\" >2</td> \n",
       "        <td id=\"T_8a50b4d8_1575_11e8_8e7c_809648ae3d8crow2_col20\" class=\"data row2 col20\" >2</td> \n",
       "        <td id=\"T_8a50b4d8_1575_11e8_8e7c_809648ae3d8crow2_col21\" class=\"data row2 col21\" >2</td> \n",
       "        <td id=\"T_8a50b4d8_1575_11e8_8e7c_809648ae3d8crow2_col22\" class=\"data row2 col22\" >2</td> \n",
       "        <td id=\"T_8a50b4d8_1575_11e8_8e7c_809648ae3d8crow2_col23\" class=\"data row2 col23\" >360</td> \n",
       "    </tr>    <tr> \n",
       "        <th id=\"T_8a50b4d8_1575_11e8_8e7c_809648ae3d8clevel1_row3\" class=\"row_heading level1 row3\" >1</th> \n",
       "        <td id=\"T_8a50b4d8_1575_11e8_8e7c_809648ae3d8crow3_col0\" class=\"data row3 col0\" >2</td> \n",
       "        <td id=\"T_8a50b4d8_1575_11e8_8e7c_809648ae3d8crow3_col1\" class=\"data row3 col1\" >9</td> \n",
       "        <td id=\"T_8a50b4d8_1575_11e8_8e7c_809648ae3d8crow3_col2\" class=\"data row3 col2\" >8</td> \n",
       "        <td id=\"T_8a50b4d8_1575_11e8_8e7c_809648ae3d8crow3_col3\" class=\"data row3 col3\" >2</td> \n",
       "        <td id=\"T_8a50b4d8_1575_11e8_8e7c_809648ae3d8crow3_col4\" class=\"data row3 col4\" >1</td> \n",
       "        <td id=\"T_8a50b4d8_1575_11e8_8e7c_809648ae3d8crow3_col5\" class=\"data row3 col5\" >7</td> \n",
       "        <td id=\"T_8a50b4d8_1575_11e8_8e7c_809648ae3d8crow3_col6\" class=\"data row3 col6\" >9</td> \n",
       "        <td id=\"T_8a50b4d8_1575_11e8_8e7c_809648ae3d8crow3_col7\" class=\"data row3 col7\" >0</td> \n",
       "        <td id=\"T_8a50b4d8_1575_11e8_8e7c_809648ae3d8crow3_col8\" class=\"data row3 col8\" >14</td> \n",
       "        <td id=\"T_8a50b4d8_1575_11e8_8e7c_809648ae3d8crow3_col9\" class=\"data row3 col9\" >13</td> \n",
       "        <td id=\"T_8a50b4d8_1575_11e8_8e7c_809648ae3d8crow3_col10\" class=\"data row3 col10\" >3</td> \n",
       "        <td id=\"T_8a50b4d8_1575_11e8_8e7c_809648ae3d8crow3_col11\" class=\"data row3 col11\" >7</td> \n",
       "        <td id=\"T_8a50b4d8_1575_11e8_8e7c_809648ae3d8crow3_col12\" class=\"data row3 col12\" >9</td> \n",
       "        <td id=\"T_8a50b4d8_1575_11e8_8e7c_809648ae3d8crow3_col13\" class=\"data row3 col13\" >1</td> \n",
       "        <td id=\"T_8a50b4d8_1575_11e8_8e7c_809648ae3d8crow3_col14\" class=\"data row3 col14\" >2</td> \n",
       "        <td id=\"T_8a50b4d8_1575_11e8_8e7c_809648ae3d8crow3_col15\" class=\"data row3 col15\" >4</td> \n",
       "        <td id=\"T_8a50b4d8_1575_11e8_8e7c_809648ae3d8crow3_col16\" class=\"data row3 col16\" >0</td> \n",
       "        <td id=\"T_8a50b4d8_1575_11e8_8e7c_809648ae3d8crow3_col17\" class=\"data row3 col17\" >0</td> \n",
       "        <td id=\"T_8a50b4d8_1575_11e8_8e7c_809648ae3d8crow3_col18\" class=\"data row3 col18\" >0</td> \n",
       "        <td id=\"T_8a50b4d8_1575_11e8_8e7c_809648ae3d8crow3_col19\" class=\"data row3 col19\" >1</td> \n",
       "        <td id=\"T_8a50b4d8_1575_11e8_8e7c_809648ae3d8crow3_col20\" class=\"data row3 col20\" >0</td> \n",
       "        <td id=\"T_8a50b4d8_1575_11e8_8e7c_809648ae3d8crow3_col21\" class=\"data row3 col21\" >1</td> \n",
       "        <td id=\"T_8a50b4d8_1575_11e8_8e7c_809648ae3d8crow3_col22\" class=\"data row3 col22\" >0</td> \n",
       "        <td id=\"T_8a50b4d8_1575_11e8_8e7c_809648ae3d8crow3_col23\" class=\"data row3 col23\" >93</td> \n",
       "    </tr>    <tr> \n",
       "        <th id=\"T_8a50b4d8_1575_11e8_8e7c_809648ae3d8clevel0_row4\" class=\"row_heading level0 row4\" >All</th> \n",
       "        <th id=\"T_8a50b4d8_1575_11e8_8e7c_809648ae3d8clevel1_row4\" class=\"row_heading level1 row4\" ></th> \n",
       "        <td id=\"T_8a50b4d8_1575_11e8_8e7c_809648ae3d8crow4_col0\" class=\"data row4 col0\" >3</td> \n",
       "        <td id=\"T_8a50b4d8_1575_11e8_8e7c_809648ae3d8crow4_col1\" class=\"data row4 col1\" >17</td> \n",
       "        <td id=\"T_8a50b4d8_1575_11e8_8e7c_809648ae3d8crow4_col2\" class=\"data row4 col2\" >44</td> \n",
       "        <td id=\"T_8a50b4d8_1575_11e8_8e7c_809648ae3d8crow4_col3\" class=\"data row4 col3\" >18</td> \n",
       "        <td id=\"T_8a50b4d8_1575_11e8_8e7c_809648ae3d8crow4_col4\" class=\"data row4 col4\" >18</td> \n",
       "        <td id=\"T_8a50b4d8_1575_11e8_8e7c_809648ae3d8crow4_col5\" class=\"data row4 col5\" >79</td> \n",
       "        <td id=\"T_8a50b4d8_1575_11e8_8e7c_809648ae3d8crow4_col6\" class=\"data row4 col6\" >40</td> \n",
       "        <td id=\"T_8a50b4d8_1575_11e8_8e7c_809648ae3d8crow4_col7\" class=\"data row4 col7\" >61</td> \n",
       "        <td id=\"T_8a50b4d8_1575_11e8_8e7c_809648ae3d8crow4_col8\" class=\"data row4 col8\" >129</td> \n",
       "        <td id=\"T_8a50b4d8_1575_11e8_8e7c_809648ae3d8crow4_col9\" class=\"data row4 col9\" >49</td> \n",
       "        <td id=\"T_8a50b4d8_1575_11e8_8e7c_809648ae3d8crow4_col10\" class=\"data row4 col10\" >43</td> \n",
       "        <td id=\"T_8a50b4d8_1575_11e8_8e7c_809648ae3d8crow4_col11\" class=\"data row4 col11\" >63</td> \n",
       "        <td id=\"T_8a50b4d8_1575_11e8_8e7c_809648ae3d8crow4_col12\" class=\"data row4 col12\" >37</td> \n",
       "        <td id=\"T_8a50b4d8_1575_11e8_8e7c_809648ae3d8crow4_col13\" class=\"data row4 col13\" >19</td> \n",
       "        <td id=\"T_8a50b4d8_1575_11e8_8e7c_809648ae3d8crow4_col14\" class=\"data row4 col14\" >30</td> \n",
       "        <td id=\"T_8a50b4d8_1575_11e8_8e7c_809648ae3d8crow4_col15\" class=\"data row4 col15\" >25</td> \n",
       "        <td id=\"T_8a50b4d8_1575_11e8_8e7c_809648ae3d8crow4_col16\" class=\"data row4 col16\" >12</td> \n",
       "        <td id=\"T_8a50b4d8_1575_11e8_8e7c_809648ae3d8crow4_col17\" class=\"data row4 col17\" >5</td> \n",
       "        <td id=\"T_8a50b4d8_1575_11e8_8e7c_809648ae3d8crow4_col18\" class=\"data row4 col18\" >11</td> \n",
       "        <td id=\"T_8a50b4d8_1575_11e8_8e7c_809648ae3d8crow4_col19\" class=\"data row4 col19\" >3</td> \n",
       "        <td id=\"T_8a50b4d8_1575_11e8_8e7c_809648ae3d8crow4_col20\" class=\"data row4 col20\" >3</td> \n",
       "        <td id=\"T_8a50b4d8_1575_11e8_8e7c_809648ae3d8crow4_col21\" class=\"data row4 col21\" >3</td> \n",
       "        <td id=\"T_8a50b4d8_1575_11e8_8e7c_809648ae3d8crow4_col22\" class=\"data row4 col22\" >2</td> \n",
       "        <td id=\"T_8a50b4d8_1575_11e8_8e7c_809648ae3d8crow4_col23\" class=\"data row4 col23\" >714</td> \n",
       "    </tr></tbody> \n",
       "</table> "
      ],
      "text/plain": [
       "<pandas.io.formats.style.Styler at 0x1b92e5db780>"
      ]
     },
     "execution_count": 52,
     "metadata": {},
     "output_type": "execute_result"
    }
   ],
   "source": [
    "pd.crosstab([df.Sex, df.Survived], [df.Age_bin, df.Pclass], margins=True).style.background_gradient(cmap='autumn_r')"
   ]
  },
  {
   "cell_type": "code",
   "execution_count": 53,
   "metadata": {
    "collapsed": true
   },
   "outputs": [],
   "source": [
    "#  All female in Pclass 3 and Age_bin = 5 died.\n",
    "#  Males in Age_bin >= 2 and Pclass died more than survived or died greater than 50% ."
   ]
  },
  {
   "cell_type": "code",
   "execution_count": 54,
   "metadata": {},
   "outputs": [
    {
     "data": {
      "text/plain": [
       "<seaborn.axisgrid.FacetGrid at 0x1b92e554b38>"
      ]
     },
     "execution_count": 54,
     "metadata": {},
     "output_type": "execute_result"
    },
    {
     "data": {
      "image/png": "[encoded data removed]",
      "text/plain": [
       "<matplotlib.figure.Figure at 0x1b92eafe748>"
      ]
     },
     "metadata": {},
     "output_type": "display_data"
    }
   ],
   "source": [
    "sns.factorplot('SibSp', 'Survived', col='Pclass' , row = 'Sex', data=df )"
   ]
  },
  {
   "cell_type": "code",
   "execution_count": 55,
   "metadata": {
    "collapsed": true
   },
   "outputs": [],
   "source": [
    "#  Females in Pclass 1 and 2 with siblings upto 3 nearly all survived"
   ]
  },
  {
   "cell_type": "code",
   "execution_count": 56,
   "metadata": {
    "collapsed": true
   },
   "outputs": [],
   "source": [
    "#  For Pclass 3 , males and females showed a near decreasing trend as number of siblings increased ."
   ]
  },
  {
   "cell_type": "code",
   "execution_count": 57,
   "metadata": {
    "collapsed": true
   },
   "outputs": [],
   "source": [
    "#  For males, no survival rate above 0.5 for any values of SibSp. (less than 50 %)"
   ]
  },
  {
   "cell_type": "code",
   "execution_count": 58,
   "metadata": {},
   "outputs": [
    {
     "data": {
      "text/html": [
       "<style  type=\"text/css\" >\n",
       "    #T_8dc07858_1575_11e8_9ae9_809648ae3d8crow0_col0 {\n",
       "            background-color:  #ffff00;\n",
       "        }    #T_8dc07858_1575_11e8_9ae9_809648ae3d8crow0_col1 {\n",
       "            background-color:  #ffff00;\n",
       "        }    #T_8dc07858_1575_11e8_9ae9_809648ae3d8crow0_col2 {\n",
       "            background-color:  #ffff00;\n",
       "        }    #T_8dc07858_1575_11e8_9ae9_809648ae3d8crow0_col3 {\n",
       "            background-color:  #ffff00;\n",
       "        }    #T_8dc07858_1575_11e8_9ae9_809648ae3d8crow0_col4 {\n",
       "            background-color:  #ffff00;\n",
       "        }    #T_8dc07858_1575_11e8_9ae9_809648ae3d8crow0_col5 {\n",
       "            background-color:  #ffe400;\n",
       "        }    #T_8dc07858_1575_11e8_9ae9_809648ae3d8crow0_col6 {\n",
       "            background-color:  #ffff00;\n",
       "        }    #T_8dc07858_1575_11e8_9ae9_809648ae3d8crow0_col7 {\n",
       "            background-color:  #ffff00;\n",
       "        }    #T_8dc07858_1575_11e8_9ae9_809648ae3d8crow0_col8 {\n",
       "            background-color:  #ffa600;\n",
       "        }    #T_8dc07858_1575_11e8_9ae9_809648ae3d8crow0_col9 {\n",
       "            background-color:  #ffff00;\n",
       "        }    #T_8dc07858_1575_11e8_9ae9_809648ae3d8crow0_col10 {\n",
       "            background-color:  #ffaa00;\n",
       "        }    #T_8dc07858_1575_11e8_9ae9_809648ae3d8crow0_col11 {\n",
       "            background-color:  #ffff00;\n",
       "        }    #T_8dc07858_1575_11e8_9ae9_809648ae3d8crow0_col12 {\n",
       "            background-color:  #ff5500;\n",
       "        }    #T_8dc07858_1575_11e8_9ae9_809648ae3d8crow0_col13 {\n",
       "            background-color:  #ff6600;\n",
       "        }    #T_8dc07858_1575_11e8_9ae9_809648ae3d8crow0_col14 {\n",
       "            background-color:  #ff0000;\n",
       "        }    #T_8dc07858_1575_11e8_9ae9_809648ae3d8crow0_col15 {\n",
       "            background-color:  #ffff00;\n",
       "        }    #T_8dc07858_1575_11e8_9ae9_809648ae3d8crow1_col0 {\n",
       "            background-color:  #ff9e00;\n",
       "        }    #T_8dc07858_1575_11e8_9ae9_809648ae3d8crow1_col1 {\n",
       "            background-color:  #ffba00;\n",
       "        }    #T_8dc07858_1575_11e8_9ae9_809648ae3d8crow1_col2 {\n",
       "            background-color:  #fff400;\n",
       "        }    #T_8dc07858_1575_11e8_9ae9_809648ae3d8crow1_col3 {\n",
       "            background-color:  #ff7300;\n",
       "        }    #T_8dc07858_1575_11e8_9ae9_809648ae3d8crow1_col4 {\n",
       "            background-color:  #ff7b00;\n",
       "        }    #T_8dc07858_1575_11e8_9ae9_809648ae3d8crow1_col5 {\n",
       "            background-color:  #ffea00;\n",
       "        }    #T_8dc07858_1575_11e8_9ae9_809648ae3d8crow1_col6 {\n",
       "            background-color:  #ff8600;\n",
       "        }    #T_8dc07858_1575_11e8_9ae9_809648ae3d8crow1_col7 {\n",
       "            background-color:  #ff4f00;\n",
       "        }    #T_8dc07858_1575_11e8_9ae9_809648ae3d8crow1_col8 {\n",
       "            background-color:  #ffdf00;\n",
       "        }    #T_8dc07858_1575_11e8_9ae9_809648ae3d8crow1_col9 {\n",
       "            background-color:  #ff0000;\n",
       "        }    #T_8dc07858_1575_11e8_9ae9_809648ae3d8crow1_col10 {\n",
       "            background-color:  #ffaa00;\n",
       "        }    #T_8dc07858_1575_11e8_9ae9_809648ae3d8crow1_col11 {\n",
       "            background-color:  #ffff00;\n",
       "        }    #T_8dc07858_1575_11e8_9ae9_809648ae3d8crow1_col12 {\n",
       "            background-color:  #ffff00;\n",
       "        }    #T_8dc07858_1575_11e8_9ae9_809648ae3d8crow1_col13 {\n",
       "            background-color:  #ffcc00;\n",
       "        }    #T_8dc07858_1575_11e8_9ae9_809648ae3d8crow1_col14 {\n",
       "            background-color:  #ffff00;\n",
       "        }    #T_8dc07858_1575_11e8_9ae9_809648ae3d8crow1_col15 {\n",
       "            background-color:  #ffcf00;\n",
       "        }    #T_8dc07858_1575_11e8_9ae9_809648ae3d8crow2_col0 {\n",
       "            background-color:  #ff9e00;\n",
       "        }    #T_8dc07858_1575_11e8_9ae9_809648ae3d8crow2_col1 {\n",
       "            background-color:  #ff6900;\n",
       "        }    #T_8dc07858_1575_11e8_9ae9_809648ae3d8crow2_col2 {\n",
       "            background-color:  #ff5900;\n",
       "        }    #T_8dc07858_1575_11e8_9ae9_809648ae3d8crow2_col3 {\n",
       "            background-color:  #ffad00;\n",
       "        }    #T_8dc07858_1575_11e8_9ae9_809648ae3d8crow2_col4 {\n",
       "            background-color:  #ffce00;\n",
       "        }    #T_8dc07858_1575_11e8_9ae9_809648ae3d8crow2_col5 {\n",
       "            background-color:  #ffb300;\n",
       "        }    #T_8dc07858_1575_11e8_9ae9_809648ae3d8crow2_col6 {\n",
       "            background-color:  #fff200;\n",
       "        }    #T_8dc07858_1575_11e8_9ae9_809648ae3d8crow2_col7 {\n",
       "            background-color:  #ffcf00;\n",
       "        }    #T_8dc07858_1575_11e8_9ae9_809648ae3d8crow2_col8 {\n",
       "            background-color:  #ffb300;\n",
       "        }    #T_8dc07858_1575_11e8_9ae9_809648ae3d8crow2_col9 {\n",
       "            background-color:  #ffff00;\n",
       "        }    #T_8dc07858_1575_11e8_9ae9_809648ae3d8crow2_col10 {\n",
       "            background-color:  #ffaa00;\n",
       "        }    #T_8dc07858_1575_11e8_9ae9_809648ae3d8crow2_col11 {\n",
       "            background-color:  #ff0000;\n",
       "        }    #T_8dc07858_1575_11e8_9ae9_809648ae3d8crow2_col12 {\n",
       "            background-color:  #ffaa00;\n",
       "        }    #T_8dc07858_1575_11e8_9ae9_809648ae3d8crow2_col13 {\n",
       "            background-color:  #ffcc00;\n",
       "        }    #T_8dc07858_1575_11e8_9ae9_809648ae3d8crow2_col14 {\n",
       "            background-color:  #ffff00;\n",
       "        }    #T_8dc07858_1575_11e8_9ae9_809648ae3d8crow2_col15 {\n",
       "            background-color:  #ff8500;\n",
       "        }    #T_8dc07858_1575_11e8_9ae9_809648ae3d8crow3_col0 {\n",
       "            background-color:  #ffc800;\n",
       "        }    #T_8dc07858_1575_11e8_9ae9_809648ae3d8crow3_col1 {\n",
       "            background-color:  #fffa00;\n",
       "        }    #T_8dc07858_1575_11e8_9ae9_809648ae3d8crow3_col2 {\n",
       "            background-color:  #ffff00;\n",
       "        }    #T_8dc07858_1575_11e8_9ae9_809648ae3d8crow3_col3 {\n",
       "            background-color:  #ffde00;\n",
       "        }    #T_8dc07858_1575_11e8_9ae9_809648ae3d8crow3_col4 {\n",
       "            background-color:  #ffce00;\n",
       "        }    #T_8dc07858_1575_11e8_9ae9_809648ae3d8crow3_col5 {\n",
       "            background-color:  #ffff00;\n",
       "        }    #T_8dc07858_1575_11e8_9ae9_809648ae3d8crow3_col6 {\n",
       "            background-color:  #ffd700;\n",
       "        }    #T_8dc07858_1575_11e8_9ae9_809648ae3d8crow3_col7 {\n",
       "            background-color:  #ffdf00;\n",
       "        }    #T_8dc07858_1575_11e8_9ae9_809648ae3d8crow3_col8 {\n",
       "            background-color:  #ffff00;\n",
       "        }    #T_8dc07858_1575_11e8_9ae9_809648ae3d8crow3_col9 {\n",
       "            background-color:  #ffff00;\n",
       "        }    #T_8dc07858_1575_11e8_9ae9_809648ae3d8crow3_col10 {\n",
       "            background-color:  #ffff00;\n",
       "        }    #T_8dc07858_1575_11e8_9ae9_809648ae3d8crow3_col11 {\n",
       "            background-color:  #ffff00;\n",
       "        }    #T_8dc07858_1575_11e8_9ae9_809648ae3d8crow3_col12 {\n",
       "            background-color:  #ffff00;\n",
       "        }    #T_8dc07858_1575_11e8_9ae9_809648ae3d8crow3_col13 {\n",
       "            background-color:  #ffff00;\n",
       "        }    #T_8dc07858_1575_11e8_9ae9_809648ae3d8crow3_col14 {\n",
       "            background-color:  #ffff00;\n",
       "        }    #T_8dc07858_1575_11e8_9ae9_809648ae3d8crow3_col15 {\n",
       "            background-color:  #fff700;\n",
       "        }    #T_8dc07858_1575_11e8_9ae9_809648ae3d8crow4_col0 {\n",
       "            background-color:  #ff0000;\n",
       "        }    #T_8dc07858_1575_11e8_9ae9_809648ae3d8crow4_col1 {\n",
       "            background-color:  #ff0000;\n",
       "        }    #T_8dc07858_1575_11e8_9ae9_809648ae3d8crow4_col2 {\n",
       "            background-color:  #ff0000;\n",
       "        }    #T_8dc07858_1575_11e8_9ae9_809648ae3d8crow4_col3 {\n",
       "            background-color:  #ff0000;\n",
       "        }    #T_8dc07858_1575_11e8_9ae9_809648ae3d8crow4_col4 {\n",
       "            background-color:  #ff0000;\n",
       "        }    #T_8dc07858_1575_11e8_9ae9_809648ae3d8crow4_col5 {\n",
       "            background-color:  #ff0000;\n",
       "        }    #T_8dc07858_1575_11e8_9ae9_809648ae3d8crow4_col6 {\n",
       "            background-color:  #ff0000;\n",
       "        }    #T_8dc07858_1575_11e8_9ae9_809648ae3d8crow4_col7 {\n",
       "            background-color:  #ff0000;\n",
       "        }    #T_8dc07858_1575_11e8_9ae9_809648ae3d8crow4_col8 {\n",
       "            background-color:  #ff0000;\n",
       "        }    #T_8dc07858_1575_11e8_9ae9_809648ae3d8crow4_col9 {\n",
       "            background-color:  #ff0000;\n",
       "        }    #T_8dc07858_1575_11e8_9ae9_809648ae3d8crow4_col10 {\n",
       "            background-color:  #ff0000;\n",
       "        }    #T_8dc07858_1575_11e8_9ae9_809648ae3d8crow4_col11 {\n",
       "            background-color:  #ff0000;\n",
       "        }    #T_8dc07858_1575_11e8_9ae9_809648ae3d8crow4_col12 {\n",
       "            background-color:  #ff0000;\n",
       "        }    #T_8dc07858_1575_11e8_9ae9_809648ae3d8crow4_col13 {\n",
       "            background-color:  #ff0000;\n",
       "        }    #T_8dc07858_1575_11e8_9ae9_809648ae3d8crow4_col14 {\n",
       "            background-color:  #ff0000;\n",
       "        }    #T_8dc07858_1575_11e8_9ae9_809648ae3d8crow4_col15 {\n",
       "            background-color:  #ff0000;\n",
       "        }</style>  \n",
       "<table id=\"T_8dc07858_1575_11e8_9ae9_809648ae3d8c\" > \n",
       "<thead>    <tr> \n",
       "        <th class=\"blank\" ></th> \n",
       "        <th class=\"index_name level0\" >Parch</th> \n",
       "        <th class=\"col_heading level0 col0\" colspan=3>0</th> \n",
       "        <th class=\"col_heading level0 col3\" colspan=3>1</th> \n",
       "        <th class=\"col_heading level0 col6\" colspan=3>2</th> \n",
       "        <th class=\"col_heading level0 col9\" colspan=2>3</th> \n",
       "        <th class=\"col_heading level0 col11\" colspan=2>4</th> \n",
       "        <th class=\"col_heading level0 col13\" >5</th> \n",
       "        <th class=\"col_heading level0 col14\" >6</th> \n",
       "        <th class=\"col_heading level0 col15\" >All</th> \n",
       "    </tr>    <tr> \n",
       "        <th class=\"blank\" ></th> \n",
       "        <th class=\"index_name level1\" >Pclass</th> \n",
       "        <th class=\"col_heading level1 col0\" >1</th> \n",
       "        <th class=\"col_heading level1 col1\" >2</th> \n",
       "        <th class=\"col_heading level1 col2\" >3</th> \n",
       "        <th class=\"col_heading level1 col3\" >1</th> \n",
       "        <th class=\"col_heading level1 col4\" >2</th> \n",
       "        <th class=\"col_heading level1 col5\" >3</th> \n",
       "        <th class=\"col_heading level1 col6\" >1</th> \n",
       "        <th class=\"col_heading level1 col7\" >2</th> \n",
       "        <th class=\"col_heading level1 col8\" >3</th> \n",
       "        <th class=\"col_heading level1 col9\" >2</th> \n",
       "        <th class=\"col_heading level1 col10\" >3</th> \n",
       "        <th class=\"col_heading level1 col11\" >1</th> \n",
       "        <th class=\"col_heading level1 col12\" >3</th> \n",
       "        <th class=\"col_heading level1 col13\" >3</th> \n",
       "        <th class=\"col_heading level1 col14\" >3</th> \n",
       "        <th class=\"col_heading level1 col15\" ></th> \n",
       "    </tr>    <tr> \n",
       "        <th class=\"index_name level0\" >Sex</th> \n",
       "        <th class=\"index_name level1\" >Survived</th> \n",
       "        <th class=\"blank\" ></th> \n",
       "        <th class=\"blank\" ></th> \n",
       "        <th class=\"blank\" ></th> \n",
       "        <th class=\"blank\" ></th> \n",
       "        <th class=\"blank\" ></th> \n",
       "        <th class=\"blank\" ></th> \n",
       "        <th class=\"blank\" ></th> \n",
       "        <th class=\"blank\" ></th> \n",
       "        <th class=\"blank\" ></th> \n",
       "        <th class=\"blank\" ></th> \n",
       "        <th class=\"blank\" ></th> \n",
       "        <th class=\"blank\" ></th> \n",
       "        <th class=\"blank\" ></th> \n",
       "        <th class=\"blank\" ></th> \n",
       "        <th class=\"blank\" ></th> \n",
       "        <th class=\"blank\" ></th> \n",
       "    </tr></thead> \n",
       "<tbody>    <tr> \n",
       "        <th id=\"T_8dc07858_1575_11e8_9ae9_809648ae3d8clevel0_row0\" class=\"row_heading level0 row0\" rowspan=2>female</th> \n",
       "        <th id=\"T_8dc07858_1575_11e8_9ae9_809648ae3d8clevel1_row0\" class=\"row_heading level1 row0\" >0</th> \n",
       "        <td id=\"T_8dc07858_1575_11e8_9ae9_809648ae3d8crow0_col0\" class=\"data row0 col0\" >1</td> \n",
       "        <td id=\"T_8dc07858_1575_11e8_9ae9_809648ae3d8crow0_col1\" class=\"data row0 col1\" >5</td> \n",
       "        <td id=\"T_8dc07858_1575_11e8_9ae9_809648ae3d8crow0_col2\" class=\"data row0 col2\" >35</td> \n",
       "        <td id=\"T_8dc07858_1575_11e8_9ae9_809648ae3d8crow0_col3\" class=\"data row0 col3\" >0</td> \n",
       "        <td id=\"T_8dc07858_1575_11e8_9ae9_809648ae3d8crow0_col4\" class=\"data row0 col4\" >1</td> \n",
       "        <td id=\"T_8dc07858_1575_11e8_9ae9_809648ae3d8crow0_col5\" class=\"data row0 col5\" >13</td> \n",
       "        <td id=\"T_8dc07858_1575_11e8_9ae9_809648ae3d8crow0_col6\" class=\"data row0 col6\" >2</td> \n",
       "        <td id=\"T_8dc07858_1575_11e8_9ae9_809648ae3d8crow0_col7\" class=\"data row0 col7\" >0</td> \n",
       "        <td id=\"T_8dc07858_1575_11e8_9ae9_809648ae3d8crow0_col8\" class=\"data row0 col8\" >17</td> \n",
       "        <td id=\"T_8dc07858_1575_11e8_9ae9_809648ae3d8crow0_col9\" class=\"data row0 col9\" >0</td> \n",
       "        <td id=\"T_8dc07858_1575_11e8_9ae9_809648ae3d8crow0_col10\" class=\"data row0 col10\" >1</td> \n",
       "        <td id=\"T_8dc07858_1575_11e8_9ae9_809648ae3d8crow0_col11\" class=\"data row0 col11\" >0</td> \n",
       "        <td id=\"T_8dc07858_1575_11e8_9ae9_809648ae3d8crow0_col12\" class=\"data row0 col12\" >2</td> \n",
       "        <td id=\"T_8dc07858_1575_11e8_9ae9_809648ae3d8crow0_col13\" class=\"data row0 col13\" >3</td> \n",
       "        <td id=\"T_8dc07858_1575_11e8_9ae9_809648ae3d8crow0_col14\" class=\"data row0 col14\" >1</td> \n",
       "        <td id=\"T_8dc07858_1575_11e8_9ae9_809648ae3d8crow0_col15\" class=\"data row0 col15\" >81</td> \n",
       "    </tr>    <tr> \n",
       "        <th id=\"T_8dc07858_1575_11e8_9ae9_809648ae3d8clevel1_row1\" class=\"row_heading level1 row1\" >1</th> \n",
       "        <td id=\"T_8dc07858_1575_11e8_9ae9_809648ae3d8crow1_col0\" class=\"data row1 col0\" >63</td> \n",
       "        <td id=\"T_8dc07858_1575_11e8_9ae9_809648ae3d8crow1_col1\" class=\"data row1 col1\" >40</td> \n",
       "        <td id=\"T_8dc07858_1575_11e8_9ae9_809648ae3d8crow1_col2\" class=\"data row1 col2\" >50</td> \n",
       "        <td id=\"T_8dc07858_1575_11e8_9ae9_809648ae3d8crow1_col3\" class=\"data row1 col3\" >17</td> \n",
       "        <td id=\"T_8dc07858_1575_11e8_9ae9_809648ae3d8crow1_col4\" class=\"data row1 col4\" >17</td> \n",
       "        <td id=\"T_8dc07858_1575_11e8_9ae9_809648ae3d8crow1_col5\" class=\"data row1 col5\" >12</td> \n",
       "        <td id=\"T_8dc07858_1575_11e8_9ae9_809648ae3d8crow1_col6\" class=\"data row1 col6\" >11</td> \n",
       "        <td id=\"T_8dc07858_1575_11e8_9ae9_809648ae3d8crow1_col7\" class=\"data row1 col7\" >11</td> \n",
       "        <td id=\"T_8dc07858_1575_11e8_9ae9_809648ae3d8crow1_col8\" class=\"data row1 col8\" >8</td> \n",
       "        <td id=\"T_8dc07858_1575_11e8_9ae9_809648ae3d8crow1_col9\" class=\"data row1 col9\" >2</td> \n",
       "        <td id=\"T_8dc07858_1575_11e8_9ae9_809648ae3d8crow1_col10\" class=\"data row1 col10\" >1</td> \n",
       "        <td id=\"T_8dc07858_1575_11e8_9ae9_809648ae3d8crow1_col11\" class=\"data row1 col11\" >0</td> \n",
       "        <td id=\"T_8dc07858_1575_11e8_9ae9_809648ae3d8crow1_col12\" class=\"data row1 col12\" >0</td> \n",
       "        <td id=\"T_8dc07858_1575_11e8_9ae9_809648ae3d8crow1_col13\" class=\"data row1 col13\" >1</td> \n",
       "        <td id=\"T_8dc07858_1575_11e8_9ae9_809648ae3d8crow1_col14\" class=\"data row1 col14\" >0</td> \n",
       "        <td id=\"T_8dc07858_1575_11e8_9ae9_809648ae3d8crow1_col15\" class=\"data row1 col15\" >233</td> \n",
       "    </tr>    <tr> \n",
       "        <th id=\"T_8dc07858_1575_11e8_9ae9_809648ae3d8clevel0_row2\" class=\"row_heading level0 row2\" rowspan=2>male</th> \n",
       "        <th id=\"T_8dc07858_1575_11e8_9ae9_809648ae3d8clevel1_row2\" class=\"row_heading level1 row2\" >0</th> \n",
       "        <td id=\"T_8dc07858_1575_11e8_9ae9_809648ae3d8crow2_col0\" class=\"data row2 col0\" >63</td> \n",
       "        <td id=\"T_8dc07858_1575_11e8_9ae9_809648ae3d8crow2_col1\" class=\"data row2 col1\" >81</td> \n",
       "        <td id=\"T_8dc07858_1575_11e8_9ae9_809648ae3d8crow2_col2\" class=\"data row2 col2\" >260</td> \n",
       "        <td id=\"T_8dc07858_1575_11e8_9ae9_809648ae3d8crow2_col3\" class=\"data row2 col3\" >10</td> \n",
       "        <td id=\"T_8dc07858_1575_11e8_9ae9_809648ae3d8crow2_col4\" class=\"data row2 col4\" >7</td> \n",
       "        <td id=\"T_8dc07858_1575_11e8_9ae9_809648ae3d8crow2_col5\" class=\"data row2 col5\" >22</td> \n",
       "        <td id=\"T_8dc07858_1575_11e8_9ae9_809648ae3d8crow2_col6\" class=\"data row2 col6\" >3</td> \n",
       "        <td id=\"T_8dc07858_1575_11e8_9ae9_809648ae3d8crow2_col7\" class=\"data row2 col7\" >3</td> \n",
       "        <td id=\"T_8dc07858_1575_11e8_9ae9_809648ae3d8crow2_col8\" class=\"data row2 col8\" >15</td> \n",
       "        <td id=\"T_8dc07858_1575_11e8_9ae9_809648ae3d8crow2_col9\" class=\"data row2 col9\" >0</td> \n",
       "        <td id=\"T_8dc07858_1575_11e8_9ae9_809648ae3d8crow2_col10\" class=\"data row2 col10\" >1</td> \n",
       "        <td id=\"T_8dc07858_1575_11e8_9ae9_809648ae3d8crow2_col11\" class=\"data row2 col11\" >1</td> \n",
       "        <td id=\"T_8dc07858_1575_11e8_9ae9_809648ae3d8crow2_col12\" class=\"data row2 col12\" >1</td> \n",
       "        <td id=\"T_8dc07858_1575_11e8_9ae9_809648ae3d8crow2_col13\" class=\"data row2 col13\" >1</td> \n",
       "        <td id=\"T_8dc07858_1575_11e8_9ae9_809648ae3d8crow2_col14\" class=\"data row2 col14\" >0</td> \n",
       "        <td id=\"T_8dc07858_1575_11e8_9ae9_809648ae3d8crow2_col15\" class=\"data row2 col15\" >468</td> \n",
       "    </tr>    <tr> \n",
       "        <th id=\"T_8dc07858_1575_11e8_9ae9_809648ae3d8clevel1_row3\" class=\"row_heading level1 row3\" >1</th> \n",
       "        <td id=\"T_8dc07858_1575_11e8_9ae9_809648ae3d8crow3_col0\" class=\"data row3 col0\" >36</td> \n",
       "        <td id=\"T_8dc07858_1575_11e8_9ae9_809648ae3d8crow3_col1\" class=\"data row3 col1\" >8</td> \n",
       "        <td id=\"T_8dc07858_1575_11e8_9ae9_809648ae3d8crow3_col2\" class=\"data row3 col2\" >36</td> \n",
       "        <td id=\"T_8dc07858_1575_11e8_9ae9_809648ae3d8crow3_col3\" class=\"data row3 col3\" >4</td> \n",
       "        <td id=\"T_8dc07858_1575_11e8_9ae9_809648ae3d8crow3_col4\" class=\"data row3 col4\" >7</td> \n",
       "        <td id=\"T_8dc07858_1575_11e8_9ae9_809648ae3d8crow3_col5\" class=\"data row3 col5\" >8</td> \n",
       "        <td id=\"T_8dc07858_1575_11e8_9ae9_809648ae3d8crow3_col6\" class=\"data row3 col6\" >5</td> \n",
       "        <td id=\"T_8dc07858_1575_11e8_9ae9_809648ae3d8crow3_col7\" class=\"data row3 col7\" >2</td> \n",
       "        <td id=\"T_8dc07858_1575_11e8_9ae9_809648ae3d8crow3_col8\" class=\"data row3 col8\" >3</td> \n",
       "        <td id=\"T_8dc07858_1575_11e8_9ae9_809648ae3d8crow3_col9\" class=\"data row3 col9\" >0</td> \n",
       "        <td id=\"T_8dc07858_1575_11e8_9ae9_809648ae3d8crow3_col10\" class=\"data row3 col10\" >0</td> \n",
       "        <td id=\"T_8dc07858_1575_11e8_9ae9_809648ae3d8crow3_col11\" class=\"data row3 col11\" >0</td> \n",
       "        <td id=\"T_8dc07858_1575_11e8_9ae9_809648ae3d8crow3_col12\" class=\"data row3 col12\" >0</td> \n",
       "        <td id=\"T_8dc07858_1575_11e8_9ae9_809648ae3d8crow3_col13\" class=\"data row3 col13\" >0</td> \n",
       "        <td id=\"T_8dc07858_1575_11e8_9ae9_809648ae3d8crow3_col14\" class=\"data row3 col14\" >0</td> \n",
       "        <td id=\"T_8dc07858_1575_11e8_9ae9_809648ae3d8crow3_col15\" class=\"data row3 col15\" >109</td> \n",
       "    </tr>    <tr> \n",
       "        <th id=\"T_8dc07858_1575_11e8_9ae9_809648ae3d8clevel0_row4\" class=\"row_heading level0 row4\" >All</th> \n",
       "        <th id=\"T_8dc07858_1575_11e8_9ae9_809648ae3d8clevel1_row4\" class=\"row_heading level1 row4\" ></th> \n",
       "        <td id=\"T_8dc07858_1575_11e8_9ae9_809648ae3d8crow4_col0\" class=\"data row4 col0\" >163</td> \n",
       "        <td id=\"T_8dc07858_1575_11e8_9ae9_809648ae3d8crow4_col1\" class=\"data row4 col1\" >134</td> \n",
       "        <td id=\"T_8dc07858_1575_11e8_9ae9_809648ae3d8crow4_col2\" class=\"data row4 col2\" >381</td> \n",
       "        <td id=\"T_8dc07858_1575_11e8_9ae9_809648ae3d8crow4_col3\" class=\"data row4 col3\" >31</td> \n",
       "        <td id=\"T_8dc07858_1575_11e8_9ae9_809648ae3d8crow4_col4\" class=\"data row4 col4\" >32</td> \n",
       "        <td id=\"T_8dc07858_1575_11e8_9ae9_809648ae3d8crow4_col5\" class=\"data row4 col5\" >55</td> \n",
       "        <td id=\"T_8dc07858_1575_11e8_9ae9_809648ae3d8crow4_col6\" class=\"data row4 col6\" >21</td> \n",
       "        <td id=\"T_8dc07858_1575_11e8_9ae9_809648ae3d8crow4_col7\" class=\"data row4 col7\" >16</td> \n",
       "        <td id=\"T_8dc07858_1575_11e8_9ae9_809648ae3d8crow4_col8\" class=\"data row4 col8\" >43</td> \n",
       "        <td id=\"T_8dc07858_1575_11e8_9ae9_809648ae3d8crow4_col9\" class=\"data row4 col9\" >2</td> \n",
       "        <td id=\"T_8dc07858_1575_11e8_9ae9_809648ae3d8crow4_col10\" class=\"data row4 col10\" >3</td> \n",
       "        <td id=\"T_8dc07858_1575_11e8_9ae9_809648ae3d8crow4_col11\" class=\"data row4 col11\" >1</td> \n",
       "        <td id=\"T_8dc07858_1575_11e8_9ae9_809648ae3d8crow4_col12\" class=\"data row4 col12\" >3</td> \n",
       "        <td id=\"T_8dc07858_1575_11e8_9ae9_809648ae3d8crow4_col13\" class=\"data row4 col13\" >5</td> \n",
       "        <td id=\"T_8dc07858_1575_11e8_9ae9_809648ae3d8crow4_col14\" class=\"data row4 col14\" >1</td> \n",
       "        <td id=\"T_8dc07858_1575_11e8_9ae9_809648ae3d8crow4_col15\" class=\"data row4 col15\" >891</td> \n",
       "    </tr></tbody> \n",
       "</table> "
      ],
      "text/plain": [
       "<pandas.io.formats.style.Styler at 0x1b930774710>"
      ]
     },
     "execution_count": 58,
     "metadata": {},
     "output_type": "execute_result"
    }
   ],
   "source": [
    "pd.crosstab([df.Sex, df.Survived], [df.Parch, df.Pclass], margins=True).style.background_gradient(cmap='autumn_r')"
   ]
  },
  {
   "cell_type": "code",
   "execution_count": 59,
   "metadata": {
    "collapsed": true
   },
   "outputs": [],
   "source": [
    "#  For males,all survival rates below 0.5 for any values of Parch, except for Parch = 2 and Pclass = 1."
   ]
  },
  {
   "cell_type": "code",
   "execution_count": 60,
   "metadata": {},
   "outputs": [
    {
     "data": {
      "text/plain": [
       "<seaborn.axisgrid.FacetGrid at 0x1b92eed4908>"
      ]
     },
     "execution_count": 60,
     "metadata": {},
     "output_type": "execute_result"
    },
    {
     "data": {
      "image/png": "[encoded data removed]",
      "text/plain": [
       "<matplotlib.figure.Figure at 0x1b92e2c0908>"
      ]
     },
     "metadata": {},
     "output_type": "display_data"
    }
   ],
   "source": [
    "sns.factorplot('Parch', 'Survived', col='Pclass' , row = 'Sex', kind=\"bar\", data=df )"
   ]
  },
  {
   "cell_type": "code",
   "execution_count": 61,
   "metadata": {
    "collapsed": true
   },
   "outputs": [],
   "source": [
    "# the distribution of Age_bin , SibSp and Parch as follows"
   ]
  },
  {
   "cell_type": "code",
   "execution_count": 62,
   "metadata": {
    "collapsed": true
   },
   "outputs": [],
   "source": [
    "for x in [train, test , df]:\n",
    "    x['Fare_bin']=np.nan\n",
    "    for i in range(12,0,-1):\n",
    "        x.loc[ df['Fare'] <= i*50, 'Fare_bin'] = i"
   ]
  },
  {
   "cell_type": "code",
   "execution_count": 63,
   "metadata": {},
   "outputs": [
    {
     "data": {
      "image/png": "[encoded data removed]",
      "text/plain": [
       "<matplotlib.figure.Figure at 0x1b930e164e0>"
      ]
     },
     "metadata": {},
     "output_type": "display_data"
    }
   ],
   "source": [
    "fig, axes = plt.subplots(4,1)\n",
    "fig.set_size_inches(20, 18)\n",
    "sns.kdeplot(df.SibSp , shade=True, color=\"red\" , ax= axes[0])\n",
    "sns.kdeplot(df.Parch , shade=True, color=\"red\" , ax= axes[1])\n",
    "sns.kdeplot(df.Age_bin , shade=True, color=\"red\" , ax= axes[2])\n",
    "sns.kdeplot(df.Fare , shade=True, color=\"red\" , ax= axes[3])\n",
    "plt.show()"
   ]
  },
  {
   "cell_type": "markdown",
   "metadata": {
    "collapsed": true
   },
   "source": [
    "###  Maximum people are with no siblings travelling\n",
    "###  more people were travelling with only their 1 parent rather than 2 \n",
    "###  maximum population on the ship was aged between 15 yrs to 50 yrs.\n",
    "###  most of the people only paid upto 50 as their fare"
   ]
  },
  {
   "cell_type": "code",
   "execution_count": 64,
   "metadata": {
    "collapsed": true
   },
   "outputs": [],
   "source": [
    "# introducing Fare_bin the same way as done in the Age_bin above but with a gap of 50"
   ]
  },
  {
   "cell_type": "code",
   "execution_count": 65,
   "metadata": {},
   "outputs": [
    {
     "data": {
      "text/html": [
       "<div>\n",
       "<style scoped>\n",
       "    .dataframe tbody tr th:only-of-type {\n",
       "        vertical-align: middle;\n",
       "    }\n",
       "\n",
       "    .dataframe tbody tr th {\n",
       "        vertical-align: top;\n",
       "    }\n",
       "\n",
       "    .dataframe thead th {\n",
       "        text-align: right;\n",
       "    }\n",
       "</style>\n",
       "<table border=\"1\" class=\"dataframe\">\n",
       "  <thead>\n",
       "    <tr style=\"text-align: right;\">\n",
       "      <th></th>\n",
       "      <th>Fare</th>\n",
       "      <th>Fare_bin</th>\n",
       "    </tr>\n",
       "  </thead>\n",
       "  <tbody>\n",
       "    <tr>\n",
       "      <th>0</th>\n",
       "      <td>7.2500</td>\n",
       "      <td>1.0</td>\n",
       "    </tr>\n",
       "    <tr>\n",
       "      <th>1</th>\n",
       "      <td>71.2833</td>\n",
       "      <td>2.0</td>\n",
       "    </tr>\n",
       "    <tr>\n",
       "      <th>2</th>\n",
       "      <td>7.9250</td>\n",
       "      <td>1.0</td>\n",
       "    </tr>\n",
       "    <tr>\n",
       "      <th>3</th>\n",
       "      <td>53.1000</td>\n",
       "      <td>2.0</td>\n",
       "    </tr>\n",
       "    <tr>\n",
       "      <th>4</th>\n",
       "      <td>8.0500</td>\n",
       "      <td>1.0</td>\n",
       "    </tr>\n",
       "    <tr>\n",
       "      <th>5</th>\n",
       "      <td>8.4583</td>\n",
       "      <td>1.0</td>\n",
       "    </tr>\n",
       "    <tr>\n",
       "      <th>6</th>\n",
       "      <td>51.8625</td>\n",
       "      <td>2.0</td>\n",
       "    </tr>\n",
       "    <tr>\n",
       "      <th>7</th>\n",
       "      <td>21.0750</td>\n",
       "      <td>1.0</td>\n",
       "    </tr>\n",
       "    <tr>\n",
       "      <th>8</th>\n",
       "      <td>11.1333</td>\n",
       "      <td>1.0</td>\n",
       "    </tr>\n",
       "    <tr>\n",
       "      <th>9</th>\n",
       "      <td>30.0708</td>\n",
       "      <td>1.0</td>\n",
       "    </tr>\n",
       "  </tbody>\n",
       "</table>\n",
       "</div>"
      ],
      "text/plain": [
       "      Fare  Fare_bin\n",
       "0   7.2500       1.0\n",
       "1  71.2833       2.0\n",
       "2   7.9250       1.0\n",
       "3  53.1000       2.0\n",
       "4   8.0500       1.0\n",
       "5   8.4583       1.0\n",
       "6  51.8625       2.0\n",
       "7  21.0750       1.0\n",
       "8  11.1333       1.0\n",
       "9  30.0708       1.0"
      ]
     },
     "execution_count": 65,
     "metadata": {},
     "output_type": "execute_result"
    }
   ],
   "source": [
    "df[[\"Fare\" , \"Fare_bin\"]].head(10)"
   ]
  },
  {
   "cell_type": "code",
   "execution_count": 66,
   "metadata": {},
   "outputs": [
    {
     "data": {
      "text/html": [
       "<style  type=\"text/css\" >\n",
       "    #T_92852d14_1575_11e8_8078_809648ae3d8crow0_col0 {\n",
       "            background-color:  #ffff00;\n",
       "        }    #T_92852d14_1575_11e8_8078_809648ae3d8crow0_col1 {\n",
       "            background-color:  #ffff00;\n",
       "        }    #T_92852d14_1575_11e8_8078_809648ae3d8crow0_col2 {\n",
       "            background-color:  #fff000;\n",
       "        }    #T_92852d14_1575_11e8_8078_809648ae3d8crow0_col3 {\n",
       "            background-color:  #ffff00;\n",
       "        }    #T_92852d14_1575_11e8_8078_809648ae3d8crow0_col4 {\n",
       "            background-color:  #ffff00;\n",
       "        }    #T_92852d14_1575_11e8_8078_809648ae3d8crow0_col5 {\n",
       "            background-color:  #ffc900;\n",
       "        }    #T_92852d14_1575_11e8_8078_809648ae3d8crow0_col6 {\n",
       "            background-color:  #ffff00;\n",
       "        }    #T_92852d14_1575_11e8_8078_809648ae3d8crow0_col7 {\n",
       "            background-color:  #ffdf00;\n",
       "        }    #T_92852d14_1575_11e8_8078_809648ae3d8crow0_col8 {\n",
       "            background-color:  #ffff00;\n",
       "        }    #T_92852d14_1575_11e8_8078_809648ae3d8crow0_col9 {\n",
       "            background-color:  #ffff00;\n",
       "        }    #T_92852d14_1575_11e8_8078_809648ae3d8crow0_col10 {\n",
       "            background-color:  #ffff00;\n",
       "        }    #T_92852d14_1575_11e8_8078_809648ae3d8crow0_col11 {\n",
       "            background-color:  #ffff00;\n",
       "        }    #T_92852d14_1575_11e8_8078_809648ae3d8crow1_col0 {\n",
       "            background-color:  #ffde00;\n",
       "        }    #T_92852d14_1575_11e8_8078_809648ae3d8crow1_col1 {\n",
       "            background-color:  #ffa300;\n",
       "        }    #T_92852d14_1575_11e8_8078_809648ae3d8crow1_col2 {\n",
       "            background-color:  #ffee00;\n",
       "        }    #T_92852d14_1575_11e8_8078_809648ae3d8crow1_col3 {\n",
       "            background-color:  #ff7100;\n",
       "        }    #T_92852d14_1575_11e8_8078_809648ae3d8crow1_col4 {\n",
       "            background-color:  #ffb600;\n",
       "        }    #T_92852d14_1575_11e8_8078_809648ae3d8crow1_col5 {\n",
       "            background-color:  #ffff00;\n",
       "        }    #T_92852d14_1575_11e8_8078_809648ae3d8crow1_col6 {\n",
       "            background-color:  #ff5f00;\n",
       "        }    #T_92852d14_1575_11e8_8078_809648ae3d8crow1_col7 {\n",
       "            background-color:  #ff7f00;\n",
       "        }    #T_92852d14_1575_11e8_8078_809648ae3d8crow1_col8 {\n",
       "            background-color:  #ff5d00;\n",
       "        }    #T_92852d14_1575_11e8_8078_809648ae3d8crow1_col9 {\n",
       "            background-color:  #ff5500;\n",
       "        }    #T_92852d14_1575_11e8_8078_809648ae3d8crow1_col10 {\n",
       "            background-color:  #ffaa00;\n",
       "        }    #T_92852d14_1575_11e8_8078_809648ae3d8crow1_col11 {\n",
       "            background-color:  #ffcf00;\n",
       "        }    #T_92852d14_1575_11e8_8078_809648ae3d8crow2_col0 {\n",
       "            background-color:  #ff7500;\n",
       "        }    #T_92852d14_1575_11e8_8078_809648ae3d8crow2_col1 {\n",
       "            background-color:  #ff8800;\n",
       "        }    #T_92852d14_1575_11e8_8078_809648ae3d8crow2_col2 {\n",
       "            background-color:  #ff6b00;\n",
       "        }    #T_92852d14_1575_11e8_8078_809648ae3d8crow2_col3 {\n",
       "            background-color:  #ffbb00;\n",
       "        }    #T_92852d14_1575_11e8_8078_809648ae3d8crow2_col4 {\n",
       "            background-color:  #ff4900;\n",
       "        }    #T_92852d14_1575_11e8_8078_809648ae3d8crow2_col5 {\n",
       "            background-color:  #ff9200;\n",
       "        }    #T_92852d14_1575_11e8_8078_809648ae3d8crow2_col6 {\n",
       "            background-color:  #ffca00;\n",
       "        }    #T_92852d14_1575_11e8_8078_809648ae3d8crow2_col7 {\n",
       "            background-color:  #ffff00;\n",
       "        }    #T_92852d14_1575_11e8_8078_809648ae3d8crow2_col8 {\n",
       "            background-color:  #ffa200;\n",
       "        }    #T_92852d14_1575_11e8_8078_809648ae3d8crow2_col9 {\n",
       "            background-color:  #ffaa00;\n",
       "        }    #T_92852d14_1575_11e8_8078_809648ae3d8crow2_col10 {\n",
       "            background-color:  #ffff00;\n",
       "        }    #T_92852d14_1575_11e8_8078_809648ae3d8crow2_col11 {\n",
       "            background-color:  #ff8500;\n",
       "        }    #T_92852d14_1575_11e8_8078_809648ae3d8crow3_col0 {\n",
       "            background-color:  #ffb500;\n",
       "        }    #T_92852d14_1575_11e8_8078_809648ae3d8crow3_col1 {\n",
       "            background-color:  #ffef00;\n",
       "        }    #T_92852d14_1575_11e8_8078_809648ae3d8crow3_col2 {\n",
       "            background-color:  #ffff00;\n",
       "        }    #T_92852d14_1575_11e8_8078_809648ae3d8crow3_col3 {\n",
       "            background-color:  #ffd300;\n",
       "        }    #T_92852d14_1575_11e8_8078_809648ae3d8crow3_col4 {\n",
       "            background-color:  #ffff00;\n",
       "        }    #T_92852d14_1575_11e8_8078_809648ae3d8crow3_col5 {\n",
       "            background-color:  #ffa400;\n",
       "        }    #T_92852d14_1575_11e8_8078_809648ae3d8crow3_col6 {\n",
       "            background-color:  #ffd500;\n",
       "        }    #T_92852d14_1575_11e8_8078_809648ae3d8crow3_col7 {\n",
       "            background-color:  #ffff00;\n",
       "        }    #T_92852d14_1575_11e8_8078_809648ae3d8crow3_col8 {\n",
       "            background-color:  #ffff00;\n",
       "        }    #T_92852d14_1575_11e8_8078_809648ae3d8crow3_col9 {\n",
       "            background-color:  #ffff00;\n",
       "        }    #T_92852d14_1575_11e8_8078_809648ae3d8crow3_col10 {\n",
       "            background-color:  #ff5500;\n",
       "        }    #T_92852d14_1575_11e8_8078_809648ae3d8crow3_col11 {\n",
       "            background-color:  #fff700;\n",
       "        }    #T_92852d14_1575_11e8_8078_809648ae3d8crow4_col0 {\n",
       "            background-color:  #ff0000;\n",
       "        }    #T_92852d14_1575_11e8_8078_809648ae3d8crow4_col1 {\n",
       "            background-color:  #ff0000;\n",
       "        }    #T_92852d14_1575_11e8_8078_809648ae3d8crow4_col2 {\n",
       "            background-color:  #ff0000;\n",
       "        }    #T_92852d14_1575_11e8_8078_809648ae3d8crow4_col3 {\n",
       "            background-color:  #ff0000;\n",
       "        }    #T_92852d14_1575_11e8_8078_809648ae3d8crow4_col4 {\n",
       "            background-color:  #ff0000;\n",
       "        }    #T_92852d14_1575_11e8_8078_809648ae3d8crow4_col5 {\n",
       "            background-color:  #ff0000;\n",
       "        }    #T_92852d14_1575_11e8_8078_809648ae3d8crow4_col6 {\n",
       "            background-color:  #ff0000;\n",
       "        }    #T_92852d14_1575_11e8_8078_809648ae3d8crow4_col7 {\n",
       "            background-color:  #ff0000;\n",
       "        }    #T_92852d14_1575_11e8_8078_809648ae3d8crow4_col8 {\n",
       "            background-color:  #ff0000;\n",
       "        }    #T_92852d14_1575_11e8_8078_809648ae3d8crow4_col9 {\n",
       "            background-color:  #ff0000;\n",
       "        }    #T_92852d14_1575_11e8_8078_809648ae3d8crow4_col10 {\n",
       "            background-color:  #ff0000;\n",
       "        }    #T_92852d14_1575_11e8_8078_809648ae3d8crow4_col11 {\n",
       "            background-color:  #ff0000;\n",
       "        }</style>  \n",
       "<table id=\"T_92852d14_1575_11e8_8078_809648ae3d8c\" > \n",
       "<thead>    <tr> \n",
       "        <th class=\"blank\" ></th> \n",
       "        <th class=\"index_name level0\" >Fare_bin</th> \n",
       "        <th class=\"col_heading level0 col0\" colspan=3>1.0</th> \n",
       "        <th class=\"col_heading level0 col3\" colspan=3>2.0</th> \n",
       "        <th class=\"col_heading level0 col6\" >3.0</th> \n",
       "        <th class=\"col_heading level0 col7\" >4.0</th> \n",
       "        <th class=\"col_heading level0 col8\" >5.0</th> \n",
       "        <th class=\"col_heading level0 col9\" >6.0</th> \n",
       "        <th class=\"col_heading level0 col10\" >11.0</th> \n",
       "        <th class=\"col_heading level0 col11\" >All</th> \n",
       "    </tr>    <tr> \n",
       "        <th class=\"blank\" ></th> \n",
       "        <th class=\"index_name level1\" >Pclass</th> \n",
       "        <th class=\"col_heading level1 col0\" >1</th> \n",
       "        <th class=\"col_heading level1 col1\" >2</th> \n",
       "        <th class=\"col_heading level1 col2\" >3</th> \n",
       "        <th class=\"col_heading level1 col3\" >1</th> \n",
       "        <th class=\"col_heading level1 col4\" >2</th> \n",
       "        <th class=\"col_heading level1 col5\" >3</th> \n",
       "        <th class=\"col_heading level1 col6\" >1</th> \n",
       "        <th class=\"col_heading level1 col7\" >1</th> \n",
       "        <th class=\"col_heading level1 col8\" >1</th> \n",
       "        <th class=\"col_heading level1 col9\" >1</th> \n",
       "        <th class=\"col_heading level1 col10\" >1</th> \n",
       "        <th class=\"col_heading level1 col11\" ></th> \n",
       "    </tr>    <tr> \n",
       "        <th class=\"index_name level0\" >Sex</th> \n",
       "        <th class=\"index_name level1\" >Survived</th> \n",
       "        <th class=\"blank\" ></th> \n",
       "        <th class=\"blank\" ></th> \n",
       "        <th class=\"blank\" ></th> \n",
       "        <th class=\"blank\" ></th> \n",
       "        <th class=\"blank\" ></th> \n",
       "        <th class=\"blank\" ></th> \n",
       "        <th class=\"blank\" ></th> \n",
       "        <th class=\"blank\" ></th> \n",
       "        <th class=\"blank\" ></th> \n",
       "        <th class=\"blank\" ></th> \n",
       "        <th class=\"blank\" ></th> \n",
       "        <th class=\"blank\" ></th> \n",
       "    </tr></thead> \n",
       "<tbody>    <tr> \n",
       "        <th id=\"T_92852d14_1575_11e8_8078_809648ae3d8clevel0_row0\" class=\"row_heading level0 row0\" rowspan=2>female</th> \n",
       "        <th id=\"T_92852d14_1575_11e8_8078_809648ae3d8clevel1_row0\" class=\"row_heading level1 row0\" >0</th> \n",
       "        <td id=\"T_92852d14_1575_11e8_8078_809648ae3d8crow0_col0\" class=\"data row0 col0\" >1</td> \n",
       "        <td id=\"T_92852d14_1575_11e8_8078_809648ae3d8crow0_col1\" class=\"data row0 col1\" >6</td> \n",
       "        <td id=\"T_92852d14_1575_11e8_8078_809648ae3d8crow0_col2\" class=\"data row0 col2\" >69</td> \n",
       "        <td id=\"T_92852d14_1575_11e8_8078_809648ae3d8crow0_col3\" class=\"data row0 col3\" >0</td> \n",
       "        <td id=\"T_92852d14_1575_11e8_8078_809648ae3d8crow0_col4\" class=\"data row0 col4\" >0</td> \n",
       "        <td id=\"T_92852d14_1575_11e8_8078_809648ae3d8crow0_col5\" class=\"data row0 col5\" >3</td> \n",
       "        <td id=\"T_92852d14_1575_11e8_8078_809648ae3d8crow0_col6\" class=\"data row0 col6\" >0</td> \n",
       "        <td id=\"T_92852d14_1575_11e8_8078_809648ae3d8crow0_col7\" class=\"data row0 col7\" >2</td> \n",
       "        <td id=\"T_92852d14_1575_11e8_8078_809648ae3d8crow0_col8\" class=\"data row0 col8\" >0</td> \n",
       "        <td id=\"T_92852d14_1575_11e8_8078_809648ae3d8crow0_col9\" class=\"data row0 col9\" >0</td> \n",
       "        <td id=\"T_92852d14_1575_11e8_8078_809648ae3d8crow0_col10\" class=\"data row0 col10\" >0</td> \n",
       "        <td id=\"T_92852d14_1575_11e8_8078_809648ae3d8crow0_col11\" class=\"data row0 col11\" >81</td> \n",
       "    </tr>    <tr> \n",
       "        <th id=\"T_92852d14_1575_11e8_8078_809648ae3d8clevel1_row1\" class=\"row_heading level1 row1\" >1</th> \n",
       "        <td id=\"T_92852d14_1575_11e8_8078_809648ae3d8crow1_col0\" class=\"data row1 col0\" >11</td> \n",
       "        <td id=\"T_92852d14_1575_11e8_8078_809648ae3d8crow1_col1\" class=\"data row1 col1\" >68</td> \n",
       "        <td id=\"T_92852d14_1575_11e8_8078_809648ae3d8crow1_col2\" class=\"data row1 col2\" >72</td> \n",
       "        <td id=\"T_92852d14_1575_11e8_8078_809648ae3d8crow1_col3\" class=\"data row1 col3\" >48</td> \n",
       "        <td id=\"T_92852d14_1575_11e8_8078_809648ae3d8crow1_col4\" class=\"data row1 col4\" >2</td> \n",
       "        <td id=\"T_92852d14_1575_11e8_8078_809648ae3d8crow1_col5\" class=\"data row1 col5\" >0</td> \n",
       "        <td id=\"T_92852d14_1575_11e8_8078_809648ae3d8crow1_col6\" class=\"data row1 col6\" >15</td> \n",
       "        <td id=\"T_92852d14_1575_11e8_8078_809648ae3d8crow1_col7\" class=\"data row1 col7\" >5</td> \n",
       "        <td id=\"T_92852d14_1575_11e8_8078_809648ae3d8crow1_col8\" class=\"data row1 col8\" >7</td> \n",
       "        <td id=\"T_92852d14_1575_11e8_8078_809648ae3d8crow1_col9\" class=\"data row1 col9\" >4</td> \n",
       "        <td id=\"T_92852d14_1575_11e8_8078_809648ae3d8crow1_col10\" class=\"data row1 col10\" >1</td> \n",
       "        <td id=\"T_92852d14_1575_11e8_8078_809648ae3d8crow1_col11\" class=\"data row1 col11\" >233</td> \n",
       "    </tr>    <tr> \n",
       "        <th id=\"T_92852d14_1575_11e8_8078_809648ae3d8clevel0_row2\" class=\"row_heading level0 row2\" rowspan=2>male</th> \n",
       "        <th id=\"T_92852d14_1575_11e8_8078_809648ae3d8clevel1_row2\" class=\"row_heading level1 row2\" >0</th> \n",
       "        <td id=\"T_92852d14_1575_11e8_8078_809648ae3d8crow2_col0\" class=\"data row2 col0\" >42</td> \n",
       "        <td id=\"T_92852d14_1575_11e8_8078_809648ae3d8crow2_col1\" class=\"data row2 col1\" >86</td> \n",
       "        <td id=\"T_92852d14_1575_11e8_8078_809648ae3d8crow2_col2\" class=\"data row2 col2\" >294</td> \n",
       "        <td id=\"T_92852d14_1575_11e8_8078_809648ae3d8crow2_col3\" class=\"data row2 col3\" >23</td> \n",
       "        <td id=\"T_92852d14_1575_11e8_8078_809648ae3d8crow2_col4\" class=\"data row2 col4\" >5</td> \n",
       "        <td id=\"T_92852d14_1575_11e8_8078_809648ae3d8crow2_col5\" class=\"data row2 col5\" >6</td> \n",
       "        <td id=\"T_92852d14_1575_11e8_8078_809648ae3d8crow2_col6\" class=\"data row2 col6\" >5</td> \n",
       "        <td id=\"T_92852d14_1575_11e8_8078_809648ae3d8crow2_col7\" class=\"data row2 col7\" >1</td> \n",
       "        <td id=\"T_92852d14_1575_11e8_8078_809648ae3d8crow2_col8\" class=\"data row2 col8\" >4</td> \n",
       "        <td id=\"T_92852d14_1575_11e8_8078_809648ae3d8crow2_col9\" class=\"data row2 col9\" >2</td> \n",
       "        <td id=\"T_92852d14_1575_11e8_8078_809648ae3d8crow2_col10\" class=\"data row2 col10\" >0</td> \n",
       "        <td id=\"T_92852d14_1575_11e8_8078_809648ae3d8crow2_col11\" class=\"data row2 col11\" >468</td> \n",
       "    </tr>    <tr> \n",
       "        <th id=\"T_92852d14_1575_11e8_8078_809648ae3d8clevel1_row3\" class=\"row_heading level1 row3\" >1</th> \n",
       "        <td id=\"T_92852d14_1575_11e8_8078_809648ae3d8crow3_col0\" class=\"data row3 col0\" >23</td> \n",
       "        <td id=\"T_92852d14_1575_11e8_8078_809648ae3d8crow3_col1\" class=\"data row3 col1\" >17</td> \n",
       "        <td id=\"T_92852d14_1575_11e8_8078_809648ae3d8crow3_col2\" class=\"data row3 col2\" >42</td> \n",
       "        <td id=\"T_92852d14_1575_11e8_8078_809648ae3d8crow3_col3\" class=\"data row3 col3\" >15</td> \n",
       "        <td id=\"T_92852d14_1575_11e8_8078_809648ae3d8crow3_col4\" class=\"data row3 col4\" >0</td> \n",
       "        <td id=\"T_92852d14_1575_11e8_8078_809648ae3d8crow3_col5\" class=\"data row3 col5\" >5</td> \n",
       "        <td id=\"T_92852d14_1575_11e8_8078_809648ae3d8crow3_col6\" class=\"data row3 col6\" >4</td> \n",
       "        <td id=\"T_92852d14_1575_11e8_8078_809648ae3d8crow3_col7\" class=\"data row3 col7\" >1</td> \n",
       "        <td id=\"T_92852d14_1575_11e8_8078_809648ae3d8crow3_col8\" class=\"data row3 col8\" >0</td> \n",
       "        <td id=\"T_92852d14_1575_11e8_8078_809648ae3d8crow3_col9\" class=\"data row3 col9\" >0</td> \n",
       "        <td id=\"T_92852d14_1575_11e8_8078_809648ae3d8crow3_col10\" class=\"data row3 col10\" >2</td> \n",
       "        <td id=\"T_92852d14_1575_11e8_8078_809648ae3d8crow3_col11\" class=\"data row3 col11\" >109</td> \n",
       "    </tr>    <tr> \n",
       "        <th id=\"T_92852d14_1575_11e8_8078_809648ae3d8clevel0_row4\" class=\"row_heading level0 row4\" >All</th> \n",
       "        <th id=\"T_92852d14_1575_11e8_8078_809648ae3d8clevel1_row4\" class=\"row_heading level1 row4\" ></th> \n",
       "        <td id=\"T_92852d14_1575_11e8_8078_809648ae3d8crow4_col0\" class=\"data row4 col0\" >77</td> \n",
       "        <td id=\"T_92852d14_1575_11e8_8078_809648ae3d8crow4_col1\" class=\"data row4 col1\" >177</td> \n",
       "        <td id=\"T_92852d14_1575_11e8_8078_809648ae3d8crow4_col2\" class=\"data row4 col2\" >477</td> \n",
       "        <td id=\"T_92852d14_1575_11e8_8078_809648ae3d8crow4_col3\" class=\"data row4 col3\" >86</td> \n",
       "        <td id=\"T_92852d14_1575_11e8_8078_809648ae3d8crow4_col4\" class=\"data row4 col4\" >7</td> \n",
       "        <td id=\"T_92852d14_1575_11e8_8078_809648ae3d8crow4_col5\" class=\"data row4 col5\" >14</td> \n",
       "        <td id=\"T_92852d14_1575_11e8_8078_809648ae3d8crow4_col6\" class=\"data row4 col6\" >24</td> \n",
       "        <td id=\"T_92852d14_1575_11e8_8078_809648ae3d8crow4_col7\" class=\"data row4 col7\" >9</td> \n",
       "        <td id=\"T_92852d14_1575_11e8_8078_809648ae3d8crow4_col8\" class=\"data row4 col8\" >11</td> \n",
       "        <td id=\"T_92852d14_1575_11e8_8078_809648ae3d8crow4_col9\" class=\"data row4 col9\" >6</td> \n",
       "        <td id=\"T_92852d14_1575_11e8_8078_809648ae3d8crow4_col10\" class=\"data row4 col10\" >3</td> \n",
       "        <td id=\"T_92852d14_1575_11e8_8078_809648ae3d8crow4_col11\" class=\"data row4 col11\" >891</td> \n",
       "    </tr></tbody> \n",
       "</table> "
      ],
      "text/plain": [
       "<pandas.io.formats.style.Styler at 0x1b930ab1a90>"
      ]
     },
     "execution_count": 66,
     "metadata": {},
     "output_type": "execute_result"
    }
   ],
   "source": [
    "pd.crosstab([df.Sex, df.Survived], [df.Fare_bin, df.Pclass], margins=True).style.background_gradient(cmap='autumn_r')"
   ]
  },
  {
   "cell_type": "code",
   "execution_count": 67,
   "metadata": {},
   "outputs": [
    {
     "data": {
      "image/png": "[encoded data removed]",
      "text/plain": [
       "<matplotlib.figure.Figure at 0x1b92e8ba748>"
      ]
     },
     "metadata": {},
     "output_type": "display_data"
    }
   ],
   "source": [
    "sns.factorplot('Fare_bin','Survived', col='Pclass' , row = 'Sex', data=df)\n",
    "plt.show()"
   ]
  },
  {
   "cell_type": "code",
   "execution_count": 68,
   "metadata": {
    "collapsed": true
   },
   "outputs": [],
   "source": [
    "df_test = test.copy()"
   ]
  },
  {
   "cell_type": "code",
   "execution_count": 69,
   "metadata": {},
   "outputs": [
    {
     "data": {
      "text/html": [
       "<div>\n",
       "<style scoped>\n",
       "    .dataframe tbody tr th:only-of-type {\n",
       "        vertical-align: middle;\n",
       "    }\n",
       "\n",
       "    .dataframe tbody tr th {\n",
       "        vertical-align: top;\n",
       "    }\n",
       "\n",
       "    .dataframe thead th {\n",
       "        text-align: right;\n",
       "    }\n",
       "</style>\n",
       "<table border=\"1\" class=\"dataframe\">\n",
       "  <thead>\n",
       "    <tr style=\"text-align: right;\">\n",
       "      <th></th>\n",
       "      <th>PassengerId</th>\n",
       "      <th>Pclass</th>\n",
       "      <th>Name</th>\n",
       "      <th>Sex</th>\n",
       "      <th>Age</th>\n",
       "      <th>SibSp</th>\n",
       "      <th>Parch</th>\n",
       "      <th>Ticket</th>\n",
       "      <th>Fare</th>\n",
       "      <th>Cabin</th>\n",
       "      <th>Embarked</th>\n",
       "      <th>Age_bin</th>\n",
       "      <th>Fare_bin</th>\n",
       "    </tr>\n",
       "  </thead>\n",
       "  <tbody>\n",
       "    <tr>\n",
       "      <th>0</th>\n",
       "      <td>892</td>\n",
       "      <td>3</td>\n",
       "      <td>Kelly, Mr. James</td>\n",
       "      <td>male</td>\n",
       "      <td>34.5</td>\n",
       "      <td>0</td>\n",
       "      <td>0</td>\n",
       "      <td>330911</td>\n",
       "      <td>7.8292</td>\n",
       "      <td>NaN</td>\n",
       "      <td>Q</td>\n",
       "      <td>4.0</td>\n",
       "      <td>1.0</td>\n",
       "    </tr>\n",
       "    <tr>\n",
       "      <th>1</th>\n",
       "      <td>893</td>\n",
       "      <td>3</td>\n",
       "      <td>Wilkes, Mrs. James (Ellen Needs)</td>\n",
       "      <td>female</td>\n",
       "      <td>47.0</td>\n",
       "      <td>1</td>\n",
       "      <td>0</td>\n",
       "      <td>363272</td>\n",
       "      <td>7.0000</td>\n",
       "      <td>NaN</td>\n",
       "      <td>S</td>\n",
       "      <td>5.0</td>\n",
       "      <td>2.0</td>\n",
       "    </tr>\n",
       "    <tr>\n",
       "      <th>2</th>\n",
       "      <td>894</td>\n",
       "      <td>2</td>\n",
       "      <td>Myles, Mr. Thomas Francis</td>\n",
       "      <td>male</td>\n",
       "      <td>62.0</td>\n",
       "      <td>0</td>\n",
       "      <td>0</td>\n",
       "      <td>240276</td>\n",
       "      <td>9.6875</td>\n",
       "      <td>NaN</td>\n",
       "      <td>Q</td>\n",
       "      <td>7.0</td>\n",
       "      <td>1.0</td>\n",
       "    </tr>\n",
       "    <tr>\n",
       "      <th>3</th>\n",
       "      <td>895</td>\n",
       "      <td>3</td>\n",
       "      <td>Wirz, Mr. Albert</td>\n",
       "      <td>male</td>\n",
       "      <td>27.0</td>\n",
       "      <td>0</td>\n",
       "      <td>0</td>\n",
       "      <td>315154</td>\n",
       "      <td>8.6625</td>\n",
       "      <td>NaN</td>\n",
       "      <td>S</td>\n",
       "      <td>3.0</td>\n",
       "      <td>2.0</td>\n",
       "    </tr>\n",
       "    <tr>\n",
       "      <th>4</th>\n",
       "      <td>896</td>\n",
       "      <td>3</td>\n",
       "      <td>Hirvonen, Mrs. Alexander (Helga E Lindqvist)</td>\n",
       "      <td>female</td>\n",
       "      <td>22.0</td>\n",
       "      <td>1</td>\n",
       "      <td>1</td>\n",
       "      <td>3101298</td>\n",
       "      <td>12.2875</td>\n",
       "      <td>NaN</td>\n",
       "      <td>S</td>\n",
       "      <td>3.0</td>\n",
       "      <td>1.0</td>\n",
       "    </tr>\n",
       "  </tbody>\n",
       "</table>\n",
       "</div>"
      ],
      "text/plain": [
       "   PassengerId  Pclass                                          Name     Sex  \\\n",
       "0          892       3                              Kelly, Mr. James    male   \n",
       "1          893       3              Wilkes, Mrs. James (Ellen Needs)  female   \n",
       "2          894       2                     Myles, Mr. Thomas Francis    male   \n",
       "3          895       3                              Wirz, Mr. Albert    male   \n",
       "4          896       3  Hirvonen, Mrs. Alexander (Helga E Lindqvist)  female   \n",
       "\n",
       "    Age  SibSp  Parch   Ticket     Fare Cabin Embarked  Age_bin  Fare_bin  \n",
       "0  34.5      0      0   330911   7.8292   NaN        Q      4.0       1.0  \n",
       "1  47.0      1      0   363272   7.0000   NaN        S      5.0       2.0  \n",
       "2  62.0      0      0   240276   9.6875   NaN        Q      7.0       1.0  \n",
       "3  27.0      0      0   315154   8.6625   NaN        S      3.0       2.0  \n",
       "4  22.0      1      1  3101298  12.2875   NaN        S      3.0       1.0  "
      ]
     },
     "execution_count": 69,
     "metadata": {},
     "output_type": "execute_result"
    }
   ],
   "source": [
    "df_test.head()"
   ]
  },
  {
   "cell_type": "code",
   "execution_count": 70,
   "metadata": {},
   "outputs": [
    {
     "data": {
      "text/html": [
       "<div>\n",
       "<style scoped>\n",
       "    .dataframe tbody tr th:only-of-type {\n",
       "        vertical-align: middle;\n",
       "    }\n",
       "\n",
       "    .dataframe tbody tr th {\n",
       "        vertical-align: top;\n",
       "    }\n",
       "\n",
       "    .dataframe thead th {\n",
       "        text-align: right;\n",
       "    }\n",
       "</style>\n",
       "<table border=\"1\" class=\"dataframe\">\n",
       "  <thead>\n",
       "    <tr style=\"text-align: right;\">\n",
       "      <th></th>\n",
       "      <th>Survived</th>\n",
       "      <th>Pclass</th>\n",
       "      <th>SibSp</th>\n",
       "      <th>Parch</th>\n",
       "      <th>Sex_bool</th>\n",
       "      <th>Embarked_bool</th>\n",
       "      <th>Age_bin</th>\n",
       "      <th>Fare_bin</th>\n",
       "    </tr>\n",
       "  </thead>\n",
       "  <tbody>\n",
       "    <tr>\n",
       "      <th>0</th>\n",
       "      <td>0</td>\n",
       "      <td>3</td>\n",
       "      <td>1</td>\n",
       "      <td>0</td>\n",
       "      <td>1</td>\n",
       "      <td>0.0</td>\n",
       "      <td>3.0</td>\n",
       "      <td>1.0</td>\n",
       "    </tr>\n",
       "    <tr>\n",
       "      <th>1</th>\n",
       "      <td>1</td>\n",
       "      <td>1</td>\n",
       "      <td>1</td>\n",
       "      <td>0</td>\n",
       "      <td>0</td>\n",
       "      <td>1.0</td>\n",
       "      <td>4.0</td>\n",
       "      <td>2.0</td>\n",
       "    </tr>\n",
       "    <tr>\n",
       "      <th>2</th>\n",
       "      <td>1</td>\n",
       "      <td>3</td>\n",
       "      <td>0</td>\n",
       "      <td>0</td>\n",
       "      <td>0</td>\n",
       "      <td>0.0</td>\n",
       "      <td>3.0</td>\n",
       "      <td>1.0</td>\n",
       "    </tr>\n",
       "    <tr>\n",
       "      <th>3</th>\n",
       "      <td>1</td>\n",
       "      <td>1</td>\n",
       "      <td>1</td>\n",
       "      <td>0</td>\n",
       "      <td>0</td>\n",
       "      <td>0.0</td>\n",
       "      <td>4.0</td>\n",
       "      <td>2.0</td>\n",
       "    </tr>\n",
       "    <tr>\n",
       "      <th>4</th>\n",
       "      <td>0</td>\n",
       "      <td>3</td>\n",
       "      <td>0</td>\n",
       "      <td>0</td>\n",
       "      <td>1</td>\n",
       "      <td>0.0</td>\n",
       "      <td>4.0</td>\n",
       "      <td>1.0</td>\n",
       "    </tr>\n",
       "  </tbody>\n",
       "</table>\n",
       "</div>"
      ],
      "text/plain": [
       "   Survived  Pclass  SibSp  Parch  Sex_bool  Embarked_bool  Age_bin  Fare_bin\n",
       "0         0       3      1      0         1            0.0      3.0       1.0\n",
       "1         1       1      1      0         0            1.0      4.0       2.0\n",
       "2         1       3      0      0         0            0.0      3.0       1.0\n",
       "3         1       1      1      0         0            0.0      4.0       2.0\n",
       "4         0       3      0      0         1            0.0      4.0       1.0"
      ]
     },
     "execution_count": 70,
     "metadata": {},
     "output_type": "execute_result"
    }
   ],
   "source": [
    "df.drop(['PassengerId','Sex','Embarked','Name','Ticket', 'Cabin', 'Age', 'Fare'],axis=1,inplace=True)\n",
    "df.head()"
   ]
  },
  {
   "cell_type": "code",
   "execution_count": 71,
   "metadata": {},
   "outputs": [
    {
     "data": {
      "text/html": [
       "<div>\n",
       "<style scoped>\n",
       "    .dataframe tbody tr th:only-of-type {\n",
       "        vertical-align: middle;\n",
       "    }\n",
       "\n",
       "    .dataframe tbody tr th {\n",
       "        vertical-align: top;\n",
       "    }\n",
       "\n",
       "    .dataframe thead th {\n",
       "        text-align: right;\n",
       "    }\n",
       "</style>\n",
       "<table border=\"1\" class=\"dataframe\">\n",
       "  <thead>\n",
       "    <tr style=\"text-align: right;\">\n",
       "      <th></th>\n",
       "      <th>Pclass</th>\n",
       "      <th>SibSp</th>\n",
       "      <th>Parch</th>\n",
       "      <th>Age_bin</th>\n",
       "      <th>Fare_bin</th>\n",
       "      <th>Sex_bool</th>\n",
       "      <th>Embarked_bool</th>\n",
       "    </tr>\n",
       "  </thead>\n",
       "  <tbody>\n",
       "    <tr>\n",
       "      <th>0</th>\n",
       "      <td>3</td>\n",
       "      <td>0</td>\n",
       "      <td>0</td>\n",
       "      <td>4.0</td>\n",
       "      <td>1.0</td>\n",
       "      <td>1</td>\n",
       "      <td>2</td>\n",
       "    </tr>\n",
       "    <tr>\n",
       "      <th>1</th>\n",
       "      <td>3</td>\n",
       "      <td>1</td>\n",
       "      <td>0</td>\n",
       "      <td>5.0</td>\n",
       "      <td>2.0</td>\n",
       "      <td>0</td>\n",
       "      <td>0</td>\n",
       "    </tr>\n",
       "    <tr>\n",
       "      <th>2</th>\n",
       "      <td>2</td>\n",
       "      <td>0</td>\n",
       "      <td>0</td>\n",
       "      <td>7.0</td>\n",
       "      <td>1.0</td>\n",
       "      <td>1</td>\n",
       "      <td>2</td>\n",
       "    </tr>\n",
       "    <tr>\n",
       "      <th>3</th>\n",
       "      <td>3</td>\n",
       "      <td>0</td>\n",
       "      <td>0</td>\n",
       "      <td>3.0</td>\n",
       "      <td>2.0</td>\n",
       "      <td>1</td>\n",
       "      <td>0</td>\n",
       "    </tr>\n",
       "    <tr>\n",
       "      <th>4</th>\n",
       "      <td>3</td>\n",
       "      <td>1</td>\n",
       "      <td>1</td>\n",
       "      <td>3.0</td>\n",
       "      <td>1.0</td>\n",
       "      <td>0</td>\n",
       "      <td>0</td>\n",
       "    </tr>\n",
       "  </tbody>\n",
       "</table>\n",
       "</div>"
      ],
      "text/plain": [
       "   Pclass  SibSp  Parch  Age_bin  Fare_bin  Sex_bool  Embarked_bool\n",
       "0       3      0      0      4.0       1.0         1              2\n",
       "1       3      1      0      5.0       2.0         0              0\n",
       "2       2      0      0      7.0       1.0         1              2\n",
       "3       3      0      0      3.0       2.0         1              0\n",
       "4       3      1      1      3.0       1.0         0              0"
      ]
     },
     "execution_count": 71,
     "metadata": {},
     "output_type": "execute_result"
    }
   ],
   "source": [
    "context1 = {\"female\":0 , \"male\":1}\n",
    "context2 = {\"S\":0 , \"C\":1 , \"Q\":2}\n",
    "df_test['Sex_bool']=df_test.Sex.map(context1)\n",
    "df_test[\"Embarked_bool\"] = df_test.Embarked.map(context2)\n",
    "df_test.drop(['PassengerId','Sex','Embarked','Name','Ticket', 'Cabin', 'Age', 'Fare'],axis=1,inplace=True)\n",
    "df_test.head()"
   ]
  },
  {
   "cell_type": "code",
   "execution_count": 72,
   "metadata": {},
   "outputs": [
    {
     "data": {
      "text/plain": [
       "Survived           0\n",
       "Pclass             0\n",
       "SibSp              0\n",
       "Parch              0\n",
       "Sex_bool           0\n",
       "Embarked_bool      2\n",
       "Age_bin          177\n",
       "Fare_bin           0\n",
       "dtype: int64"
      ]
     },
     "execution_count": 72,
     "metadata": {},
     "output_type": "execute_result"
    }
   ],
   "source": [
    "df.isnull().sum()"
   ]
  },
  {
   "cell_type": "code",
   "execution_count": 73,
   "metadata": {},
   "outputs": [
    {
     "data": {
      "text/plain": [
       "Pclass            0\n",
       "SibSp             0\n",
       "Parch             0\n",
       "Age_bin          86\n",
       "Fare_bin          0\n",
       "Sex_bool          0\n",
       "Embarked_bool     0\n",
       "dtype: int64"
      ]
     },
     "execution_count": 73,
     "metadata": {},
     "output_type": "execute_result"
    }
   ],
   "source": [
    "df_test.isnull().sum()"
   ]
  },
  {
   "cell_type": "code",
   "execution_count": 74,
   "metadata": {
    "collapsed": true
   },
   "outputs": [],
   "source": [
    "#  Age_bin in both dataframes is still possessing null values"
   ]
  },
  {
   "cell_type": "code",
   "execution_count": 75,
   "metadata": {
    "collapsed": true
   },
   "outputs": [],
   "source": [
    "df_test.Age_bin.fillna(df_test.Age_bin.mean() , inplace=True)"
   ]
  },
  {
   "cell_type": "code",
   "execution_count": 76,
   "metadata": {
    "collapsed": true
   },
   "outputs": [],
   "source": [
    "df.Age_bin.fillna(df.Age_bin.mean() , inplace=True)"
   ]
  },
  {
   "cell_type": "code",
   "execution_count": 77,
   "metadata": {
    "collapsed": true
   },
   "outputs": [],
   "source": [
    "df.Embarked_bool.fillna(df.Embarked_bool.mean() , inplace=True)"
   ]
  },
  {
   "cell_type": "code",
   "execution_count": 78,
   "metadata": {
    "collapsed": true
   },
   "outputs": [],
   "source": [
    "X_train, X_test, y_train, y_test = train_test_split(df.drop('Survived',axis=1), df['Survived'], test_size=0.3, random_state=101)"
   ]
  },
  {
   "cell_type": "code",
   "execution_count": 79,
   "metadata": {
    "collapsed": true
   },
   "outputs": [],
   "source": [
    "MLA = []\n",
    "x = [LinearSVC() , DecisionTreeClassifier() , LogisticRegression() , KNeighborsClassifier() , GaussianNB() ,\n",
    "    RandomForestClassifier() , GradientBoostingClassifier()]\n",
    "\n",
    "X = [\"LinearSVC\" , \"DecisionTreeClassifier\" , \"LogisticRegression\" , \"KNeighborsClassifier\" , \"GaussianNB\" ,\n",
    "    \"RandomForestClassifier\" , \"GradientBoostingClassifier\"]\n",
    "\n",
    "for i in range(0,len(x)):\n",
    "    model = x[i]\n",
    "    model.fit( X_train , y_train )\n",
    "    pred = model.predict(X_test)\n",
    "    MLA.append(accuracy_score(pred , y_test))"
   ]
  },
  {
   "cell_type": "code",
   "execution_count": 80,
   "metadata": {},
   "outputs": [
    {
     "data": {
      "text/plain": [
       "[0.77611940298507465,\n",
       " 0.79850746268656714,\n",
       " 0.77611940298507465,\n",
       " 0.79477611940298509,\n",
       " 0.75,\n",
       " 0.78731343283582089,\n",
       " 0.80223880597014929]"
      ]
     },
     "execution_count": 80,
     "metadata": {},
     "output_type": "execute_result"
    }
   ],
   "source": [
    "MLA"
   ]
  },
  {
   "cell_type": "code",
   "execution_count": 81,
   "metadata": {},
   "outputs": [
    {
     "data": {
      "text/plain": [
       "<matplotlib.axes._subplots.AxesSubplot at 0x1b931468860>"
      ]
     },
     "execution_count": 81,
     "metadata": {},
     "output_type": "execute_result"
    },
    {
     "data": {
      "image/png": "[encoded data removed]",
      "text/plain": [
       "<matplotlib.figure.Figure at 0x1b93142f630>"
      ]
     },
     "metadata": {},
     "output_type": "display_data"
    }
   ],
   "source": [
    "sns.kdeplot(MLA , shade=True, color=\"red\")"
   ]
  },
  {
   "cell_type": "code",
   "execution_count": 82,
   "metadata": {
    "collapsed": true
   },
   "outputs": [],
   "source": [
    "#  this proves that much of the algorithms are giving the accuracy between 77 % to 80 % with some above 80 % .\n",
    "#  thats a pretty much good estimation "
   ]
  },
  {
   "cell_type": "code",
   "execution_count": 83,
   "metadata": {
    "collapsed": true
   },
   "outputs": [],
   "source": [
    "d = { \"Accuracy\" : MLA , \"Algorithm\" : X }\n",
    "dfm = pd.DataFrame(d)"
   ]
  },
  {
   "cell_type": "code",
   "execution_count": 84,
   "metadata": {
    "collapsed": true
   },
   "outputs": [],
   "source": [
    "# making a dataframe of the list of accuracies calculated above"
   ]
  },
  {
   "cell_type": "code",
   "execution_count": 85,
   "metadata": {},
   "outputs": [
    {
     "data": {
      "text/html": [
       "<div>\n",
       "<style scoped>\n",
       "    .dataframe tbody tr th:only-of-type {\n",
       "        vertical-align: middle;\n",
       "    }\n",
       "\n",
       "    .dataframe tbody tr th {\n",
       "        vertical-align: top;\n",
       "    }\n",
       "\n",
       "    .dataframe thead th {\n",
       "        text-align: right;\n",
       "    }\n",
       "</style>\n",
       "<table border=\"1\" class=\"dataframe\">\n",
       "  <thead>\n",
       "    <tr style=\"text-align: right;\">\n",
       "      <th></th>\n",
       "      <th>Accuracy</th>\n",
       "      <th>Algorithm</th>\n",
       "    </tr>\n",
       "  </thead>\n",
       "  <tbody>\n",
       "    <tr>\n",
       "      <th>0</th>\n",
       "      <td>0.776119</td>\n",
       "      <td>LinearSVC</td>\n",
       "    </tr>\n",
       "    <tr>\n",
       "      <th>1</th>\n",
       "      <td>0.798507</td>\n",
       "      <td>DecisionTreeClassifier</td>\n",
       "    </tr>\n",
       "    <tr>\n",
       "      <th>2</th>\n",
       "      <td>0.776119</td>\n",
       "      <td>LogisticRegression</td>\n",
       "    </tr>\n",
       "    <tr>\n",
       "      <th>3</th>\n",
       "      <td>0.794776</td>\n",
       "      <td>KNeighborsClassifier</td>\n",
       "    </tr>\n",
       "    <tr>\n",
       "      <th>4</th>\n",
       "      <td>0.750000</td>\n",
       "      <td>GaussianNB</td>\n",
       "    </tr>\n",
       "    <tr>\n",
       "      <th>5</th>\n",
       "      <td>0.787313</td>\n",
       "      <td>RandomForestClassifier</td>\n",
       "    </tr>\n",
       "    <tr>\n",
       "      <th>6</th>\n",
       "      <td>0.802239</td>\n",
       "      <td>GradientBoostingClassifier</td>\n",
       "    </tr>\n",
       "  </tbody>\n",
       "</table>\n",
       "</div>"
      ],
      "text/plain": [
       "   Accuracy                   Algorithm\n",
       "0  0.776119                   LinearSVC\n",
       "1  0.798507      DecisionTreeClassifier\n",
       "2  0.776119          LogisticRegression\n",
       "3  0.794776        KNeighborsClassifier\n",
       "4  0.750000                  GaussianNB\n",
       "5  0.787313      RandomForestClassifier\n",
       "6  0.802239  GradientBoostingClassifier"
      ]
     },
     "execution_count": 85,
     "metadata": {},
     "output_type": "execute_result"
    }
   ],
   "source": [
    "dfm   # a dataframe wilh all accuracies and their corresponding algorithm name"
   ]
  },
  {
   "cell_type": "code",
   "execution_count": 86,
   "metadata": {},
   "outputs": [
    {
     "data": {
      "text/plain": [
       "<matplotlib.axes._subplots.AxesSubplot at 0x1b931468e10>"
      ]
     },
     "execution_count": 86,
     "metadata": {},
     "output_type": "execute_result"
    },
    {
     "data": {
      "image/png": "[encoded data removed]",
      "text/plain": [
       "<matplotlib.figure.Figure at 0x1b931481f28>"
      ]
     },
     "metadata": {},
     "output_type": "display_data"
    }
   ],
   "source": [
    "sns.barplot(x=\"Accuracy\", y=\"Algorithm\", data=dfm)"
   ]
  },
  {
   "cell_type": "code",
   "execution_count": 87,
   "metadata": {},
   "outputs": [
    {
     "data": {
      "text/plain": [
       "KNeighborsClassifier(algorithm='auto', leaf_size=30, metric='minkowski',\n",
       "           metric_params=None, n_jobs=1, n_neighbors=6, p=2,\n",
       "           weights='uniform')"
      ]
     },
     "execution_count": 87,
     "metadata": {},
     "output_type": "execute_result"
    }
   ],
   "source": [
    "X_train, X_test, y_train, y_test = train_test_split(df.drop('Survived',axis=1), df['Survived'], test_size=0.3, random_state=66)\n",
    "model = KNeighborsClassifier(n_neighbors=6)\n",
    "model.fit( X_train , y_train )"
   ]
  },
  {
   "cell_type": "code",
   "execution_count": 88,
   "metadata": {
    "collapsed": true
   },
   "outputs": [],
   "source": [
    "pred = model.predict(X_test)"
   ]
  },
  {
   "cell_type": "code",
   "execution_count": 89,
   "metadata": {
    "collapsed": true
   },
   "outputs": [],
   "source": [
    "answer = model.predict(df_test)"
   ]
  },
  {
   "cell_type": "code",
   "execution_count": 90,
   "metadata": {},
   "outputs": [
    {
     "name": "stdout",
     "output_type": "stream",
     "text": [
      "0.850746268657\n"
     ]
    }
   ],
   "source": [
    "print (accuracy_score(pred , y_test))"
   ]
  },
  {
   "cell_type": "markdown",
   "metadata": {},
   "source": [
    "# So , the accuracy turns out to be 85.074 % with n-neighbors = 6,\n",
    "# lets check for other n-neighbors ."
   ]
  },
  {
   "cell_type": "code",
   "execution_count": 91,
   "metadata": {
    "collapsed": true
   },
   "outputs": [],
   "source": [
    "#  lets check it till 30 neighbours that which has got the maximum accuracy score\n",
    "\n",
    "KNNaccu = []\n",
    "Neighbours = []\n",
    "\n",
    "for neighbour in range(1,31):\n",
    "    model = KNeighborsClassifier(n_neighbors=neighbour)\n",
    "    model.fit( X_train , y_train )\n",
    "    pred = model.predict(X_test)\n",
    "    KNNaccu.append(accuracy_score(pred , y_test))\n",
    "    Neighbours.append(neighbour)"
   ]
  },
  {
   "cell_type": "code",
   "execution_count": 92,
   "metadata": {
    "collapsed": true
   },
   "outputs": [],
   "source": [
    "d = { \"Neighbours\" : Neighbours , \"Accuracy\" : KNNaccu }\n",
    "knndf = pd.DataFrame(d)"
   ]
  },
  {
   "cell_type": "code",
   "execution_count": 93,
   "metadata": {},
   "outputs": [
    {
     "data": {
      "text/html": [
       "<div>\n",
       "<style scoped>\n",
       "    .dataframe tbody tr th:only-of-type {\n",
       "        vertical-align: middle;\n",
       "    }\n",
       "\n",
       "    .dataframe tbody tr th {\n",
       "        vertical-align: top;\n",
       "    }\n",
       "\n",
       "    .dataframe thead th {\n",
       "        text-align: right;\n",
       "    }\n",
       "</style>\n",
       "<table border=\"1\" class=\"dataframe\">\n",
       "  <thead>\n",
       "    <tr style=\"text-align: right;\">\n",
       "      <th></th>\n",
       "      <th>Accuracy</th>\n",
       "      <th>Neighbours</th>\n",
       "    </tr>\n",
       "  </thead>\n",
       "  <tbody>\n",
       "    <tr>\n",
       "      <th>0</th>\n",
       "      <td>0.809701</td>\n",
       "      <td>1</td>\n",
       "    </tr>\n",
       "    <tr>\n",
       "      <th>1</th>\n",
       "      <td>0.828358</td>\n",
       "      <td>2</td>\n",
       "    </tr>\n",
       "    <tr>\n",
       "      <th>2</th>\n",
       "      <td>0.832090</td>\n",
       "      <td>3</td>\n",
       "    </tr>\n",
       "    <tr>\n",
       "      <th>3</th>\n",
       "      <td>0.847015</td>\n",
       "      <td>4</td>\n",
       "    </tr>\n",
       "    <tr>\n",
       "      <th>4</th>\n",
       "      <td>0.832090</td>\n",
       "      <td>5</td>\n",
       "    </tr>\n",
       "  </tbody>\n",
       "</table>\n",
       "</div>"
      ],
      "text/plain": [
       "   Accuracy  Neighbours\n",
       "0  0.809701           1\n",
       "1  0.828358           2\n",
       "2  0.832090           3\n",
       "3  0.847015           4\n",
       "4  0.832090           5"
      ]
     },
     "execution_count": 93,
     "metadata": {},
     "output_type": "execute_result"
    }
   ],
   "source": [
    "knndf.head()"
   ]
  },
  {
   "cell_type": "code",
   "execution_count": 94,
   "metadata": {},
   "outputs": [
    {
     "data": {
      "text/plain": [
       "<seaborn.axisgrid.FacetGrid at 0x1b9316c77f0>"
      ]
     },
     "execution_count": 94,
     "metadata": {},
     "output_type": "execute_result"
    },
    {
     "data": {
      "image/png": "[encoded data removed]",
      "text/plain": [
       "<matplotlib.figure.Figure at 0x1b931c028d0>"
      ]
     },
     "metadata": {},
     "output_type": "display_data"
    }
   ],
   "source": [
    "sns.factorplot(x=\"Neighbours\", y=\"Accuracy\",size = 5 , aspect = 2 , data=knndf)"
   ]
  },
  {
   "cell_type": "markdown",
   "metadata": {},
   "source": [
    "###  This states that for Neighbours = 6 , the accuracy is the maximum  ."
   ]
  },
  {
   "cell_type": "code",
   "execution_count": 95,
   "metadata": {
    "collapsed": true
   },
   "outputs": [],
   "source": [
    "#  making a csv file of the predictions"
   ]
  },
  {
   "cell_type": "code",
   "execution_count": 96,
   "metadata": {
    "collapsed": true
   },
   "outputs": [],
   "source": [
    "d = { \"PassengerId\":test.PassengerId , \"Survived\":answer }\n",
    "final = pd.DataFrame(d)\n",
    "final.to_csv( 'titanic_again.csv' , index = False )"
   ]
  },
  {
   "cell_type": "markdown",
   "metadata": {},
   "source": [
    "#  \n",
    "##  THANK YOU"
   ]
  },
  {
   "cell_type": "code",
   "execution_count": null,
   "metadata": {
    "collapsed": true
   },
   "outputs": [],
   "source": []
  }
 ],
 "metadata": {
  "kernelspec": {
   "display_name": "Python 3",
   "language": "python",
   "name": "python3"
  },
  "language_info": {
   "codemirror_mode": {
    "name": "ipython",
    "version": 3
   },
   "file_extension": ".py",
   "mimetype": "text/x-python",
   "name": "python",
   "nbconvert_exporter": "python",
   "pygments_lexer": "ipython3",
   "version": "3.6.3"
  }
 },
 "nbformat": 4,
 "nbformat_minor": 2
}
